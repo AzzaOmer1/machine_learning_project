{
  "cells": [
    {
      "cell_type": "markdown",
      "metadata": {
        "id": "view-in-github",
        "colab_type": "text"
      },
      "source": [
        "<a href=\"https://colab.research.google.com/github/AzzaOmer1/The-Saviour/blob/main/FinalCoding.ipynb\" target=\"_parent\"><img src=\"https://colab.research.google.com/assets/colab-badge.svg\" alt=\"Open In Colab\"/></a>"
      ]
    },
    {
      "cell_type": "markdown",
      "metadata": {
        "id": "io0eErKY9mJ4"
      },
      "source": [
        "#Import Libraries"
      ]
    },
    {
      "cell_type": "code",
      "execution_count": null,
      "metadata": {
        "colab": {
          "base_uri": "https://localhost:8080/"
        },
        "id": "CoaBZWkblLXL",
        "outputId": "301a593c-fd8a-4486-91b9-21f6a40f886d"
      },
      "outputs": [
        {
          "output_type": "stream",
          "name": "stdout",
          "text": [
            "Looking in indexes: https://pypi.org/simple, https://us-python.pkg.dev/colab-wheels/public/simple/\n",
            "Requirement already satisfied: catboost in /usr/local/lib/python3.8/dist-packages (1.1.1)\n",
            "Requirement already satisfied: plotly in /usr/local/lib/python3.8/dist-packages (from catboost) (5.5.0)\n",
            "Requirement already satisfied: matplotlib in /usr/local/lib/python3.8/dist-packages (from catboost) (3.2.2)\n",
            "Requirement already satisfied: graphviz in /usr/local/lib/python3.8/dist-packages (from catboost) (0.10.1)\n",
            "Requirement already satisfied: pandas>=0.24.0 in /usr/local/lib/python3.8/dist-packages (from catboost) (1.3.5)\n",
            "Requirement already satisfied: scipy in /usr/local/lib/python3.8/dist-packages (from catboost) (1.7.3)\n",
            "Requirement already satisfied: six in /usr/local/lib/python3.8/dist-packages (from catboost) (1.15.0)\n",
            "Requirement already satisfied: numpy>=1.16.0 in /usr/local/lib/python3.8/dist-packages (from catboost) (1.21.6)\n",
            "Requirement already satisfied: python-dateutil>=2.7.3 in /usr/local/lib/python3.8/dist-packages (from pandas>=0.24.0->catboost) (2.8.2)\n",
            "Requirement already satisfied: pytz>=2017.3 in /usr/local/lib/python3.8/dist-packages (from pandas>=0.24.0->catboost) (2022.7.1)\n",
            "Requirement already satisfied: kiwisolver>=1.0.1 in /usr/local/lib/python3.8/dist-packages (from matplotlib->catboost) (1.4.4)\n",
            "Requirement already satisfied: pyparsing!=2.0.4,!=2.1.2,!=2.1.6,>=2.0.1 in /usr/local/lib/python3.8/dist-packages (from matplotlib->catboost) (3.0.9)\n",
            "Requirement already satisfied: cycler>=0.10 in /usr/local/lib/python3.8/dist-packages (from matplotlib->catboost) (0.11.0)\n",
            "Requirement already satisfied: tenacity>=6.2.0 in /usr/local/lib/python3.8/dist-packages (from plotly->catboost) (8.1.0)\n"
          ]
        }
      ],
      "source": [
        "import numpy as np #linear algebra\n",
        "import pandas as pd #data processing\n",
        "pd.set_option('display.max_columns', None) #display all columns\n",
        "import plotly.express as px #visualization library\n",
        "import matplotlib.pyplot as plt #visualization library\n",
        "import seaborn as sns\n",
        "import statsmodels.api as sm\n",
        "import statsmodels.formula.api as smf\n",
        "from sklearn.preprocessing import MinMaxScaler\n",
        "from sklearn.preprocessing import LabelEncoder\n",
        "from sklearn.model_selection import train_test_split\n",
        "from sklearn.linear_model import LogisticRegression\n",
        "from sklearn.ensemble import GradientBoostingClassifier\n",
        "from sklearn.tree import DecisionTreeClassifier\n",
        "from sklearn.model_selection import StratifiedKFold\n",
        "from sklearn.metrics import roc_auc_score\n",
        "from sklearn.svm import SVC\n",
        "!pip install catboost\n",
        "from catboost import CatBoostClassifier\n",
        "from sklearn import preprocessing #models library\n",
        "from sklearn.metrics import roc_auc_score, precision_score, recall_score , f1_score"
      ]
    },
    {
      "cell_type": "markdown",
      "metadata": {
        "id": "G97APaLxeXif"
      },
      "source": [
        "#1 Getting the customer churn data from kaggle"
      ]
    },
    {
      "cell_type": "code",
      "execution_count": null,
      "metadata": {
        "id": "pPsOxQQDlktL"
      },
      "outputs": [],
      "source": [
        "cust_churn_data = pd.read_csv('CCP_data.csv') #importing the customer churn data from the csv file into python"
      ]
    },
    {
      "cell_type": "markdown",
      "metadata": {
        "id": "qMee4AYdm_89"
      },
      "source": [
        "#2 data cleaning and preparation"
      ]
    },
    {
      "cell_type": "code",
      "execution_count": null,
      "metadata": {
        "colab": {
          "base_uri": "https://localhost:8080/",
          "height": 270
        },
        "id": "niv8RIysmerb",
        "outputId": "33419c2d-9fce-484d-ed04-f77a4fd3203b"
      },
      "outputs": [
        {
          "output_type": "execute_result",
          "data": {
            "text/plain": [
              "  state  account_length      area_code international_plan voice_mail_plan  \\\n",
              "0    KS             128  area_code_415                 no             yes   \n",
              "1    AL             118  area_code_510                yes              no   \n",
              "2    IA              62  area_code_415                 no              no   \n",
              "3    VT              93  area_code_510                 no              no   \n",
              "4    NE             174  area_code_415                 no              no   \n",
              "\n",
              "   number_vmail_messages  total_day_minutes  total_day_calls  \\\n",
              "0                     25              265.1              110   \n",
              "1                      0              223.4               98   \n",
              "2                      0              120.7               70   \n",
              "3                      0              190.7              114   \n",
              "4                      0              124.3               76   \n",
              "\n",
              "   total_day_charge  total_eve_minutes  total_eve_calls  total_eve_charge  \\\n",
              "0             45.07              197.4               99             16.78   \n",
              "1             37.98              220.6              101             18.75   \n",
              "2             20.52              307.2               76             26.11   \n",
              "3             32.42              218.2              111             18.55   \n",
              "4             21.13              277.1              112             23.55   \n",
              "\n",
              "   total_night_minutes  total_night_calls  total_night_charge  \\\n",
              "0                244.7                 91               11.01   \n",
              "1                203.9                118                9.18   \n",
              "2                203.0                 99                9.14   \n",
              "3                129.6                121                5.83   \n",
              "4                250.7                115               11.28   \n",
              "\n",
              "   total_intl_minutes  total_intl_calls  total_intl_charge  \\\n",
              "0                10.0                 3               2.70   \n",
              "1                 6.3                 6               1.70   \n",
              "2                13.1                 6               3.54   \n",
              "3                 8.1                 3               2.19   \n",
              "4                15.5                 5               4.19   \n",
              "\n",
              "   number_customer_service_calls churn  \n",
              "0                              1   yes  \n",
              "1                              0    no  \n",
              "2                              4    no  \n",
              "3                              3   yes  \n",
              "4                              3   yes  "
            ],
            "text/html": [
              "\n",
              "  <div id=\"df-e64ca1de-08fe-4cf3-91a4-ce1b3bf43117\">\n",
              "    <div class=\"colab-df-container\">\n",
              "      <div>\n",
              "<style scoped>\n",
              "    .dataframe tbody tr th:only-of-type {\n",
              "        vertical-align: middle;\n",
              "    }\n",
              "\n",
              "    .dataframe tbody tr th {\n",
              "        vertical-align: top;\n",
              "    }\n",
              "\n",
              "    .dataframe thead th {\n",
              "        text-align: right;\n",
              "    }\n",
              "</style>\n",
              "<table border=\"1\" class=\"dataframe\">\n",
              "  <thead>\n",
              "    <tr style=\"text-align: right;\">\n",
              "      <th></th>\n",
              "      <th>state</th>\n",
              "      <th>account_length</th>\n",
              "      <th>area_code</th>\n",
              "      <th>international_plan</th>\n",
              "      <th>voice_mail_plan</th>\n",
              "      <th>number_vmail_messages</th>\n",
              "      <th>total_day_minutes</th>\n",
              "      <th>total_day_calls</th>\n",
              "      <th>total_day_charge</th>\n",
              "      <th>total_eve_minutes</th>\n",
              "      <th>total_eve_calls</th>\n",
              "      <th>total_eve_charge</th>\n",
              "      <th>total_night_minutes</th>\n",
              "      <th>total_night_calls</th>\n",
              "      <th>total_night_charge</th>\n",
              "      <th>total_intl_minutes</th>\n",
              "      <th>total_intl_calls</th>\n",
              "      <th>total_intl_charge</th>\n",
              "      <th>number_customer_service_calls</th>\n",
              "      <th>churn</th>\n",
              "    </tr>\n",
              "  </thead>\n",
              "  <tbody>\n",
              "    <tr>\n",
              "      <th>0</th>\n",
              "      <td>KS</td>\n",
              "      <td>128</td>\n",
              "      <td>area_code_415</td>\n",
              "      <td>no</td>\n",
              "      <td>yes</td>\n",
              "      <td>25</td>\n",
              "      <td>265.1</td>\n",
              "      <td>110</td>\n",
              "      <td>45.07</td>\n",
              "      <td>197.4</td>\n",
              "      <td>99</td>\n",
              "      <td>16.78</td>\n",
              "      <td>244.7</td>\n",
              "      <td>91</td>\n",
              "      <td>11.01</td>\n",
              "      <td>10.0</td>\n",
              "      <td>3</td>\n",
              "      <td>2.70</td>\n",
              "      <td>1</td>\n",
              "      <td>yes</td>\n",
              "    </tr>\n",
              "    <tr>\n",
              "      <th>1</th>\n",
              "      <td>AL</td>\n",
              "      <td>118</td>\n",
              "      <td>area_code_510</td>\n",
              "      <td>yes</td>\n",
              "      <td>no</td>\n",
              "      <td>0</td>\n",
              "      <td>223.4</td>\n",
              "      <td>98</td>\n",
              "      <td>37.98</td>\n",
              "      <td>220.6</td>\n",
              "      <td>101</td>\n",
              "      <td>18.75</td>\n",
              "      <td>203.9</td>\n",
              "      <td>118</td>\n",
              "      <td>9.18</td>\n",
              "      <td>6.3</td>\n",
              "      <td>6</td>\n",
              "      <td>1.70</td>\n",
              "      <td>0</td>\n",
              "      <td>no</td>\n",
              "    </tr>\n",
              "    <tr>\n",
              "      <th>2</th>\n",
              "      <td>IA</td>\n",
              "      <td>62</td>\n",
              "      <td>area_code_415</td>\n",
              "      <td>no</td>\n",
              "      <td>no</td>\n",
              "      <td>0</td>\n",
              "      <td>120.7</td>\n",
              "      <td>70</td>\n",
              "      <td>20.52</td>\n",
              "      <td>307.2</td>\n",
              "      <td>76</td>\n",
              "      <td>26.11</td>\n",
              "      <td>203.0</td>\n",
              "      <td>99</td>\n",
              "      <td>9.14</td>\n",
              "      <td>13.1</td>\n",
              "      <td>6</td>\n",
              "      <td>3.54</td>\n",
              "      <td>4</td>\n",
              "      <td>no</td>\n",
              "    </tr>\n",
              "    <tr>\n",
              "      <th>3</th>\n",
              "      <td>VT</td>\n",
              "      <td>93</td>\n",
              "      <td>area_code_510</td>\n",
              "      <td>no</td>\n",
              "      <td>no</td>\n",
              "      <td>0</td>\n",
              "      <td>190.7</td>\n",
              "      <td>114</td>\n",
              "      <td>32.42</td>\n",
              "      <td>218.2</td>\n",
              "      <td>111</td>\n",
              "      <td>18.55</td>\n",
              "      <td>129.6</td>\n",
              "      <td>121</td>\n",
              "      <td>5.83</td>\n",
              "      <td>8.1</td>\n",
              "      <td>3</td>\n",
              "      <td>2.19</td>\n",
              "      <td>3</td>\n",
              "      <td>yes</td>\n",
              "    </tr>\n",
              "    <tr>\n",
              "      <th>4</th>\n",
              "      <td>NE</td>\n",
              "      <td>174</td>\n",
              "      <td>area_code_415</td>\n",
              "      <td>no</td>\n",
              "      <td>no</td>\n",
              "      <td>0</td>\n",
              "      <td>124.3</td>\n",
              "      <td>76</td>\n",
              "      <td>21.13</td>\n",
              "      <td>277.1</td>\n",
              "      <td>112</td>\n",
              "      <td>23.55</td>\n",
              "      <td>250.7</td>\n",
              "      <td>115</td>\n",
              "      <td>11.28</td>\n",
              "      <td>15.5</td>\n",
              "      <td>5</td>\n",
              "      <td>4.19</td>\n",
              "      <td>3</td>\n",
              "      <td>yes</td>\n",
              "    </tr>\n",
              "  </tbody>\n",
              "</table>\n",
              "</div>\n",
              "      <button class=\"colab-df-convert\" onclick=\"convertToInteractive('df-e64ca1de-08fe-4cf3-91a4-ce1b3bf43117')\"\n",
              "              title=\"Convert this dataframe to an interactive table.\"\n",
              "              style=\"display:none;\">\n",
              "        \n",
              "  <svg xmlns=\"http://www.w3.org/2000/svg\" height=\"24px\"viewBox=\"0 0 24 24\"\n",
              "       width=\"24px\">\n",
              "    <path d=\"M0 0h24v24H0V0z\" fill=\"none\"/>\n",
              "    <path d=\"M18.56 5.44l.94 2.06.94-2.06 2.06-.94-2.06-.94-.94-2.06-.94 2.06-2.06.94zm-11 1L8.5 8.5l.94-2.06 2.06-.94-2.06-.94L8.5 2.5l-.94 2.06-2.06.94zm10 10l.94 2.06.94-2.06 2.06-.94-2.06-.94-.94-2.06-.94 2.06-2.06.94z\"/><path d=\"M17.41 7.96l-1.37-1.37c-.4-.4-.92-.59-1.43-.59-.52 0-1.04.2-1.43.59L10.3 9.45l-7.72 7.72c-.78.78-.78 2.05 0 2.83L4 21.41c.39.39.9.59 1.41.59.51 0 1.02-.2 1.41-.59l7.78-7.78 2.81-2.81c.8-.78.8-2.07 0-2.86zM5.41 20L4 18.59l7.72-7.72 1.47 1.35L5.41 20z\"/>\n",
              "  </svg>\n",
              "      </button>\n",
              "      \n",
              "  <style>\n",
              "    .colab-df-container {\n",
              "      display:flex;\n",
              "      flex-wrap:wrap;\n",
              "      gap: 12px;\n",
              "    }\n",
              "\n",
              "    .colab-df-convert {\n",
              "      background-color: #E8F0FE;\n",
              "      border: none;\n",
              "      border-radius: 50%;\n",
              "      cursor: pointer;\n",
              "      display: none;\n",
              "      fill: #1967D2;\n",
              "      height: 32px;\n",
              "      padding: 0 0 0 0;\n",
              "      width: 32px;\n",
              "    }\n",
              "\n",
              "    .colab-df-convert:hover {\n",
              "      background-color: #E2EBFA;\n",
              "      box-shadow: 0px 1px 2px rgba(60, 64, 67, 0.3), 0px 1px 3px 1px rgba(60, 64, 67, 0.15);\n",
              "      fill: #174EA6;\n",
              "    }\n",
              "\n",
              "    [theme=dark] .colab-df-convert {\n",
              "      background-color: #3B4455;\n",
              "      fill: #D2E3FC;\n",
              "    }\n",
              "\n",
              "    [theme=dark] .colab-df-convert:hover {\n",
              "      background-color: #434B5C;\n",
              "      box-shadow: 0px 1px 3px 1px rgba(0, 0, 0, 0.15);\n",
              "      filter: drop-shadow(0px 1px 2px rgba(0, 0, 0, 0.3));\n",
              "      fill: #FFFFFF;\n",
              "    }\n",
              "  </style>\n",
              "\n",
              "      <script>\n",
              "        const buttonEl =\n",
              "          document.querySelector('#df-e64ca1de-08fe-4cf3-91a4-ce1b3bf43117 button.colab-df-convert');\n",
              "        buttonEl.style.display =\n",
              "          google.colab.kernel.accessAllowed ? 'block' : 'none';\n",
              "\n",
              "        async function convertToInteractive(key) {\n",
              "          const element = document.querySelector('#df-e64ca1de-08fe-4cf3-91a4-ce1b3bf43117');\n",
              "          const dataTable =\n",
              "            await google.colab.kernel.invokeFunction('convertToInteractive',\n",
              "                                                     [key], {});\n",
              "          if (!dataTable) return;\n",
              "\n",
              "          const docLinkHtml = 'Like what you see? Visit the ' +\n",
              "            '<a target=\"_blank\" href=https://colab.research.google.com/notebooks/data_table.ipynb>data table notebook</a>'\n",
              "            + ' to learn more about interactive tables.';\n",
              "          element.innerHTML = '';\n",
              "          dataTable['output_type'] = 'display_data';\n",
              "          await google.colab.output.renderOutput(dataTable, element);\n",
              "          const docLink = document.createElement('div');\n",
              "          docLink.innerHTML = docLinkHtml;\n",
              "          element.appendChild(docLink);\n",
              "        }\n",
              "      </script>\n",
              "    </div>\n",
              "  </div>\n",
              "  "
            ]
          },
          "metadata": {},
          "execution_count": 4
        }
      ],
      "source": [
        "#having a look at the first five rows of the customer churn data file\n",
        "\n",
        "cust_churn_data.head()"
      ]
    },
    {
      "cell_type": "markdown",
      "metadata": {
        "id": "2RCWIVS4nXSO"
      },
      "source": [
        "we can see that the column names are in place so no adjustments are needed here, now we obtain a high-level summary of the data using .info()"
      ]
    },
    {
      "cell_type": "code",
      "execution_count": null,
      "metadata": {
        "colab": {
          "base_uri": "https://localhost:8080/"
        },
        "id": "GWg500s9n0eb",
        "outputId": "fe3c2414-bc7b-4629-c3ca-8ecc5a4c2897"
      },
      "outputs": [
        {
          "output_type": "stream",
          "name": "stdout",
          "text": [
            "<class 'pandas.core.frame.DataFrame'>\n",
            "RangeIndex: 5000 entries, 0 to 4999\n",
            "Data columns (total 20 columns):\n",
            " #   Column                         Non-Null Count  Dtype  \n",
            "---  ------                         --------------  -----  \n",
            " 0   state                          5000 non-null   object \n",
            " 1   account_length                 5000 non-null   int64  \n",
            " 2   area_code                      5000 non-null   object \n",
            " 3   international_plan             5000 non-null   object \n",
            " 4   voice_mail_plan                5000 non-null   object \n",
            " 5   number_vmail_messages          5000 non-null   int64  \n",
            " 6   total_day_minutes              5000 non-null   float64\n",
            " 7   total_day_calls                5000 non-null   int64  \n",
            " 8   total_day_charge               5000 non-null   float64\n",
            " 9   total_eve_minutes              5000 non-null   float64\n",
            " 10  total_eve_calls                5000 non-null   int64  \n",
            " 11  total_eve_charge               5000 non-null   float64\n",
            " 12  total_night_minutes            5000 non-null   float64\n",
            " 13  total_night_calls              5000 non-null   int64  \n",
            " 14  total_night_charge             5000 non-null   float64\n",
            " 15  total_intl_minutes             5000 non-null   float64\n",
            " 16  total_intl_calls               5000 non-null   int64  \n",
            " 17  total_intl_charge              5000 non-null   float64\n",
            " 18  number_customer_service_calls  5000 non-null   int64  \n",
            " 19  churn                          5000 non-null   object \n",
            "dtypes: float64(8), int64(7), object(5)\n",
            "memory usage: 781.4+ KB\n"
          ]
        }
      ],
      "source": [
        "cust_churn_data.info()"
      ]
    },
    {
      "cell_type": "markdown",
      "metadata": {
        "id": "ieOjCgomoKCn"
      },
      "source": [
        "we can clearly see that there are no missing values (NaN) since the count of all columns is 50000 which is the total number of entries, also we can see that we are dealing with three different data types float, int and object. we can also see that all columns have the correct corresponding data type"
      ]
    },
    {
      "cell_type": "markdown",
      "metadata": {
        "id": "d8vQNQIVB4iO"
      },
      "source": [
        "\n",
        "\n",
        "```\n",
        "# This is formatted as code\n",
        "```\n",
        "\n",
        "now we will try and have a deeper look into the data by creating a function to see how many unique values each feature has\n"
      ]
    },
    {
      "cell_type": "code",
      "execution_count": null,
      "metadata": {
        "colab": {
          "base_uri": "https://localhost:8080/",
          "height": 364
        },
        "id": "ioszSu4yAIz1",
        "outputId": "483cf022-9e4f-4eef-fb51-8978e460c0a4"
      },
      "outputs": [
        {
          "output_type": "execute_result",
          "data": {
            "text/plain": [
              "       account_length  number_vmail_messages  total_day_minutes  \\\n",
              "count      5000.00000            5000.000000        5000.000000   \n",
              "mean        100.25860               7.755200         180.288900   \n",
              "std          39.69456              13.546393          53.894699   \n",
              "min           1.00000               0.000000           0.000000   \n",
              "25%          73.00000               0.000000         143.700000   \n",
              "50%         100.00000               0.000000         180.100000   \n",
              "75%         127.00000              17.000000         216.200000   \n",
              "max         243.00000              52.000000         351.500000   \n",
              "\n",
              "       total_day_calls  total_day_charge  total_eve_minutes  total_eve_calls  \\\n",
              "count      5000.000000       5000.000000        5000.000000      5000.000000   \n",
              "mean        100.029400         30.649668         200.636560       100.191000   \n",
              "std          19.831197          9.162069          50.551309        19.826496   \n",
              "min           0.000000          0.000000           0.000000         0.000000   \n",
              "25%          87.000000         24.430000         166.375000        87.000000   \n",
              "50%         100.000000         30.620000         201.000000       100.000000   \n",
              "75%         113.000000         36.750000         234.100000       114.000000   \n",
              "max         165.000000         59.760000         363.700000       170.000000   \n",
              "\n",
              "       total_eve_charge  total_night_minutes  total_night_calls  \\\n",
              "count       5000.000000          5000.000000        5000.000000   \n",
              "mean          17.054322           200.391620          99.919200   \n",
              "std            4.296843            50.527789          19.958686   \n",
              "min            0.000000             0.000000           0.000000   \n",
              "25%           14.140000           166.900000          87.000000   \n",
              "50%           17.090000           200.400000         100.000000   \n",
              "75%           19.900000           234.700000         113.000000   \n",
              "max           30.910000           395.000000         175.000000   \n",
              "\n",
              "       total_night_charge  total_intl_minutes  total_intl_calls  \\\n",
              "count         5000.000000         5000.000000       5000.000000   \n",
              "mean             9.017732           10.261780          4.435200   \n",
              "std              2.273763            2.761396          2.456788   \n",
              "min              0.000000            0.000000          0.000000   \n",
              "25%              7.510000            8.500000          3.000000   \n",
              "50%              9.020000           10.300000          4.000000   \n",
              "75%             10.560000           12.000000          6.000000   \n",
              "max             17.770000           20.000000         20.000000   \n",
              "\n",
              "       total_intl_charge  number_customer_service_calls  \n",
              "count        5000.000000                    5000.000000  \n",
              "mean            2.771196                       1.570400  \n",
              "std             0.745514                       1.306363  \n",
              "min             0.000000                       0.000000  \n",
              "25%             2.300000                       1.000000  \n",
              "50%             2.780000                       1.000000  \n",
              "75%             3.240000                       2.000000  \n",
              "max             5.400000                       9.000000  "
            ],
            "text/html": [
              "\n",
              "  <div id=\"df-d7dd2695-6cb2-4deb-a38f-52c7f2f9125a\">\n",
              "    <div class=\"colab-df-container\">\n",
              "      <div>\n",
              "<style scoped>\n",
              "    .dataframe tbody tr th:only-of-type {\n",
              "        vertical-align: middle;\n",
              "    }\n",
              "\n",
              "    .dataframe tbody tr th {\n",
              "        vertical-align: top;\n",
              "    }\n",
              "\n",
              "    .dataframe thead th {\n",
              "        text-align: right;\n",
              "    }\n",
              "</style>\n",
              "<table border=\"1\" class=\"dataframe\">\n",
              "  <thead>\n",
              "    <tr style=\"text-align: right;\">\n",
              "      <th></th>\n",
              "      <th>account_length</th>\n",
              "      <th>number_vmail_messages</th>\n",
              "      <th>total_day_minutes</th>\n",
              "      <th>total_day_calls</th>\n",
              "      <th>total_day_charge</th>\n",
              "      <th>total_eve_minutes</th>\n",
              "      <th>total_eve_calls</th>\n",
              "      <th>total_eve_charge</th>\n",
              "      <th>total_night_minutes</th>\n",
              "      <th>total_night_calls</th>\n",
              "      <th>total_night_charge</th>\n",
              "      <th>total_intl_minutes</th>\n",
              "      <th>total_intl_calls</th>\n",
              "      <th>total_intl_charge</th>\n",
              "      <th>number_customer_service_calls</th>\n",
              "    </tr>\n",
              "  </thead>\n",
              "  <tbody>\n",
              "    <tr>\n",
              "      <th>count</th>\n",
              "      <td>5000.00000</td>\n",
              "      <td>5000.000000</td>\n",
              "      <td>5000.000000</td>\n",
              "      <td>5000.000000</td>\n",
              "      <td>5000.000000</td>\n",
              "      <td>5000.000000</td>\n",
              "      <td>5000.000000</td>\n",
              "      <td>5000.000000</td>\n",
              "      <td>5000.000000</td>\n",
              "      <td>5000.000000</td>\n",
              "      <td>5000.000000</td>\n",
              "      <td>5000.000000</td>\n",
              "      <td>5000.000000</td>\n",
              "      <td>5000.000000</td>\n",
              "      <td>5000.000000</td>\n",
              "    </tr>\n",
              "    <tr>\n",
              "      <th>mean</th>\n",
              "      <td>100.25860</td>\n",
              "      <td>7.755200</td>\n",
              "      <td>180.288900</td>\n",
              "      <td>100.029400</td>\n",
              "      <td>30.649668</td>\n",
              "      <td>200.636560</td>\n",
              "      <td>100.191000</td>\n",
              "      <td>17.054322</td>\n",
              "      <td>200.391620</td>\n",
              "      <td>99.919200</td>\n",
              "      <td>9.017732</td>\n",
              "      <td>10.261780</td>\n",
              "      <td>4.435200</td>\n",
              "      <td>2.771196</td>\n",
              "      <td>1.570400</td>\n",
              "    </tr>\n",
              "    <tr>\n",
              "      <th>std</th>\n",
              "      <td>39.69456</td>\n",
              "      <td>13.546393</td>\n",
              "      <td>53.894699</td>\n",
              "      <td>19.831197</td>\n",
              "      <td>9.162069</td>\n",
              "      <td>50.551309</td>\n",
              "      <td>19.826496</td>\n",
              "      <td>4.296843</td>\n",
              "      <td>50.527789</td>\n",
              "      <td>19.958686</td>\n",
              "      <td>2.273763</td>\n",
              "      <td>2.761396</td>\n",
              "      <td>2.456788</td>\n",
              "      <td>0.745514</td>\n",
              "      <td>1.306363</td>\n",
              "    </tr>\n",
              "    <tr>\n",
              "      <th>min</th>\n",
              "      <td>1.00000</td>\n",
              "      <td>0.000000</td>\n",
              "      <td>0.000000</td>\n",
              "      <td>0.000000</td>\n",
              "      <td>0.000000</td>\n",
              "      <td>0.000000</td>\n",
              "      <td>0.000000</td>\n",
              "      <td>0.000000</td>\n",
              "      <td>0.000000</td>\n",
              "      <td>0.000000</td>\n",
              "      <td>0.000000</td>\n",
              "      <td>0.000000</td>\n",
              "      <td>0.000000</td>\n",
              "      <td>0.000000</td>\n",
              "      <td>0.000000</td>\n",
              "    </tr>\n",
              "    <tr>\n",
              "      <th>25%</th>\n",
              "      <td>73.00000</td>\n",
              "      <td>0.000000</td>\n",
              "      <td>143.700000</td>\n",
              "      <td>87.000000</td>\n",
              "      <td>24.430000</td>\n",
              "      <td>166.375000</td>\n",
              "      <td>87.000000</td>\n",
              "      <td>14.140000</td>\n",
              "      <td>166.900000</td>\n",
              "      <td>87.000000</td>\n",
              "      <td>7.510000</td>\n",
              "      <td>8.500000</td>\n",
              "      <td>3.000000</td>\n",
              "      <td>2.300000</td>\n",
              "      <td>1.000000</td>\n",
              "    </tr>\n",
              "    <tr>\n",
              "      <th>50%</th>\n",
              "      <td>100.00000</td>\n",
              "      <td>0.000000</td>\n",
              "      <td>180.100000</td>\n",
              "      <td>100.000000</td>\n",
              "      <td>30.620000</td>\n",
              "      <td>201.000000</td>\n",
              "      <td>100.000000</td>\n",
              "      <td>17.090000</td>\n",
              "      <td>200.400000</td>\n",
              "      <td>100.000000</td>\n",
              "      <td>9.020000</td>\n",
              "      <td>10.300000</td>\n",
              "      <td>4.000000</td>\n",
              "      <td>2.780000</td>\n",
              "      <td>1.000000</td>\n",
              "    </tr>\n",
              "    <tr>\n",
              "      <th>75%</th>\n",
              "      <td>127.00000</td>\n",
              "      <td>17.000000</td>\n",
              "      <td>216.200000</td>\n",
              "      <td>113.000000</td>\n",
              "      <td>36.750000</td>\n",
              "      <td>234.100000</td>\n",
              "      <td>114.000000</td>\n",
              "      <td>19.900000</td>\n",
              "      <td>234.700000</td>\n",
              "      <td>113.000000</td>\n",
              "      <td>10.560000</td>\n",
              "      <td>12.000000</td>\n",
              "      <td>6.000000</td>\n",
              "      <td>3.240000</td>\n",
              "      <td>2.000000</td>\n",
              "    </tr>\n",
              "    <tr>\n",
              "      <th>max</th>\n",
              "      <td>243.00000</td>\n",
              "      <td>52.000000</td>\n",
              "      <td>351.500000</td>\n",
              "      <td>165.000000</td>\n",
              "      <td>59.760000</td>\n",
              "      <td>363.700000</td>\n",
              "      <td>170.000000</td>\n",
              "      <td>30.910000</td>\n",
              "      <td>395.000000</td>\n",
              "      <td>175.000000</td>\n",
              "      <td>17.770000</td>\n",
              "      <td>20.000000</td>\n",
              "      <td>20.000000</td>\n",
              "      <td>5.400000</td>\n",
              "      <td>9.000000</td>\n",
              "    </tr>\n",
              "  </tbody>\n",
              "</table>\n",
              "</div>\n",
              "      <button class=\"colab-df-convert\" onclick=\"convertToInteractive('df-d7dd2695-6cb2-4deb-a38f-52c7f2f9125a')\"\n",
              "              title=\"Convert this dataframe to an interactive table.\"\n",
              "              style=\"display:none;\">\n",
              "        \n",
              "  <svg xmlns=\"http://www.w3.org/2000/svg\" height=\"24px\"viewBox=\"0 0 24 24\"\n",
              "       width=\"24px\">\n",
              "    <path d=\"M0 0h24v24H0V0z\" fill=\"none\"/>\n",
              "    <path d=\"M18.56 5.44l.94 2.06.94-2.06 2.06-.94-2.06-.94-.94-2.06-.94 2.06-2.06.94zm-11 1L8.5 8.5l.94-2.06 2.06-.94-2.06-.94L8.5 2.5l-.94 2.06-2.06.94zm10 10l.94 2.06.94-2.06 2.06-.94-2.06-.94-.94-2.06-.94 2.06-2.06.94z\"/><path d=\"M17.41 7.96l-1.37-1.37c-.4-.4-.92-.59-1.43-.59-.52 0-1.04.2-1.43.59L10.3 9.45l-7.72 7.72c-.78.78-.78 2.05 0 2.83L4 21.41c.39.39.9.59 1.41.59.51 0 1.02-.2 1.41-.59l7.78-7.78 2.81-2.81c.8-.78.8-2.07 0-2.86zM5.41 20L4 18.59l7.72-7.72 1.47 1.35L5.41 20z\"/>\n",
              "  </svg>\n",
              "      </button>\n",
              "      \n",
              "  <style>\n",
              "    .colab-df-container {\n",
              "      display:flex;\n",
              "      flex-wrap:wrap;\n",
              "      gap: 12px;\n",
              "    }\n",
              "\n",
              "    .colab-df-convert {\n",
              "      background-color: #E8F0FE;\n",
              "      border: none;\n",
              "      border-radius: 50%;\n",
              "      cursor: pointer;\n",
              "      display: none;\n",
              "      fill: #1967D2;\n",
              "      height: 32px;\n",
              "      padding: 0 0 0 0;\n",
              "      width: 32px;\n",
              "    }\n",
              "\n",
              "    .colab-df-convert:hover {\n",
              "      background-color: #E2EBFA;\n",
              "      box-shadow: 0px 1px 2px rgba(60, 64, 67, 0.3), 0px 1px 3px 1px rgba(60, 64, 67, 0.15);\n",
              "      fill: #174EA6;\n",
              "    }\n",
              "\n",
              "    [theme=dark] .colab-df-convert {\n",
              "      background-color: #3B4455;\n",
              "      fill: #D2E3FC;\n",
              "    }\n",
              "\n",
              "    [theme=dark] .colab-df-convert:hover {\n",
              "      background-color: #434B5C;\n",
              "      box-shadow: 0px 1px 3px 1px rgba(0, 0, 0, 0.15);\n",
              "      filter: drop-shadow(0px 1px 2px rgba(0, 0, 0, 0.3));\n",
              "      fill: #FFFFFF;\n",
              "    }\n",
              "  </style>\n",
              "\n",
              "      <script>\n",
              "        const buttonEl =\n",
              "          document.querySelector('#df-d7dd2695-6cb2-4deb-a38f-52c7f2f9125a button.colab-df-convert');\n",
              "        buttonEl.style.display =\n",
              "          google.colab.kernel.accessAllowed ? 'block' : 'none';\n",
              "\n",
              "        async function convertToInteractive(key) {\n",
              "          const element = document.querySelector('#df-d7dd2695-6cb2-4deb-a38f-52c7f2f9125a');\n",
              "          const dataTable =\n",
              "            await google.colab.kernel.invokeFunction('convertToInteractive',\n",
              "                                                     [key], {});\n",
              "          if (!dataTable) return;\n",
              "\n",
              "          const docLinkHtml = 'Like what you see? Visit the ' +\n",
              "            '<a target=\"_blank\" href=https://colab.research.google.com/notebooks/data_table.ipynb>data table notebook</a>'\n",
              "            + ' to learn more about interactive tables.';\n",
              "          element.innerHTML = '';\n",
              "          dataTable['output_type'] = 'display_data';\n",
              "          await google.colab.output.renderOutput(dataTable, element);\n",
              "          const docLink = document.createElement('div');\n",
              "          docLink.innerHTML = docLinkHtml;\n",
              "          element.appendChild(docLink);\n",
              "        }\n",
              "      </script>\n",
              "    </div>\n",
              "  </div>\n",
              "  "
            ]
          },
          "metadata": {},
          "execution_count": 6
        }
      ],
      "source": [
        "cust_churn_data.describe()"
      ]
    },
    {
      "cell_type": "code",
      "execution_count": null,
      "metadata": {
        "colab": {
          "base_uri": "https://localhost:8080/"
        },
        "id": "h8sbzLRMn4lp",
        "outputId": "52454d25-6bde-44ce-f15b-6163e3e9b8b0"
      },
      "outputs": [
        {
          "output_type": "stream",
          "name": "stdout",
          "text": [
            "unique values in the dataset:\n",
            "state                              51\n",
            "account_length                    218\n",
            "area_code                           3\n",
            "international_plan                  2\n",
            "voice_mail_plan                     2\n",
            "number_vmail_messages              48\n",
            "total_day_minutes                1961\n",
            "total_day_calls                   123\n",
            "total_day_charge                 1961\n",
            "total_eve_minutes                1879\n",
            "total_eve_calls                   126\n",
            "total_eve_charge                 1659\n",
            "total_night_minutes              1853\n",
            "total_night_calls                 131\n",
            "total_night_charge               1028\n",
            "total_intl_minutes                170\n",
            "total_intl_calls                   21\n",
            "total_intl_charge                 170\n",
            "number_customer_service_calls      10\n",
            "churn                               2\n",
            "dtype: int64\n"
          ]
        }
      ],
      "source": [
        "def uniqueval(df, message):\n",
        "  print(f'{message}:')\n",
        "  print(df.nunique())\n",
        "\n",
        "uniqueval(cust_churn_data, 'unique values in the dataset')"
      ]
    },
    {
      "cell_type": "markdown",
      "metadata": {
        "id": "uieUmNKbGKWu"
      },
      "source": [
        "based on the previous result we can see that the dataset has 5000 rows and 20 columns\n",
        "\n",
        "there are four categorical features :\n",
        "* State:  2-letter code of the customer residence\n",
        "* Area Code: 3 digit area code.\n",
        "* International Plan: wether the customer has international plan (yes/no).\n",
        "* Voice Mail Plan: wether the customer has voice mail plan (yes/no).\n",
        "\n",
        "\n",
        "Also, there are 15 numerical features :\n",
        "* account length: Number of months the customer has been with the current telco provider\n",
        "* number_vmail_messages: Number of voice-mail messages.\n",
        "* total_day_minutes: Total minutes of day calls.\n",
        "* total_day_calls: Total minutes of day calls.\n",
        "* total_day_charge: Total charge of day calls.\n",
        "* total_eve_minutes: Total minutes of evening calls.\n",
        "* total_eve_calls: Total number of evening calls.\n",
        "* total_eve_charge: Total charge of evening calls.\n",
        "* total_night_minutes: Total minutes of night calls.\n",
        "* total_night_calls: Total number of night calls.\n",
        "* total_night_charge: Total charge of night calls.\n",
        "* total_intl_minutes: Total minutes of international calls.\n",
        "* total_intl_calls: Total number of international calls.\n",
        "* total_intl_charge: Total charge of international calls\n",
        "* number_customer_service_calls: Number of calls to customer service\n",
        "\n",
        "finally, there's the prediction feature:\n",
        "* Churn: Whether the customer churned or not (Yes or No)\n",
        "\n",
        "these features can be divided into:\n",
        "Demographic customer information:\n",
        "State and Area Code\n",
        "\n",
        "Services that each customer has signed up for:\n",
        "International Plan and Voice Mail Plan\n",
        "\n",
        "Customer account information:\n",
        "account length, number_vmail_messages, total_day_minutes, total_day_calls, total_day_charger, total_night_minutes, total_night_calls, total_night_charge, total_intl_minutes, total_intl_calls, total_intl_charge, total_eve_minutes, total_eve_calls, total_eve_ccharge, number_customer_service_calls\n",
        "\n",
        "##now we explore the target variable:"
      ]
    },
    {
      "cell_type": "markdown",
      "metadata": {
        "id": "yeWPPQUKLQ40"
      },
      "source": [
        "#3 Exploratory Data Analysis (EDA)"
      ]
    },
    {
      "cell_type": "markdown",
      "metadata": {
        "id": "2QxxHHWcLbGM"
      },
      "source": [
        "now we want to take a look at the distribution of churn and see how it spreads"
      ]
    },
    {
      "cell_type": "code",
      "execution_count": null,
      "metadata": {
        "colab": {
          "base_uri": "https://localhost:8080/",
          "height": 542
        },
        "id": "7iKwGE1f7Vsh",
        "outputId": "4c6a21e7-1a37-4cc1-ce78-35f9de114887"
      },
      "outputs": [
        {
          "data": {
            "text/html": [
              "<html>\n",
              "<head><meta charset=\"utf-8\" /></head>\n",
              "<body>\n",
              "    <div>            <script src=\"https://cdnjs.cloudflare.com/ajax/libs/mathjax/2.7.5/MathJax.js?config=TeX-AMS-MML_SVG\"></script><script type=\"text/javascript\">if (window.MathJax) {MathJax.Hub.Config({SVG: {font: \"STIX-Web\"}});}</script>                <script type=\"text/javascript\">window.PlotlyConfig = {MathJaxConfig: 'local'};</script>\n",
              "        <script src=\"https://cdn.plot.ly/plotly-2.8.3.min.js\"></script>                <div id=\"aa503084-4032-4c2d-a1cf-82b2c31695b0\" class=\"plotly-graph-div\" style=\"height:525px; width:100%;\"></div>            <script type=\"text/javascript\">                                    window.PLOTLYENV=window.PLOTLYENV || {};                                    if (document.getElementById(\"aa503084-4032-4c2d-a1cf-82b2c31695b0\")) {                    Plotly.newPlot(                        \"aa503084-4032-4c2d-a1cf-82b2c31695b0\",                        [{\"domain\":{\"x\":[0.0,1.0],\"y\":[0.0,1.0]},\"hovertemplate\":\"category=%{label}<br>churn=%{value}<extra></extra>\",\"labels\":[\"no\",\"yes\"],\"legendgroup\":\"\",\"name\":\"\",\"showlegend\":true,\"values\":[4115,885],\"type\":\"pie\"}],                        {\"template\":{\"data\":{\"bar\":[{\"error_x\":{\"color\":\"#2a3f5f\"},\"error_y\":{\"color\":\"#2a3f5f\"},\"marker\":{\"line\":{\"color\":\"#E5ECF6\",\"width\":0.5},\"pattern\":{\"fillmode\":\"overlay\",\"size\":10,\"solidity\":0.2}},\"type\":\"bar\"}],\"barpolar\":[{\"marker\":{\"line\":{\"color\":\"#E5ECF6\",\"width\":0.5},\"pattern\":{\"fillmode\":\"overlay\",\"size\":10,\"solidity\":0.2}},\"type\":\"barpolar\"}],\"carpet\":[{\"aaxis\":{\"endlinecolor\":\"#2a3f5f\",\"gridcolor\":\"white\",\"linecolor\":\"white\",\"minorgridcolor\":\"white\",\"startlinecolor\":\"#2a3f5f\"},\"baxis\":{\"endlinecolor\":\"#2a3f5f\",\"gridcolor\":\"white\",\"linecolor\":\"white\",\"minorgridcolor\":\"white\",\"startlinecolor\":\"#2a3f5f\"},\"type\":\"carpet\"}],\"choropleth\":[{\"colorbar\":{\"outlinewidth\":0,\"ticks\":\"\"},\"type\":\"choropleth\"}],\"contour\":[{\"colorbar\":{\"outlinewidth\":0,\"ticks\":\"\"},\"colorscale\":[[0.0,\"#0d0887\"],[0.1111111111111111,\"#46039f\"],[0.2222222222222222,\"#7201a8\"],[0.3333333333333333,\"#9c179e\"],[0.4444444444444444,\"#bd3786\"],[0.5555555555555556,\"#d8576b\"],[0.6666666666666666,\"#ed7953\"],[0.7777777777777778,\"#fb9f3a\"],[0.8888888888888888,\"#fdca26\"],[1.0,\"#f0f921\"]],\"type\":\"contour\"}],\"contourcarpet\":[{\"colorbar\":{\"outlinewidth\":0,\"ticks\":\"\"},\"type\":\"contourcarpet\"}],\"heatmap\":[{\"colorbar\":{\"outlinewidth\":0,\"ticks\":\"\"},\"colorscale\":[[0.0,\"#0d0887\"],[0.1111111111111111,\"#46039f\"],[0.2222222222222222,\"#7201a8\"],[0.3333333333333333,\"#9c179e\"],[0.4444444444444444,\"#bd3786\"],[0.5555555555555556,\"#d8576b\"],[0.6666666666666666,\"#ed7953\"],[0.7777777777777778,\"#fb9f3a\"],[0.8888888888888888,\"#fdca26\"],[1.0,\"#f0f921\"]],\"type\":\"heatmap\"}],\"heatmapgl\":[{\"colorbar\":{\"outlinewidth\":0,\"ticks\":\"\"},\"colorscale\":[[0.0,\"#0d0887\"],[0.1111111111111111,\"#46039f\"],[0.2222222222222222,\"#7201a8\"],[0.3333333333333333,\"#9c179e\"],[0.4444444444444444,\"#bd3786\"],[0.5555555555555556,\"#d8576b\"],[0.6666666666666666,\"#ed7953\"],[0.7777777777777778,\"#fb9f3a\"],[0.8888888888888888,\"#fdca26\"],[1.0,\"#f0f921\"]],\"type\":\"heatmapgl\"}],\"histogram\":[{\"marker\":{\"pattern\":{\"fillmode\":\"overlay\",\"size\":10,\"solidity\":0.2}},\"type\":\"histogram\"}],\"histogram2d\":[{\"colorbar\":{\"outlinewidth\":0,\"ticks\":\"\"},\"colorscale\":[[0.0,\"#0d0887\"],[0.1111111111111111,\"#46039f\"],[0.2222222222222222,\"#7201a8\"],[0.3333333333333333,\"#9c179e\"],[0.4444444444444444,\"#bd3786\"],[0.5555555555555556,\"#d8576b\"],[0.6666666666666666,\"#ed7953\"],[0.7777777777777778,\"#fb9f3a\"],[0.8888888888888888,\"#fdca26\"],[1.0,\"#f0f921\"]],\"type\":\"histogram2d\"}],\"histogram2dcontour\":[{\"colorbar\":{\"outlinewidth\":0,\"ticks\":\"\"},\"colorscale\":[[0.0,\"#0d0887\"],[0.1111111111111111,\"#46039f\"],[0.2222222222222222,\"#7201a8\"],[0.3333333333333333,\"#9c179e\"],[0.4444444444444444,\"#bd3786\"],[0.5555555555555556,\"#d8576b\"],[0.6666666666666666,\"#ed7953\"],[0.7777777777777778,\"#fb9f3a\"],[0.8888888888888888,\"#fdca26\"],[1.0,\"#f0f921\"]],\"type\":\"histogram2dcontour\"}],\"mesh3d\":[{\"colorbar\":{\"outlinewidth\":0,\"ticks\":\"\"},\"type\":\"mesh3d\"}],\"parcoords\":[{\"line\":{\"colorbar\":{\"outlinewidth\":0,\"ticks\":\"\"}},\"type\":\"parcoords\"}],\"pie\":[{\"automargin\":true,\"type\":\"pie\"}],\"scatter\":[{\"marker\":{\"colorbar\":{\"outlinewidth\":0,\"ticks\":\"\"}},\"type\":\"scatter\"}],\"scatter3d\":[{\"line\":{\"colorbar\":{\"outlinewidth\":0,\"ticks\":\"\"}},\"marker\":{\"colorbar\":{\"outlinewidth\":0,\"ticks\":\"\"}},\"type\":\"scatter3d\"}],\"scattercarpet\":[{\"marker\":{\"colorbar\":{\"outlinewidth\":0,\"ticks\":\"\"}},\"type\":\"scattercarpet\"}],\"scattergeo\":[{\"marker\":{\"colorbar\":{\"outlinewidth\":0,\"ticks\":\"\"}},\"type\":\"scattergeo\"}],\"scattergl\":[{\"marker\":{\"colorbar\":{\"outlinewidth\":0,\"ticks\":\"\"}},\"type\":\"scattergl\"}],\"scattermapbox\":[{\"marker\":{\"colorbar\":{\"outlinewidth\":0,\"ticks\":\"\"}},\"type\":\"scattermapbox\"}],\"scatterpolar\":[{\"marker\":{\"colorbar\":{\"outlinewidth\":0,\"ticks\":\"\"}},\"type\":\"scatterpolar\"}],\"scatterpolargl\":[{\"marker\":{\"colorbar\":{\"outlinewidth\":0,\"ticks\":\"\"}},\"type\":\"scatterpolargl\"}],\"scatterternary\":[{\"marker\":{\"colorbar\":{\"outlinewidth\":0,\"ticks\":\"\"}},\"type\":\"scatterternary\"}],\"surface\":[{\"colorbar\":{\"outlinewidth\":0,\"ticks\":\"\"},\"colorscale\":[[0.0,\"#0d0887\"],[0.1111111111111111,\"#46039f\"],[0.2222222222222222,\"#7201a8\"],[0.3333333333333333,\"#9c179e\"],[0.4444444444444444,\"#bd3786\"],[0.5555555555555556,\"#d8576b\"],[0.6666666666666666,\"#ed7953\"],[0.7777777777777778,\"#fb9f3a\"],[0.8888888888888888,\"#fdca26\"],[1.0,\"#f0f921\"]],\"type\":\"surface\"}],\"table\":[{\"cells\":{\"fill\":{\"color\":\"#EBF0F8\"},\"line\":{\"color\":\"white\"}},\"header\":{\"fill\":{\"color\":\"#C8D4E3\"},\"line\":{\"color\":\"white\"}},\"type\":\"table\"}]},\"layout\":{\"annotationdefaults\":{\"arrowcolor\":\"#2a3f5f\",\"arrowhead\":0,\"arrowwidth\":1},\"autotypenumbers\":\"strict\",\"coloraxis\":{\"colorbar\":{\"outlinewidth\":0,\"ticks\":\"\"}},\"colorscale\":{\"diverging\":[[0,\"#8e0152\"],[0.1,\"#c51b7d\"],[0.2,\"#de77ae\"],[0.3,\"#f1b6da\"],[0.4,\"#fde0ef\"],[0.5,\"#f7f7f7\"],[0.6,\"#e6f5d0\"],[0.7,\"#b8e186\"],[0.8,\"#7fbc41\"],[0.9,\"#4d9221\"],[1,\"#276419\"]],\"sequential\":[[0.0,\"#0d0887\"],[0.1111111111111111,\"#46039f\"],[0.2222222222222222,\"#7201a8\"],[0.3333333333333333,\"#9c179e\"],[0.4444444444444444,\"#bd3786\"],[0.5555555555555556,\"#d8576b\"],[0.6666666666666666,\"#ed7953\"],[0.7777777777777778,\"#fb9f3a\"],[0.8888888888888888,\"#fdca26\"],[1.0,\"#f0f921\"]],\"sequentialminus\":[[0.0,\"#0d0887\"],[0.1111111111111111,\"#46039f\"],[0.2222222222222222,\"#7201a8\"],[0.3333333333333333,\"#9c179e\"],[0.4444444444444444,\"#bd3786\"],[0.5555555555555556,\"#d8576b\"],[0.6666666666666666,\"#ed7953\"],[0.7777777777777778,\"#fb9f3a\"],[0.8888888888888888,\"#fdca26\"],[1.0,\"#f0f921\"]]},\"colorway\":[\"#636efa\",\"#EF553B\",\"#00cc96\",\"#ab63fa\",\"#FFA15A\",\"#19d3f3\",\"#FF6692\",\"#B6E880\",\"#FF97FF\",\"#FECB52\"],\"font\":{\"color\":\"#2a3f5f\"},\"geo\":{\"bgcolor\":\"white\",\"lakecolor\":\"white\",\"landcolor\":\"#E5ECF6\",\"showlakes\":true,\"showland\":true,\"subunitcolor\":\"white\"},\"hoverlabel\":{\"align\":\"left\"},\"hovermode\":\"closest\",\"mapbox\":{\"style\":\"light\"},\"paper_bgcolor\":\"white\",\"plot_bgcolor\":\"#E5ECF6\",\"polar\":{\"angularaxis\":{\"gridcolor\":\"white\",\"linecolor\":\"white\",\"ticks\":\"\"},\"bgcolor\":\"#E5ECF6\",\"radialaxis\":{\"gridcolor\":\"white\",\"linecolor\":\"white\",\"ticks\":\"\"}},\"scene\":{\"xaxis\":{\"backgroundcolor\":\"#E5ECF6\",\"gridcolor\":\"white\",\"gridwidth\":2,\"linecolor\":\"white\",\"showbackground\":true,\"ticks\":\"\",\"zerolinecolor\":\"white\"},\"yaxis\":{\"backgroundcolor\":\"#E5ECF6\",\"gridcolor\":\"white\",\"gridwidth\":2,\"linecolor\":\"white\",\"showbackground\":true,\"ticks\":\"\",\"zerolinecolor\":\"white\"},\"zaxis\":{\"backgroundcolor\":\"#E5ECF6\",\"gridcolor\":\"white\",\"gridwidth\":2,\"linecolor\":\"white\",\"showbackground\":true,\"ticks\":\"\",\"zerolinecolor\":\"white\"}},\"shapedefaults\":{\"line\":{\"color\":\"#2a3f5f\"}},\"ternary\":{\"aaxis\":{\"gridcolor\":\"white\",\"linecolor\":\"white\",\"ticks\":\"\"},\"baxis\":{\"gridcolor\":\"white\",\"linecolor\":\"white\",\"ticks\":\"\"},\"bgcolor\":\"#E5ECF6\",\"caxis\":{\"gridcolor\":\"white\",\"linecolor\":\"white\",\"ticks\":\"\"}},\"title\":{\"x\":0.05},\"xaxis\":{\"automargin\":true,\"gridcolor\":\"white\",\"linecolor\":\"white\",\"ticks\":\"\",\"title\":{\"standoff\":15},\"zerolinecolor\":\"white\",\"zerolinewidth\":2},\"yaxis\":{\"automargin\":true,\"gridcolor\":\"white\",\"linecolor\":\"white\",\"ticks\":\"\",\"title\":{\"standoff\":15},\"zerolinecolor\":\"white\",\"zerolinewidth\":2}}},\"legend\":{\"tracegroupgap\":0},\"title\":{\"text\":\"Distribution of Churn\"},\"piecolorway\":[\"purple\",\"yellow\"]},                        {\"responsive\": true}                    ).then(function(){\n",
              "                            \n",
              "var gd = document.getElementById('aa503084-4032-4c2d-a1cf-82b2c31695b0');\n",
              "var x = new MutationObserver(function (mutations, observer) {{\n",
              "        var display = window.getComputedStyle(gd).display;\n",
              "        if (!display || display === 'none') {{\n",
              "            console.log([gd, 'removed!']);\n",
              "            Plotly.purge(gd);\n",
              "            observer.disconnect();\n",
              "        }}\n",
              "}});\n",
              "\n",
              "// Listen for the removal of the full notebook cells\n",
              "var notebookContainer = gd.closest('#notebook-container');\n",
              "if (notebookContainer) {{\n",
              "    x.observe(notebookContainer, {childList: true});\n",
              "}}\n",
              "\n",
              "// Listen for the clearing of the current output cell\n",
              "var outputEl = gd.closest('.output');\n",
              "if (outputEl) {{\n",
              "    x.observe(outputEl, {childList: true});\n",
              "}}\n",
              "\n",
              "                        })                };                            </script>        </div>\n",
              "</body>\n",
              "</html>"
            ]
          },
          "metadata": {},
          "output_type": "display_data"
        }
      ],
      "source": [
        "target_instance = cust_churn_data[\"churn\"].value_counts().to_frame() #this to return a series containing counts of unique values in descending order\n",
        "target_instance = target_instance.reset_index() #this to reset the index of the dataframe and to use the default one instead\n",
        "target_instance = target_instance.rename(columns={'index':'category'})\n",
        "fig = px.pie(target_instance, values='churn', names='category', color_discrete_sequence=[\"purple\",\"yellow\"], title=\"Distribution of Churn\")\n",
        "fig.show()"
      ]
    },
    {
      "cell_type": "markdown",
      "metadata": {
        "id": "uRxCDPVyEoas"
      },
      "source": [
        "We are trying to predict the users that left the company in the previous month, and this diagram shows that it's a binary calssification with an unbalanced target:\n",
        "* churn: No  = 82.3%\n",
        "* churn: yes = 17.7%"
      ]
    },
    {
      "cell_type": "code",
      "execution_count": null,
      "metadata": {
        "colab": {
          "base_uri": "https://localhost:8080/"
        },
        "id": "waTp1m6qrS9T",
        "outputId": "4a76aa10-0ab4-4cfc-e0da-bb641ec14e93"
      },
      "outputs": [
        {
          "output_type": "stream",
          "name": "stdout",
          "text": [
            "                 Generalized Linear Model Regression Results                  \n",
            "==============================================================================\n",
            "Dep. Variable:                  churn   No. Observations:                 5000\n",
            "Model:                            GLM   Df Residuals:                     4979\n",
            "Model Family:                Binomial   Df Model:                           20\n",
            "Link Function:                  logit   Scale:                          1.0000\n",
            "Method:                          IRLS   Log-Likelihood:                -2030.7\n",
            "Date:                Fri, 03 Feb 2023   Deviance:                       4061.3\n",
            "Time:                        10:23:18   Pearson chi2:                 5.35e+03\n",
            "No. Iterations:                    20                                         \n",
            "Covariance Type:            nonrobust                                         \n",
            "=================================================================================================\n",
            "                                    coef    std err          z      P>|z|      [0.025      0.975]\n",
            "-------------------------------------------------------------------------------------------------\n",
            "Intercept                        -7.8311      0.787     -9.956      0.000      -9.373      -6.289\n",
            "state                             0.0016      0.003      0.604      0.546      -0.004       0.007\n",
            "account_length                    0.0012      0.001      1.180      0.238      -0.001       0.003\n",
            "area_code                         0.0142      0.057      0.251      0.802      -0.097       0.125\n",
            "international_plan                1.5281      0.111     13.801      0.000       1.311       1.745\n",
            "number_vmail_messages            -0.0183      0.003     -5.624      0.000      -0.025      -0.012\n",
            "total_day_calls                   0.0022      0.002      1.102      0.271      -0.002       0.006\n",
            "total_day_charge                  0.4512   1215.408      0.000      1.000   -2381.704    2382.607\n",
            "total_eve_calls                   2.3374   5060.227      0.000      1.000   -9915.525    9920.200\n",
            "total_eve_charge                 -2.2141   4790.136     -0.000      1.000   -9390.709    9386.281\n",
            "total_night_calls                -0.0013      0.002     -0.669      0.504      -0.005       0.003\n",
            "total_night_charge                0.5018   1215.408      0.000      1.000   -2381.654    2382.657\n",
            "total_intl_calls                 -0.0273      0.017     -1.631      0.103      -0.060       0.006\n",
            "total_intl_charge                 0.8186   1215.408      0.001      0.999   -2381.337    2382.974\n",
            "number_customer_service_calls     0.3573      0.029     12.451      0.000       0.301       0.414\n",
            "charge_SD                        -0.1765      0.120     -1.468      0.142      -0.412       0.059\n",
            "charge_MEAN                      -0.1106    285.978     -0.000      1.000    -560.618     560.397\n",
            "charge_MIN                       -0.5884      0.297     -1.983      0.047      -1.170      -0.007\n",
            "charge_MAX                       -0.1821      0.148     -1.230      0.219      -0.472       0.108\n",
            "charge_RANGE                      0.4063      0.154      2.643      0.008       0.105       0.708\n",
            "charge_RATIO                     23.0231      2.758      8.349      0.000      17.618      28.428\n",
            "charge_SUM                       -0.4426   1143.913     -0.000      1.000   -2242.471    2241.586\n",
            "eve_activity_SD                  -0.9049   1956.170     -0.000      1.000   -3834.929    3833.119\n",
            "eve_activity_MEAN                 0.0617    135.045      0.000      1.000    -264.622     264.746\n",
            "eve_activity_MIN                  0.7015   1518.267      0.000      1.000   -2975.047    2976.450\n",
            "eve_activity_MAX                 -0.5782   1248.176     -0.000      1.000   -2446.958    2445.802\n",
            "eve_activity_RANGE               -1.2797   2766.443     -0.000      1.000   -5423.408    5420.849\n",
            "eve_activity_RATIO               -2.6889      2.522     -1.066      0.286      -7.633       2.255\n",
            "eve_activity_SUM                  0.1233    270.091      0.000      1.000    -529.245     529.491\n",
            "=================================================================================================\n"
          ]
        }
      ],
      "source": [
        "import statsmodels.api as sm #import statsmodels\n",
        "import statsmodels.formula.api as smf #support for formulas\n",
        "from statsmodels.formula.api import glm #to use glm() directly\n",
        "\n",
        "#Change variable name separators to '_'\n",
        "all_columns = [column.replace(\" \", \"_\").replace(\"(\", \"_\").replace(\")\", \"_\").replace(\"-\", \"_\") for column in cust_churn1.columns]\n",
        "\n",
        "#Effect the change to the dataframe column names\n",
        "cust_churn1.columns = all_columns\n",
        "\n",
        "#Prepare it for the GLM formula\n",
        "glm_columns = [e for e in all_columns if e not in ['churn']]\n",
        "glm_columns = ' + '.join(map(str, glm_columns))\n",
        "\n",
        "#Fiting it to the Generalized Linear Model\n",
        "glm_model = smf.glm(formula=f'churn ~ {glm_columns}', data=cust_churn1, family=sm.families.Binomial())\n",
        "res = glm_model.fit()\n",
        "print(res.summary())\n"
      ]
    },
    {
      "cell_type": "markdown",
      "metadata": {
        "id": "S_xYeGepFbyk"
      },
      "source": [
        "Now we'll take a look at the relationship that each individual categorical feature has with the target variable to get a sense of which feature might be important:"
      ]
    },
    {
      "cell_type": "code",
      "execution_count": null,
      "metadata": {
        "id": "Wf-jdYA6JjNa"
      },
      "outputs": [],
      "source": [
        "#Defining bar chart function\n",
        "def bar(feature, df= cust_churn_data ):\n",
        "    #Groupby the categorical feature\n",
        "    temp_df = cust_churn_data.groupby([feature, 'churn']).size().reset_index()\n",
        "    temp_df = temp_df.rename(columns={0:'Count'})\n",
        "    #Calculate the value counts of each distribution and it's corresponding Percentages\n",
        "    value_counts_df = df[feature].value_counts().to_frame().reset_index()\n",
        "    categories = [cat[1][0] for cat in value_counts_df.iterrows()]\n",
        "    #Calculate the value counts of each distribution and it's corresponding Percentages\n",
        "    num_list = [num[1][1] for num in value_counts_df.iterrows()]\n",
        "    div_list = [element / sum(num_list) for element in num_list]\n",
        "    percentage = [round(element * 100,1) for element in div_list]\n",
        "    #Defining string formatting for graph annotation\n",
        "    #Numeric section\n",
        "    def num_format(list_instance):\n",
        "        formatted_str = ''\n",
        "        for index,num in enumerate(list_instance):\n",
        "            if index < len(list_instance)-2:\n",
        "                formatted_str=formatted_str+f'{num}%, ' #append to empty string(formatted_str)\n",
        "            elif index == len(list_instance)-2:\n",
        "                formatted_str=formatted_str+f'{num}% & '\n",
        "            else:\n",
        "                formatted_str=formatted_str+f'{num}%'\n",
        "        return formatted_str\n",
        "    #Categorical section\n",
        "    def str_format(list_instance):\n",
        "        formatted_str = ''\n",
        "        for index, cat in enumerate(list_instance):\n",
        "            if index < len(list_instance)-2:\n",
        "                formatted_str=formatted_str+f'{cat}, '\n",
        "            elif index == len(list_instance)-2:\n",
        "                formatted_str=formatted_str+f'{cat} & '\n",
        "            else:\n",
        "                formatted_str=formatted_str+f'{cat}'\n",
        "        return formatted_str\n",
        "\n",
        "\n",
        "    #Running the formatting functions\n",
        "    num_str = num_format(percentage)\n",
        "    cat_str = str_format(categories)\n",
        "\n",
        "    #Setting graph framework\n",
        "    fig = px.bar(temp_df, x=feature, y='Count', color='churn', title=f'churn rate by {feature}', barmode=\"group\", color_discrete_sequence=[\"purple\", \"yellow\"])\n",
        "    fig.add_annotation(\n",
        "                text=f'Value count of distribution of {cat_str} are<br>{num_str} percentage respectively.',\n",
        "                align='left',\n",
        "                showarrow=False,\n",
        "                xref='paper',\n",
        "                yref='paper',\n",
        "                x=1.4,\n",
        "                y=1.3,\n",
        "                bordercolor='black',\n",
        "                borderwidth=1)\n",
        "    fig.update_layout(\n",
        "        # margin space for the annotations on the right\n",
        "        margin=dict(r=400),\n",
        "    )\n",
        "\n",
        "    return fig.show()"
      ]
    },
    {
      "cell_type": "code",
      "execution_count": null,
      "metadata": {
        "colab": {
          "base_uri": "https://localhost:8080/",
          "height": 1000
        },
        "id": "PuJqrkn8KCCY",
        "outputId": "e5dc3fa1-3d68-4e04-97eb-52cb9365b088"
      },
      "outputs": [
        {
          "data": {
            "text/html": [
              "<html>\n",
              "<head><meta charset=\"utf-8\" /></head>\n",
              "<body>\n",
              "    <div>            <script src=\"https://cdnjs.cloudflare.com/ajax/libs/mathjax/2.7.5/MathJax.js?config=TeX-AMS-MML_SVG\"></script><script type=\"text/javascript\">if (window.MathJax) {MathJax.Hub.Config({SVG: {font: \"STIX-Web\"}});}</script>                <script type=\"text/javascript\">window.PlotlyConfig = {MathJaxConfig: 'local'};</script>\n",
              "        <script src=\"https://cdn.plot.ly/plotly-2.8.3.min.js\"></script>                <div id=\"efce3e50-db04-431e-abe0-8a282c361b61\" class=\"plotly-graph-div\" style=\"height:525px; width:100%;\"></div>            <script type=\"text/javascript\">                                    window.PLOTLYENV=window.PLOTLYENV || {};                                    if (document.getElementById(\"efce3e50-db04-431e-abe0-8a282c361b61\")) {                    Plotly.newPlot(                        \"efce3e50-db04-431e-abe0-8a282c361b61\",                        [{\"alignmentgroup\":\"True\",\"hovertemplate\":\"churn=no<br>state=%{x}<br>Count=%{y}<extra></extra>\",\"legendgroup\":\"no\",\"marker\":{\"color\":\"purple\",\"pattern\":{\"shape\":\"\"}},\"name\":\"no\",\"offsetgroup\":\"no\",\"orientation\":\"v\",\"showlegend\":true,\"textposition\":\"auto\",\"x\":[\"AK\",\"AL\",\"AR\",\"AZ\",\"CA\",\"CO\",\"CT\",\"DC\",\"DE\",\"FL\",\"GA\",\"HI\",\"IA\",\"ID\",\"IL\",\"IN\",\"KS\",\"KY\",\"LA\",\"MA\",\"MD\",\"ME\",\"MI\",\"MN\",\"MO\",\"MS\",\"MT\",\"NC\",\"ND\",\"NE\",\"NH\",\"NJ\",\"NM\",\"NV\",\"NY\",\"OH\",\"OK\",\"OR\",\"PA\",\"RI\",\"SC\",\"SD\",\"TN\",\"TX\",\"UT\",\"VA\",\"VT\",\"WA\",\"WI\",\"WV\",\"WY\"],\"xaxis\":\"x\",\"y\":[62,104,78,76,36,82,79,75,77,76,68,76,61,100,78,80,79,81,70,84,79,84,82,99,78,76,77,79,77,76,76,81,75,73,90,95,71,93,62,90,68,71,73,90,92,107,86,73,93,134,93],\"yaxis\":\"y\",\"type\":\"bar\"},{\"alignmentgroup\":\"True\",\"hovertemplate\":\"churn=yes<br>state=%{x}<br>Count=%{y}<extra></extra>\",\"legendgroup\":\"yes\",\"marker\":{\"color\":\"yellow\",\"pattern\":{\"shape\":\"\"}},\"name\":\"yes\",\"offsetgroup\":\"yes\",\"orientation\":\"v\",\"showlegend\":true,\"textposition\":\"auto\",\"x\":[\"AK\",\"AL\",\"AR\",\"AZ\",\"CA\",\"CO\",\"CT\",\"DC\",\"DE\",\"FL\",\"GA\",\"HI\",\"IA\",\"ID\",\"IL\",\"IN\",\"KS\",\"KY\",\"LA\",\"MA\",\"MD\",\"ME\",\"MI\",\"MN\",\"MO\",\"MS\",\"MT\",\"NC\",\"ND\",\"NE\",\"NH\",\"NJ\",\"NM\",\"NV\",\"NY\",\"OH\",\"OK\",\"OR\",\"PA\",\"RI\",\"SC\",\"SD\",\"TN\",\"TX\",\"UT\",\"VA\",\"VT\",\"WA\",\"WI\",\"WV\",\"WY\"],\"xaxis\":\"x\",\"y\":[10,20,14,13,16,14,20,13,17,14,15,10,8,19,10,18,20,18,12,19,23,19,21,26,15,23,22,12,11,12,19,31,16,17,24,21,19,21,15,9,23,14,16,26,20,11,15,25,13,24,22],\"yaxis\":\"y\",\"type\":\"bar\"}],                        {\"template\":{\"data\":{\"bar\":[{\"error_x\":{\"color\":\"#2a3f5f\"},\"error_y\":{\"color\":\"#2a3f5f\"},\"marker\":{\"line\":{\"color\":\"#E5ECF6\",\"width\":0.5},\"pattern\":{\"fillmode\":\"overlay\",\"size\":10,\"solidity\":0.2}},\"type\":\"bar\"}],\"barpolar\":[{\"marker\":{\"line\":{\"color\":\"#E5ECF6\",\"width\":0.5},\"pattern\":{\"fillmode\":\"overlay\",\"size\":10,\"solidity\":0.2}},\"type\":\"barpolar\"}],\"carpet\":[{\"aaxis\":{\"endlinecolor\":\"#2a3f5f\",\"gridcolor\":\"white\",\"linecolor\":\"white\",\"minorgridcolor\":\"white\",\"startlinecolor\":\"#2a3f5f\"},\"baxis\":{\"endlinecolor\":\"#2a3f5f\",\"gridcolor\":\"white\",\"linecolor\":\"white\",\"minorgridcolor\":\"white\",\"startlinecolor\":\"#2a3f5f\"},\"type\":\"carpet\"}],\"choropleth\":[{\"colorbar\":{\"outlinewidth\":0,\"ticks\":\"\"},\"type\":\"choropleth\"}],\"contour\":[{\"colorbar\":{\"outlinewidth\":0,\"ticks\":\"\"},\"colorscale\":[[0.0,\"#0d0887\"],[0.1111111111111111,\"#46039f\"],[0.2222222222222222,\"#7201a8\"],[0.3333333333333333,\"#9c179e\"],[0.4444444444444444,\"#bd3786\"],[0.5555555555555556,\"#d8576b\"],[0.6666666666666666,\"#ed7953\"],[0.7777777777777778,\"#fb9f3a\"],[0.8888888888888888,\"#fdca26\"],[1.0,\"#f0f921\"]],\"type\":\"contour\"}],\"contourcarpet\":[{\"colorbar\":{\"outlinewidth\":0,\"ticks\":\"\"},\"type\":\"contourcarpet\"}],\"heatmap\":[{\"colorbar\":{\"outlinewidth\":0,\"ticks\":\"\"},\"colorscale\":[[0.0,\"#0d0887\"],[0.1111111111111111,\"#46039f\"],[0.2222222222222222,\"#7201a8\"],[0.3333333333333333,\"#9c179e\"],[0.4444444444444444,\"#bd3786\"],[0.5555555555555556,\"#d8576b\"],[0.6666666666666666,\"#ed7953\"],[0.7777777777777778,\"#fb9f3a\"],[0.8888888888888888,\"#fdca26\"],[1.0,\"#f0f921\"]],\"type\":\"heatmap\"}],\"heatmapgl\":[{\"colorbar\":{\"outlinewidth\":0,\"ticks\":\"\"},\"colorscale\":[[0.0,\"#0d0887\"],[0.1111111111111111,\"#46039f\"],[0.2222222222222222,\"#7201a8\"],[0.3333333333333333,\"#9c179e\"],[0.4444444444444444,\"#bd3786\"],[0.5555555555555556,\"#d8576b\"],[0.6666666666666666,\"#ed7953\"],[0.7777777777777778,\"#fb9f3a\"],[0.8888888888888888,\"#fdca26\"],[1.0,\"#f0f921\"]],\"type\":\"heatmapgl\"}],\"histogram\":[{\"marker\":{\"pattern\":{\"fillmode\":\"overlay\",\"size\":10,\"solidity\":0.2}},\"type\":\"histogram\"}],\"histogram2d\":[{\"colorbar\":{\"outlinewidth\":0,\"ticks\":\"\"},\"colorscale\":[[0.0,\"#0d0887\"],[0.1111111111111111,\"#46039f\"],[0.2222222222222222,\"#7201a8\"],[0.3333333333333333,\"#9c179e\"],[0.4444444444444444,\"#bd3786\"],[0.5555555555555556,\"#d8576b\"],[0.6666666666666666,\"#ed7953\"],[0.7777777777777778,\"#fb9f3a\"],[0.8888888888888888,\"#fdca26\"],[1.0,\"#f0f921\"]],\"type\":\"histogram2d\"}],\"histogram2dcontour\":[{\"colorbar\":{\"outlinewidth\":0,\"ticks\":\"\"},\"colorscale\":[[0.0,\"#0d0887\"],[0.1111111111111111,\"#46039f\"],[0.2222222222222222,\"#7201a8\"],[0.3333333333333333,\"#9c179e\"],[0.4444444444444444,\"#bd3786\"],[0.5555555555555556,\"#d8576b\"],[0.6666666666666666,\"#ed7953\"],[0.7777777777777778,\"#fb9f3a\"],[0.8888888888888888,\"#fdca26\"],[1.0,\"#f0f921\"]],\"type\":\"histogram2dcontour\"}],\"mesh3d\":[{\"colorbar\":{\"outlinewidth\":0,\"ticks\":\"\"},\"type\":\"mesh3d\"}],\"parcoords\":[{\"line\":{\"colorbar\":{\"outlinewidth\":0,\"ticks\":\"\"}},\"type\":\"parcoords\"}],\"pie\":[{\"automargin\":true,\"type\":\"pie\"}],\"scatter\":[{\"marker\":{\"colorbar\":{\"outlinewidth\":0,\"ticks\":\"\"}},\"type\":\"scatter\"}],\"scatter3d\":[{\"line\":{\"colorbar\":{\"outlinewidth\":0,\"ticks\":\"\"}},\"marker\":{\"colorbar\":{\"outlinewidth\":0,\"ticks\":\"\"}},\"type\":\"scatter3d\"}],\"scattercarpet\":[{\"marker\":{\"colorbar\":{\"outlinewidth\":0,\"ticks\":\"\"}},\"type\":\"scattercarpet\"}],\"scattergeo\":[{\"marker\":{\"colorbar\":{\"outlinewidth\":0,\"ticks\":\"\"}},\"type\":\"scattergeo\"}],\"scattergl\":[{\"marker\":{\"colorbar\":{\"outlinewidth\":0,\"ticks\":\"\"}},\"type\":\"scattergl\"}],\"scattermapbox\":[{\"marker\":{\"colorbar\":{\"outlinewidth\":0,\"ticks\":\"\"}},\"type\":\"scattermapbox\"}],\"scatterpolar\":[{\"marker\":{\"colorbar\":{\"outlinewidth\":0,\"ticks\":\"\"}},\"type\":\"scatterpolar\"}],\"scatterpolargl\":[{\"marker\":{\"colorbar\":{\"outlinewidth\":0,\"ticks\":\"\"}},\"type\":\"scatterpolargl\"}],\"scatterternary\":[{\"marker\":{\"colorbar\":{\"outlinewidth\":0,\"ticks\":\"\"}},\"type\":\"scatterternary\"}],\"surface\":[{\"colorbar\":{\"outlinewidth\":0,\"ticks\":\"\"},\"colorscale\":[[0.0,\"#0d0887\"],[0.1111111111111111,\"#46039f\"],[0.2222222222222222,\"#7201a8\"],[0.3333333333333333,\"#9c179e\"],[0.4444444444444444,\"#bd3786\"],[0.5555555555555556,\"#d8576b\"],[0.6666666666666666,\"#ed7953\"],[0.7777777777777778,\"#fb9f3a\"],[0.8888888888888888,\"#fdca26\"],[1.0,\"#f0f921\"]],\"type\":\"surface\"}],\"table\":[{\"cells\":{\"fill\":{\"color\":\"#EBF0F8\"},\"line\":{\"color\":\"white\"}},\"header\":{\"fill\":{\"color\":\"#C8D4E3\"},\"line\":{\"color\":\"white\"}},\"type\":\"table\"}]},\"layout\":{\"annotationdefaults\":{\"arrowcolor\":\"#2a3f5f\",\"arrowhead\":0,\"arrowwidth\":1},\"autotypenumbers\":\"strict\",\"coloraxis\":{\"colorbar\":{\"outlinewidth\":0,\"ticks\":\"\"}},\"colorscale\":{\"diverging\":[[0,\"#8e0152\"],[0.1,\"#c51b7d\"],[0.2,\"#de77ae\"],[0.3,\"#f1b6da\"],[0.4,\"#fde0ef\"],[0.5,\"#f7f7f7\"],[0.6,\"#e6f5d0\"],[0.7,\"#b8e186\"],[0.8,\"#7fbc41\"],[0.9,\"#4d9221\"],[1,\"#276419\"]],\"sequential\":[[0.0,\"#0d0887\"],[0.1111111111111111,\"#46039f\"],[0.2222222222222222,\"#7201a8\"],[0.3333333333333333,\"#9c179e\"],[0.4444444444444444,\"#bd3786\"],[0.5555555555555556,\"#d8576b\"],[0.6666666666666666,\"#ed7953\"],[0.7777777777777778,\"#fb9f3a\"],[0.8888888888888888,\"#fdca26\"],[1.0,\"#f0f921\"]],\"sequentialminus\":[[0.0,\"#0d0887\"],[0.1111111111111111,\"#46039f\"],[0.2222222222222222,\"#7201a8\"],[0.3333333333333333,\"#9c179e\"],[0.4444444444444444,\"#bd3786\"],[0.5555555555555556,\"#d8576b\"],[0.6666666666666666,\"#ed7953\"],[0.7777777777777778,\"#fb9f3a\"],[0.8888888888888888,\"#fdca26\"],[1.0,\"#f0f921\"]]},\"colorway\":[\"#636efa\",\"#EF553B\",\"#00cc96\",\"#ab63fa\",\"#FFA15A\",\"#19d3f3\",\"#FF6692\",\"#B6E880\",\"#FF97FF\",\"#FECB52\"],\"font\":{\"color\":\"#2a3f5f\"},\"geo\":{\"bgcolor\":\"white\",\"lakecolor\":\"white\",\"landcolor\":\"#E5ECF6\",\"showlakes\":true,\"showland\":true,\"subunitcolor\":\"white\"},\"hoverlabel\":{\"align\":\"left\"},\"hovermode\":\"closest\",\"mapbox\":{\"style\":\"light\"},\"paper_bgcolor\":\"white\",\"plot_bgcolor\":\"#E5ECF6\",\"polar\":{\"angularaxis\":{\"gridcolor\":\"white\",\"linecolor\":\"white\",\"ticks\":\"\"},\"bgcolor\":\"#E5ECF6\",\"radialaxis\":{\"gridcolor\":\"white\",\"linecolor\":\"white\",\"ticks\":\"\"}},\"scene\":{\"xaxis\":{\"backgroundcolor\":\"#E5ECF6\",\"gridcolor\":\"white\",\"gridwidth\":2,\"linecolor\":\"white\",\"showbackground\":true,\"ticks\":\"\",\"zerolinecolor\":\"white\"},\"yaxis\":{\"backgroundcolor\":\"#E5ECF6\",\"gridcolor\":\"white\",\"gridwidth\":2,\"linecolor\":\"white\",\"showbackground\":true,\"ticks\":\"\",\"zerolinecolor\":\"white\"},\"zaxis\":{\"backgroundcolor\":\"#E5ECF6\",\"gridcolor\":\"white\",\"gridwidth\":2,\"linecolor\":\"white\",\"showbackground\":true,\"ticks\":\"\",\"zerolinecolor\":\"white\"}},\"shapedefaults\":{\"line\":{\"color\":\"#2a3f5f\"}},\"ternary\":{\"aaxis\":{\"gridcolor\":\"white\",\"linecolor\":\"white\",\"ticks\":\"\"},\"baxis\":{\"gridcolor\":\"white\",\"linecolor\":\"white\",\"ticks\":\"\"},\"bgcolor\":\"#E5ECF6\",\"caxis\":{\"gridcolor\":\"white\",\"linecolor\":\"white\",\"ticks\":\"\"}},\"title\":{\"x\":0.05},\"xaxis\":{\"automargin\":true,\"gridcolor\":\"white\",\"linecolor\":\"white\",\"ticks\":\"\",\"title\":{\"standoff\":15},\"zerolinecolor\":\"white\",\"zerolinewidth\":2},\"yaxis\":{\"automargin\":true,\"gridcolor\":\"white\",\"linecolor\":\"white\",\"ticks\":\"\",\"title\":{\"standoff\":15},\"zerolinecolor\":\"white\",\"zerolinewidth\":2}}},\"xaxis\":{\"anchor\":\"y\",\"domain\":[0.0,1.0],\"title\":{\"text\":\"state\"}},\"yaxis\":{\"anchor\":\"x\",\"domain\":[0.0,1.0],\"title\":{\"text\":\"Count\"}},\"legend\":{\"title\":{\"text\":\"churn\"},\"tracegroupgap\":0},\"title\":{\"text\":\"churn rate by state\"},\"barmode\":\"group\",\"annotations\":[{\"align\":\"left\",\"bordercolor\":\"black\",\"borderwidth\":1,\"showarrow\":false,\"text\":\"Value count of distribution of WV, MN, AL, ID, VA, OH, TX, WY, NY, OR, UT, NJ, WI, MA, ME, MI, MD, VT, RI, MT, CT, MS, KS, KY, WA, IN, CO, NH, DE, MO, AR, NC, NM, SC, NV, OK, FL, AZ, TN, IL, NE, DC, ND, HI, SD, GA, LA, PA, AK, IA & CA are<br>3.2%, 2.5%, 2.5%, 2.4%, 2.4%, 2.3%, 2.3%, 2.3%, 2.3%, 2.3%, 2.2%, 2.2%, 2.1%, 2.1%, 2.1%, 2.1%, 2.0%, 2.0%, 2.0%, 2.0%, 2.0%, 2.0%, 2.0%, 2.0%, 2.0%, 2.0%, 1.9%, 1.9%, 1.9%, 1.9%, 1.8%, 1.8%, 1.8%, 1.8%, 1.8%, 1.8%, 1.8%, 1.8%, 1.8%, 1.8%, 1.8%, 1.8%, 1.8%, 1.7%, 1.7%, 1.7%, 1.6%, 1.5%, 1.4%, 1.4% & 1.0% percentage respectively.\",\"x\":1.4,\"xref\":\"paper\",\"y\":1.3,\"yref\":\"paper\"}],\"margin\":{\"r\":400}},                        {\"responsive\": true}                    ).then(function(){\n",
              "                            \n",
              "var gd = document.getElementById('efce3e50-db04-431e-abe0-8a282c361b61');\n",
              "var x = new MutationObserver(function (mutations, observer) {{\n",
              "        var display = window.getComputedStyle(gd).display;\n",
              "        if (!display || display === 'none') {{\n",
              "            console.log([gd, 'removed!']);\n",
              "            Plotly.purge(gd);\n",
              "            observer.disconnect();\n",
              "        }}\n",
              "}});\n",
              "\n",
              "// Listen for the removal of the full notebook cells\n",
              "var notebookContainer = gd.closest('#notebook-container');\n",
              "if (notebookContainer) {{\n",
              "    x.observe(notebookContainer, {childList: true});\n",
              "}}\n",
              "\n",
              "// Listen for the clearing of the current output cell\n",
              "var outputEl = gd.closest('.output');\n",
              "if (outputEl) {{\n",
              "    x.observe(outputEl, {childList: true});\n",
              "}}\n",
              "\n",
              "                        })                };                            </script>        </div>\n",
              "</body>\n",
              "</html>"
            ]
          },
          "metadata": {},
          "output_type": "display_data"
        },
        {
          "data": {
            "text/html": [
              "<html>\n",
              "<head><meta charset=\"utf-8\" /></head>\n",
              "<body>\n",
              "    <div>            <script src=\"https://cdnjs.cloudflare.com/ajax/libs/mathjax/2.7.5/MathJax.js?config=TeX-AMS-MML_SVG\"></script><script type=\"text/javascript\">if (window.MathJax) {MathJax.Hub.Config({SVG: {font: \"STIX-Web\"}});}</script>                <script type=\"text/javascript\">window.PlotlyConfig = {MathJaxConfig: 'local'};</script>\n",
              "        <script src=\"https://cdn.plot.ly/plotly-2.8.3.min.js\"></script>                <div id=\"4b0d413f-6437-4a25-b91e-49a889795d11\" class=\"plotly-graph-div\" style=\"height:525px; width:100%;\"></div>            <script type=\"text/javascript\">                                    window.PLOTLYENV=window.PLOTLYENV || {};                                    if (document.getElementById(\"4b0d413f-6437-4a25-b91e-49a889795d11\")) {                    Plotly.newPlot(                        \"4b0d413f-6437-4a25-b91e-49a889795d11\",                        [{\"alignmentgroup\":\"True\",\"hovertemplate\":\"churn=no<br>area_code=%{x}<br>Count=%{y}<extra></extra>\",\"legendgroup\":\"no\",\"marker\":{\"color\":\"purple\",\"pattern\":{\"shape\":\"\"}},\"name\":\"no\",\"offsetgroup\":\"no\",\"orientation\":\"v\",\"showlegend\":true,\"textposition\":\"auto\",\"x\":[\"area_code_408\",\"area_code_415\",\"area_code_510\"],\"xaxis\":\"x\",\"y\":[1039,2062,1014],\"yaxis\":\"y\",\"type\":\"bar\"},{\"alignmentgroup\":\"True\",\"hovertemplate\":\"churn=yes<br>area_code=%{x}<br>Count=%{y}<extra></extra>\",\"legendgroup\":\"yes\",\"marker\":{\"color\":\"yellow\",\"pattern\":{\"shape\":\"\"}},\"name\":\"yes\",\"offsetgroup\":\"yes\",\"orientation\":\"v\",\"showlegend\":true,\"textposition\":\"auto\",\"x\":[\"area_code_408\",\"area_code_415\",\"area_code_510\"],\"xaxis\":\"x\",\"y\":[220,433,232],\"yaxis\":\"y\",\"type\":\"bar\"}],                        {\"template\":{\"data\":{\"bar\":[{\"error_x\":{\"color\":\"#2a3f5f\"},\"error_y\":{\"color\":\"#2a3f5f\"},\"marker\":{\"line\":{\"color\":\"#E5ECF6\",\"width\":0.5},\"pattern\":{\"fillmode\":\"overlay\",\"size\":10,\"solidity\":0.2}},\"type\":\"bar\"}],\"barpolar\":[{\"marker\":{\"line\":{\"color\":\"#E5ECF6\",\"width\":0.5},\"pattern\":{\"fillmode\":\"overlay\",\"size\":10,\"solidity\":0.2}},\"type\":\"barpolar\"}],\"carpet\":[{\"aaxis\":{\"endlinecolor\":\"#2a3f5f\",\"gridcolor\":\"white\",\"linecolor\":\"white\",\"minorgridcolor\":\"white\",\"startlinecolor\":\"#2a3f5f\"},\"baxis\":{\"endlinecolor\":\"#2a3f5f\",\"gridcolor\":\"white\",\"linecolor\":\"white\",\"minorgridcolor\":\"white\",\"startlinecolor\":\"#2a3f5f\"},\"type\":\"carpet\"}],\"choropleth\":[{\"colorbar\":{\"outlinewidth\":0,\"ticks\":\"\"},\"type\":\"choropleth\"}],\"contour\":[{\"colorbar\":{\"outlinewidth\":0,\"ticks\":\"\"},\"colorscale\":[[0.0,\"#0d0887\"],[0.1111111111111111,\"#46039f\"],[0.2222222222222222,\"#7201a8\"],[0.3333333333333333,\"#9c179e\"],[0.4444444444444444,\"#bd3786\"],[0.5555555555555556,\"#d8576b\"],[0.6666666666666666,\"#ed7953\"],[0.7777777777777778,\"#fb9f3a\"],[0.8888888888888888,\"#fdca26\"],[1.0,\"#f0f921\"]],\"type\":\"contour\"}],\"contourcarpet\":[{\"colorbar\":{\"outlinewidth\":0,\"ticks\":\"\"},\"type\":\"contourcarpet\"}],\"heatmap\":[{\"colorbar\":{\"outlinewidth\":0,\"ticks\":\"\"},\"colorscale\":[[0.0,\"#0d0887\"],[0.1111111111111111,\"#46039f\"],[0.2222222222222222,\"#7201a8\"],[0.3333333333333333,\"#9c179e\"],[0.4444444444444444,\"#bd3786\"],[0.5555555555555556,\"#d8576b\"],[0.6666666666666666,\"#ed7953\"],[0.7777777777777778,\"#fb9f3a\"],[0.8888888888888888,\"#fdca26\"],[1.0,\"#f0f921\"]],\"type\":\"heatmap\"}],\"heatmapgl\":[{\"colorbar\":{\"outlinewidth\":0,\"ticks\":\"\"},\"colorscale\":[[0.0,\"#0d0887\"],[0.1111111111111111,\"#46039f\"],[0.2222222222222222,\"#7201a8\"],[0.3333333333333333,\"#9c179e\"],[0.4444444444444444,\"#bd3786\"],[0.5555555555555556,\"#d8576b\"],[0.6666666666666666,\"#ed7953\"],[0.7777777777777778,\"#fb9f3a\"],[0.8888888888888888,\"#fdca26\"],[1.0,\"#f0f921\"]],\"type\":\"heatmapgl\"}],\"histogram\":[{\"marker\":{\"pattern\":{\"fillmode\":\"overlay\",\"size\":10,\"solidity\":0.2}},\"type\":\"histogram\"}],\"histogram2d\":[{\"colorbar\":{\"outlinewidth\":0,\"ticks\":\"\"},\"colorscale\":[[0.0,\"#0d0887\"],[0.1111111111111111,\"#46039f\"],[0.2222222222222222,\"#7201a8\"],[0.3333333333333333,\"#9c179e\"],[0.4444444444444444,\"#bd3786\"],[0.5555555555555556,\"#d8576b\"],[0.6666666666666666,\"#ed7953\"],[0.7777777777777778,\"#fb9f3a\"],[0.8888888888888888,\"#fdca26\"],[1.0,\"#f0f921\"]],\"type\":\"histogram2d\"}],\"histogram2dcontour\":[{\"colorbar\":{\"outlinewidth\":0,\"ticks\":\"\"},\"colorscale\":[[0.0,\"#0d0887\"],[0.1111111111111111,\"#46039f\"],[0.2222222222222222,\"#7201a8\"],[0.3333333333333333,\"#9c179e\"],[0.4444444444444444,\"#bd3786\"],[0.5555555555555556,\"#d8576b\"],[0.6666666666666666,\"#ed7953\"],[0.7777777777777778,\"#fb9f3a\"],[0.8888888888888888,\"#fdca26\"],[1.0,\"#f0f921\"]],\"type\":\"histogram2dcontour\"}],\"mesh3d\":[{\"colorbar\":{\"outlinewidth\":0,\"ticks\":\"\"},\"type\":\"mesh3d\"}],\"parcoords\":[{\"line\":{\"colorbar\":{\"outlinewidth\":0,\"ticks\":\"\"}},\"type\":\"parcoords\"}],\"pie\":[{\"automargin\":true,\"type\":\"pie\"}],\"scatter\":[{\"marker\":{\"colorbar\":{\"outlinewidth\":0,\"ticks\":\"\"}},\"type\":\"scatter\"}],\"scatter3d\":[{\"line\":{\"colorbar\":{\"outlinewidth\":0,\"ticks\":\"\"}},\"marker\":{\"colorbar\":{\"outlinewidth\":0,\"ticks\":\"\"}},\"type\":\"scatter3d\"}],\"scattercarpet\":[{\"marker\":{\"colorbar\":{\"outlinewidth\":0,\"ticks\":\"\"}},\"type\":\"scattercarpet\"}],\"scattergeo\":[{\"marker\":{\"colorbar\":{\"outlinewidth\":0,\"ticks\":\"\"}},\"type\":\"scattergeo\"}],\"scattergl\":[{\"marker\":{\"colorbar\":{\"outlinewidth\":0,\"ticks\":\"\"}},\"type\":\"scattergl\"}],\"scattermapbox\":[{\"marker\":{\"colorbar\":{\"outlinewidth\":0,\"ticks\":\"\"}},\"type\":\"scattermapbox\"}],\"scatterpolar\":[{\"marker\":{\"colorbar\":{\"outlinewidth\":0,\"ticks\":\"\"}},\"type\":\"scatterpolar\"}],\"scatterpolargl\":[{\"marker\":{\"colorbar\":{\"outlinewidth\":0,\"ticks\":\"\"}},\"type\":\"scatterpolargl\"}],\"scatterternary\":[{\"marker\":{\"colorbar\":{\"outlinewidth\":0,\"ticks\":\"\"}},\"type\":\"scatterternary\"}],\"surface\":[{\"colorbar\":{\"outlinewidth\":0,\"ticks\":\"\"},\"colorscale\":[[0.0,\"#0d0887\"],[0.1111111111111111,\"#46039f\"],[0.2222222222222222,\"#7201a8\"],[0.3333333333333333,\"#9c179e\"],[0.4444444444444444,\"#bd3786\"],[0.5555555555555556,\"#d8576b\"],[0.6666666666666666,\"#ed7953\"],[0.7777777777777778,\"#fb9f3a\"],[0.8888888888888888,\"#fdca26\"],[1.0,\"#f0f921\"]],\"type\":\"surface\"}],\"table\":[{\"cells\":{\"fill\":{\"color\":\"#EBF0F8\"},\"line\":{\"color\":\"white\"}},\"header\":{\"fill\":{\"color\":\"#C8D4E3\"},\"line\":{\"color\":\"white\"}},\"type\":\"table\"}]},\"layout\":{\"annotationdefaults\":{\"arrowcolor\":\"#2a3f5f\",\"arrowhead\":0,\"arrowwidth\":1},\"autotypenumbers\":\"strict\",\"coloraxis\":{\"colorbar\":{\"outlinewidth\":0,\"ticks\":\"\"}},\"colorscale\":{\"diverging\":[[0,\"#8e0152\"],[0.1,\"#c51b7d\"],[0.2,\"#de77ae\"],[0.3,\"#f1b6da\"],[0.4,\"#fde0ef\"],[0.5,\"#f7f7f7\"],[0.6,\"#e6f5d0\"],[0.7,\"#b8e186\"],[0.8,\"#7fbc41\"],[0.9,\"#4d9221\"],[1,\"#276419\"]],\"sequential\":[[0.0,\"#0d0887\"],[0.1111111111111111,\"#46039f\"],[0.2222222222222222,\"#7201a8\"],[0.3333333333333333,\"#9c179e\"],[0.4444444444444444,\"#bd3786\"],[0.5555555555555556,\"#d8576b\"],[0.6666666666666666,\"#ed7953\"],[0.7777777777777778,\"#fb9f3a\"],[0.8888888888888888,\"#fdca26\"],[1.0,\"#f0f921\"]],\"sequentialminus\":[[0.0,\"#0d0887\"],[0.1111111111111111,\"#46039f\"],[0.2222222222222222,\"#7201a8\"],[0.3333333333333333,\"#9c179e\"],[0.4444444444444444,\"#bd3786\"],[0.5555555555555556,\"#d8576b\"],[0.6666666666666666,\"#ed7953\"],[0.7777777777777778,\"#fb9f3a\"],[0.8888888888888888,\"#fdca26\"],[1.0,\"#f0f921\"]]},\"colorway\":[\"#636efa\",\"#EF553B\",\"#00cc96\",\"#ab63fa\",\"#FFA15A\",\"#19d3f3\",\"#FF6692\",\"#B6E880\",\"#FF97FF\",\"#FECB52\"],\"font\":{\"color\":\"#2a3f5f\"},\"geo\":{\"bgcolor\":\"white\",\"lakecolor\":\"white\",\"landcolor\":\"#E5ECF6\",\"showlakes\":true,\"showland\":true,\"subunitcolor\":\"white\"},\"hoverlabel\":{\"align\":\"left\"},\"hovermode\":\"closest\",\"mapbox\":{\"style\":\"light\"},\"paper_bgcolor\":\"white\",\"plot_bgcolor\":\"#E5ECF6\",\"polar\":{\"angularaxis\":{\"gridcolor\":\"white\",\"linecolor\":\"white\",\"ticks\":\"\"},\"bgcolor\":\"#E5ECF6\",\"radialaxis\":{\"gridcolor\":\"white\",\"linecolor\":\"white\",\"ticks\":\"\"}},\"scene\":{\"xaxis\":{\"backgroundcolor\":\"#E5ECF6\",\"gridcolor\":\"white\",\"gridwidth\":2,\"linecolor\":\"white\",\"showbackground\":true,\"ticks\":\"\",\"zerolinecolor\":\"white\"},\"yaxis\":{\"backgroundcolor\":\"#E5ECF6\",\"gridcolor\":\"white\",\"gridwidth\":2,\"linecolor\":\"white\",\"showbackground\":true,\"ticks\":\"\",\"zerolinecolor\":\"white\"},\"zaxis\":{\"backgroundcolor\":\"#E5ECF6\",\"gridcolor\":\"white\",\"gridwidth\":2,\"linecolor\":\"white\",\"showbackground\":true,\"ticks\":\"\",\"zerolinecolor\":\"white\"}},\"shapedefaults\":{\"line\":{\"color\":\"#2a3f5f\"}},\"ternary\":{\"aaxis\":{\"gridcolor\":\"white\",\"linecolor\":\"white\",\"ticks\":\"\"},\"baxis\":{\"gridcolor\":\"white\",\"linecolor\":\"white\",\"ticks\":\"\"},\"bgcolor\":\"#E5ECF6\",\"caxis\":{\"gridcolor\":\"white\",\"linecolor\":\"white\",\"ticks\":\"\"}},\"title\":{\"x\":0.05},\"xaxis\":{\"automargin\":true,\"gridcolor\":\"white\",\"linecolor\":\"white\",\"ticks\":\"\",\"title\":{\"standoff\":15},\"zerolinecolor\":\"white\",\"zerolinewidth\":2},\"yaxis\":{\"automargin\":true,\"gridcolor\":\"white\",\"linecolor\":\"white\",\"ticks\":\"\",\"title\":{\"standoff\":15},\"zerolinecolor\":\"white\",\"zerolinewidth\":2}}},\"xaxis\":{\"anchor\":\"y\",\"domain\":[0.0,1.0],\"title\":{\"text\":\"area_code\"}},\"yaxis\":{\"anchor\":\"x\",\"domain\":[0.0,1.0],\"title\":{\"text\":\"Count\"}},\"legend\":{\"title\":{\"text\":\"churn\"},\"tracegroupgap\":0},\"title\":{\"text\":\"churn rate by area_code\"},\"barmode\":\"group\",\"annotations\":[{\"align\":\"left\",\"bordercolor\":\"black\",\"borderwidth\":1,\"showarrow\":false,\"text\":\"Value count of distribution of area_code_415, area_code_408 & area_code_510 are<br>49.9%, 25.2% & 24.9% percentage respectively.\",\"x\":1.4,\"xref\":\"paper\",\"y\":1.3,\"yref\":\"paper\"}],\"margin\":{\"r\":400}},                        {\"responsive\": true}                    ).then(function(){\n",
              "                            \n",
              "var gd = document.getElementById('4b0d413f-6437-4a25-b91e-49a889795d11');\n",
              "var x = new MutationObserver(function (mutations, observer) {{\n",
              "        var display = window.getComputedStyle(gd).display;\n",
              "        if (!display || display === 'none') {{\n",
              "            console.log([gd, 'removed!']);\n",
              "            Plotly.purge(gd);\n",
              "            observer.disconnect();\n",
              "        }}\n",
              "}});\n",
              "\n",
              "// Listen for the removal of the full notebook cells\n",
              "var notebookContainer = gd.closest('#notebook-container');\n",
              "if (notebookContainer) {{\n",
              "    x.observe(notebookContainer, {childList: true});\n",
              "}}\n",
              "\n",
              "// Listen for the clearing of the current output cell\n",
              "var outputEl = gd.closest('.output');\n",
              "if (outputEl) {{\n",
              "    x.observe(outputEl, {childList: true});\n",
              "}}\n",
              "\n",
              "                        })                };                            </script>        </div>\n",
              "</body>\n",
              "</html>"
            ]
          },
          "metadata": {},
          "output_type": "display_data"
        },
        {
          "data": {
            "text/html": [
              "<html>\n",
              "<head><meta charset=\"utf-8\" /></head>\n",
              "<body>\n",
              "    <div>            <script src=\"https://cdnjs.cloudflare.com/ajax/libs/mathjax/2.7.5/MathJax.js?config=TeX-AMS-MML_SVG\"></script><script type=\"text/javascript\">if (window.MathJax) {MathJax.Hub.Config({SVG: {font: \"STIX-Web\"}});}</script>                <script type=\"text/javascript\">window.PlotlyConfig = {MathJaxConfig: 'local'};</script>\n",
              "        <script src=\"https://cdn.plot.ly/plotly-2.8.3.min.js\"></script>                <div id=\"a13f1d46-9e05-4ca5-af15-6c6306280cea\" class=\"plotly-graph-div\" style=\"height:525px; width:100%;\"></div>            <script type=\"text/javascript\">                                    window.PLOTLYENV=window.PLOTLYENV || {};                                    if (document.getElementById(\"a13f1d46-9e05-4ca5-af15-6c6306280cea\")) {                    Plotly.newPlot(                        \"a13f1d46-9e05-4ca5-af15-6c6306280cea\",                        [{\"alignmentgroup\":\"True\",\"hovertemplate\":\"churn=no<br>international_plan=%{x}<br>Count=%{y}<extra></extra>\",\"legendgroup\":\"no\",\"marker\":{\"color\":\"purple\",\"pattern\":{\"shape\":\"\"}},\"name\":\"no\",\"offsetgroup\":\"no\",\"orientation\":\"v\",\"showlegend\":true,\"textposition\":\"auto\",\"x\":[\"no\",\"yes\"],\"xaxis\":\"x\",\"y\":[3839,276],\"yaxis\":\"y\",\"type\":\"bar\"},{\"alignmentgroup\":\"True\",\"hovertemplate\":\"churn=yes<br>international_plan=%{x}<br>Count=%{y}<extra></extra>\",\"legendgroup\":\"yes\",\"marker\":{\"color\":\"yellow\",\"pattern\":{\"shape\":\"\"}},\"name\":\"yes\",\"offsetgroup\":\"yes\",\"orientation\":\"v\",\"showlegend\":true,\"textposition\":\"auto\",\"x\":[\"no\",\"yes\"],\"xaxis\":\"x\",\"y\":[688,197],\"yaxis\":\"y\",\"type\":\"bar\"}],                        {\"template\":{\"data\":{\"bar\":[{\"error_x\":{\"color\":\"#2a3f5f\"},\"error_y\":{\"color\":\"#2a3f5f\"},\"marker\":{\"line\":{\"color\":\"#E5ECF6\",\"width\":0.5},\"pattern\":{\"fillmode\":\"overlay\",\"size\":10,\"solidity\":0.2}},\"type\":\"bar\"}],\"barpolar\":[{\"marker\":{\"line\":{\"color\":\"#E5ECF6\",\"width\":0.5},\"pattern\":{\"fillmode\":\"overlay\",\"size\":10,\"solidity\":0.2}},\"type\":\"barpolar\"}],\"carpet\":[{\"aaxis\":{\"endlinecolor\":\"#2a3f5f\",\"gridcolor\":\"white\",\"linecolor\":\"white\",\"minorgridcolor\":\"white\",\"startlinecolor\":\"#2a3f5f\"},\"baxis\":{\"endlinecolor\":\"#2a3f5f\",\"gridcolor\":\"white\",\"linecolor\":\"white\",\"minorgridcolor\":\"white\",\"startlinecolor\":\"#2a3f5f\"},\"type\":\"carpet\"}],\"choropleth\":[{\"colorbar\":{\"outlinewidth\":0,\"ticks\":\"\"},\"type\":\"choropleth\"}],\"contour\":[{\"colorbar\":{\"outlinewidth\":0,\"ticks\":\"\"},\"colorscale\":[[0.0,\"#0d0887\"],[0.1111111111111111,\"#46039f\"],[0.2222222222222222,\"#7201a8\"],[0.3333333333333333,\"#9c179e\"],[0.4444444444444444,\"#bd3786\"],[0.5555555555555556,\"#d8576b\"],[0.6666666666666666,\"#ed7953\"],[0.7777777777777778,\"#fb9f3a\"],[0.8888888888888888,\"#fdca26\"],[1.0,\"#f0f921\"]],\"type\":\"contour\"}],\"contourcarpet\":[{\"colorbar\":{\"outlinewidth\":0,\"ticks\":\"\"},\"type\":\"contourcarpet\"}],\"heatmap\":[{\"colorbar\":{\"outlinewidth\":0,\"ticks\":\"\"},\"colorscale\":[[0.0,\"#0d0887\"],[0.1111111111111111,\"#46039f\"],[0.2222222222222222,\"#7201a8\"],[0.3333333333333333,\"#9c179e\"],[0.4444444444444444,\"#bd3786\"],[0.5555555555555556,\"#d8576b\"],[0.6666666666666666,\"#ed7953\"],[0.7777777777777778,\"#fb9f3a\"],[0.8888888888888888,\"#fdca26\"],[1.0,\"#f0f921\"]],\"type\":\"heatmap\"}],\"heatmapgl\":[{\"colorbar\":{\"outlinewidth\":0,\"ticks\":\"\"},\"colorscale\":[[0.0,\"#0d0887\"],[0.1111111111111111,\"#46039f\"],[0.2222222222222222,\"#7201a8\"],[0.3333333333333333,\"#9c179e\"],[0.4444444444444444,\"#bd3786\"],[0.5555555555555556,\"#d8576b\"],[0.6666666666666666,\"#ed7953\"],[0.7777777777777778,\"#fb9f3a\"],[0.8888888888888888,\"#fdca26\"],[1.0,\"#f0f921\"]],\"type\":\"heatmapgl\"}],\"histogram\":[{\"marker\":{\"pattern\":{\"fillmode\":\"overlay\",\"size\":10,\"solidity\":0.2}},\"type\":\"histogram\"}],\"histogram2d\":[{\"colorbar\":{\"outlinewidth\":0,\"ticks\":\"\"},\"colorscale\":[[0.0,\"#0d0887\"],[0.1111111111111111,\"#46039f\"],[0.2222222222222222,\"#7201a8\"],[0.3333333333333333,\"#9c179e\"],[0.4444444444444444,\"#bd3786\"],[0.5555555555555556,\"#d8576b\"],[0.6666666666666666,\"#ed7953\"],[0.7777777777777778,\"#fb9f3a\"],[0.8888888888888888,\"#fdca26\"],[1.0,\"#f0f921\"]],\"type\":\"histogram2d\"}],\"histogram2dcontour\":[{\"colorbar\":{\"outlinewidth\":0,\"ticks\":\"\"},\"colorscale\":[[0.0,\"#0d0887\"],[0.1111111111111111,\"#46039f\"],[0.2222222222222222,\"#7201a8\"],[0.3333333333333333,\"#9c179e\"],[0.4444444444444444,\"#bd3786\"],[0.5555555555555556,\"#d8576b\"],[0.6666666666666666,\"#ed7953\"],[0.7777777777777778,\"#fb9f3a\"],[0.8888888888888888,\"#fdca26\"],[1.0,\"#f0f921\"]],\"type\":\"histogram2dcontour\"}],\"mesh3d\":[{\"colorbar\":{\"outlinewidth\":0,\"ticks\":\"\"},\"type\":\"mesh3d\"}],\"parcoords\":[{\"line\":{\"colorbar\":{\"outlinewidth\":0,\"ticks\":\"\"}},\"type\":\"parcoords\"}],\"pie\":[{\"automargin\":true,\"type\":\"pie\"}],\"scatter\":[{\"marker\":{\"colorbar\":{\"outlinewidth\":0,\"ticks\":\"\"}},\"type\":\"scatter\"}],\"scatter3d\":[{\"line\":{\"colorbar\":{\"outlinewidth\":0,\"ticks\":\"\"}},\"marker\":{\"colorbar\":{\"outlinewidth\":0,\"ticks\":\"\"}},\"type\":\"scatter3d\"}],\"scattercarpet\":[{\"marker\":{\"colorbar\":{\"outlinewidth\":0,\"ticks\":\"\"}},\"type\":\"scattercarpet\"}],\"scattergeo\":[{\"marker\":{\"colorbar\":{\"outlinewidth\":0,\"ticks\":\"\"}},\"type\":\"scattergeo\"}],\"scattergl\":[{\"marker\":{\"colorbar\":{\"outlinewidth\":0,\"ticks\":\"\"}},\"type\":\"scattergl\"}],\"scattermapbox\":[{\"marker\":{\"colorbar\":{\"outlinewidth\":0,\"ticks\":\"\"}},\"type\":\"scattermapbox\"}],\"scatterpolar\":[{\"marker\":{\"colorbar\":{\"outlinewidth\":0,\"ticks\":\"\"}},\"type\":\"scatterpolar\"}],\"scatterpolargl\":[{\"marker\":{\"colorbar\":{\"outlinewidth\":0,\"ticks\":\"\"}},\"type\":\"scatterpolargl\"}],\"scatterternary\":[{\"marker\":{\"colorbar\":{\"outlinewidth\":0,\"ticks\":\"\"}},\"type\":\"scatterternary\"}],\"surface\":[{\"colorbar\":{\"outlinewidth\":0,\"ticks\":\"\"},\"colorscale\":[[0.0,\"#0d0887\"],[0.1111111111111111,\"#46039f\"],[0.2222222222222222,\"#7201a8\"],[0.3333333333333333,\"#9c179e\"],[0.4444444444444444,\"#bd3786\"],[0.5555555555555556,\"#d8576b\"],[0.6666666666666666,\"#ed7953\"],[0.7777777777777778,\"#fb9f3a\"],[0.8888888888888888,\"#fdca26\"],[1.0,\"#f0f921\"]],\"type\":\"surface\"}],\"table\":[{\"cells\":{\"fill\":{\"color\":\"#EBF0F8\"},\"line\":{\"color\":\"white\"}},\"header\":{\"fill\":{\"color\":\"#C8D4E3\"},\"line\":{\"color\":\"white\"}},\"type\":\"table\"}]},\"layout\":{\"annotationdefaults\":{\"arrowcolor\":\"#2a3f5f\",\"arrowhead\":0,\"arrowwidth\":1},\"autotypenumbers\":\"strict\",\"coloraxis\":{\"colorbar\":{\"outlinewidth\":0,\"ticks\":\"\"}},\"colorscale\":{\"diverging\":[[0,\"#8e0152\"],[0.1,\"#c51b7d\"],[0.2,\"#de77ae\"],[0.3,\"#f1b6da\"],[0.4,\"#fde0ef\"],[0.5,\"#f7f7f7\"],[0.6,\"#e6f5d0\"],[0.7,\"#b8e186\"],[0.8,\"#7fbc41\"],[0.9,\"#4d9221\"],[1,\"#276419\"]],\"sequential\":[[0.0,\"#0d0887\"],[0.1111111111111111,\"#46039f\"],[0.2222222222222222,\"#7201a8\"],[0.3333333333333333,\"#9c179e\"],[0.4444444444444444,\"#bd3786\"],[0.5555555555555556,\"#d8576b\"],[0.6666666666666666,\"#ed7953\"],[0.7777777777777778,\"#fb9f3a\"],[0.8888888888888888,\"#fdca26\"],[1.0,\"#f0f921\"]],\"sequentialminus\":[[0.0,\"#0d0887\"],[0.1111111111111111,\"#46039f\"],[0.2222222222222222,\"#7201a8\"],[0.3333333333333333,\"#9c179e\"],[0.4444444444444444,\"#bd3786\"],[0.5555555555555556,\"#d8576b\"],[0.6666666666666666,\"#ed7953\"],[0.7777777777777778,\"#fb9f3a\"],[0.8888888888888888,\"#fdca26\"],[1.0,\"#f0f921\"]]},\"colorway\":[\"#636efa\",\"#EF553B\",\"#00cc96\",\"#ab63fa\",\"#FFA15A\",\"#19d3f3\",\"#FF6692\",\"#B6E880\",\"#FF97FF\",\"#FECB52\"],\"font\":{\"color\":\"#2a3f5f\"},\"geo\":{\"bgcolor\":\"white\",\"lakecolor\":\"white\",\"landcolor\":\"#E5ECF6\",\"showlakes\":true,\"showland\":true,\"subunitcolor\":\"white\"},\"hoverlabel\":{\"align\":\"left\"},\"hovermode\":\"closest\",\"mapbox\":{\"style\":\"light\"},\"paper_bgcolor\":\"white\",\"plot_bgcolor\":\"#E5ECF6\",\"polar\":{\"angularaxis\":{\"gridcolor\":\"white\",\"linecolor\":\"white\",\"ticks\":\"\"},\"bgcolor\":\"#E5ECF6\",\"radialaxis\":{\"gridcolor\":\"white\",\"linecolor\":\"white\",\"ticks\":\"\"}},\"scene\":{\"xaxis\":{\"backgroundcolor\":\"#E5ECF6\",\"gridcolor\":\"white\",\"gridwidth\":2,\"linecolor\":\"white\",\"showbackground\":true,\"ticks\":\"\",\"zerolinecolor\":\"white\"},\"yaxis\":{\"backgroundcolor\":\"#E5ECF6\",\"gridcolor\":\"white\",\"gridwidth\":2,\"linecolor\":\"white\",\"showbackground\":true,\"ticks\":\"\",\"zerolinecolor\":\"white\"},\"zaxis\":{\"backgroundcolor\":\"#E5ECF6\",\"gridcolor\":\"white\",\"gridwidth\":2,\"linecolor\":\"white\",\"showbackground\":true,\"ticks\":\"\",\"zerolinecolor\":\"white\"}},\"shapedefaults\":{\"line\":{\"color\":\"#2a3f5f\"}},\"ternary\":{\"aaxis\":{\"gridcolor\":\"white\",\"linecolor\":\"white\",\"ticks\":\"\"},\"baxis\":{\"gridcolor\":\"white\",\"linecolor\":\"white\",\"ticks\":\"\"},\"bgcolor\":\"#E5ECF6\",\"caxis\":{\"gridcolor\":\"white\",\"linecolor\":\"white\",\"ticks\":\"\"}},\"title\":{\"x\":0.05},\"xaxis\":{\"automargin\":true,\"gridcolor\":\"white\",\"linecolor\":\"white\",\"ticks\":\"\",\"title\":{\"standoff\":15},\"zerolinecolor\":\"white\",\"zerolinewidth\":2},\"yaxis\":{\"automargin\":true,\"gridcolor\":\"white\",\"linecolor\":\"white\",\"ticks\":\"\",\"title\":{\"standoff\":15},\"zerolinecolor\":\"white\",\"zerolinewidth\":2}}},\"xaxis\":{\"anchor\":\"y\",\"domain\":[0.0,1.0],\"title\":{\"text\":\"international_plan\"}},\"yaxis\":{\"anchor\":\"x\",\"domain\":[0.0,1.0],\"title\":{\"text\":\"Count\"}},\"legend\":{\"title\":{\"text\":\"churn\"},\"tracegroupgap\":0},\"title\":{\"text\":\"churn rate by international_plan\"},\"barmode\":\"group\",\"annotations\":[{\"align\":\"left\",\"bordercolor\":\"black\",\"borderwidth\":1,\"showarrow\":false,\"text\":\"Value count of distribution of no & yes are<br>90.5% & 9.5% percentage respectively.\",\"x\":1.4,\"xref\":\"paper\",\"y\":1.3,\"yref\":\"paper\"}],\"margin\":{\"r\":400}},                        {\"responsive\": true}                    ).then(function(){\n",
              "                            \n",
              "var gd = document.getElementById('a13f1d46-9e05-4ca5-af15-6c6306280cea');\n",
              "var x = new MutationObserver(function (mutations, observer) {{\n",
              "        var display = window.getComputedStyle(gd).display;\n",
              "        if (!display || display === 'none') {{\n",
              "            console.log([gd, 'removed!']);\n",
              "            Plotly.purge(gd);\n",
              "            observer.disconnect();\n",
              "        }}\n",
              "}});\n",
              "\n",
              "// Listen for the removal of the full notebook cells\n",
              "var notebookContainer = gd.closest('#notebook-container');\n",
              "if (notebookContainer) {{\n",
              "    x.observe(notebookContainer, {childList: true});\n",
              "}}\n",
              "\n",
              "// Listen for the clearing of the current output cell\n",
              "var outputEl = gd.closest('.output');\n",
              "if (outputEl) {{\n",
              "    x.observe(outputEl, {childList: true});\n",
              "}}\n",
              "\n",
              "                        })                };                            </script>        </div>\n",
              "</body>\n",
              "</html>"
            ]
          },
          "metadata": {},
          "output_type": "display_data"
        },
        {
          "data": {
            "text/html": [
              "<html>\n",
              "<head><meta charset=\"utf-8\" /></head>\n",
              "<body>\n",
              "    <div>            <script src=\"https://cdnjs.cloudflare.com/ajax/libs/mathjax/2.7.5/MathJax.js?config=TeX-AMS-MML_SVG\"></script><script type=\"text/javascript\">if (window.MathJax) {MathJax.Hub.Config({SVG: {font: \"STIX-Web\"}});}</script>                <script type=\"text/javascript\">window.PlotlyConfig = {MathJaxConfig: 'local'};</script>\n",
              "        <script src=\"https://cdn.plot.ly/plotly-2.8.3.min.js\"></script>                <div id=\"92ba0048-405b-4af3-8f7d-3706b57845ae\" class=\"plotly-graph-div\" style=\"height:525px; width:100%;\"></div>            <script type=\"text/javascript\">                                    window.PLOTLYENV=window.PLOTLYENV || {};                                    if (document.getElementById(\"92ba0048-405b-4af3-8f7d-3706b57845ae\")) {                    Plotly.newPlot(                        \"92ba0048-405b-4af3-8f7d-3706b57845ae\",                        [{\"alignmentgroup\":\"True\",\"hovertemplate\":\"churn=no<br>voice_mail_plan=%{x}<br>Count=%{y}<extra></extra>\",\"legendgroup\":\"no\",\"marker\":{\"color\":\"purple\",\"pattern\":{\"shape\":\"\"}},\"name\":\"no\",\"offsetgroup\":\"no\",\"orientation\":\"v\",\"showlegend\":true,\"textposition\":\"auto\",\"x\":[\"no\",\"yes\"],\"xaxis\":\"x\",\"y\":[2954,1161],\"yaxis\":\"y\",\"type\":\"bar\"},{\"alignmentgroup\":\"True\",\"hovertemplate\":\"churn=yes<br>voice_mail_plan=%{x}<br>Count=%{y}<extra></extra>\",\"legendgroup\":\"yes\",\"marker\":{\"color\":\"yellow\",\"pattern\":{\"shape\":\"\"}},\"name\":\"yes\",\"offsetgroup\":\"yes\",\"orientation\":\"v\",\"showlegend\":true,\"textposition\":\"auto\",\"x\":[\"no\",\"yes\"],\"xaxis\":\"x\",\"y\":[723,162],\"yaxis\":\"y\",\"type\":\"bar\"}],                        {\"template\":{\"data\":{\"bar\":[{\"error_x\":{\"color\":\"#2a3f5f\"},\"error_y\":{\"color\":\"#2a3f5f\"},\"marker\":{\"line\":{\"color\":\"#E5ECF6\",\"width\":0.5},\"pattern\":{\"fillmode\":\"overlay\",\"size\":10,\"solidity\":0.2}},\"type\":\"bar\"}],\"barpolar\":[{\"marker\":{\"line\":{\"color\":\"#E5ECF6\",\"width\":0.5},\"pattern\":{\"fillmode\":\"overlay\",\"size\":10,\"solidity\":0.2}},\"type\":\"barpolar\"}],\"carpet\":[{\"aaxis\":{\"endlinecolor\":\"#2a3f5f\",\"gridcolor\":\"white\",\"linecolor\":\"white\",\"minorgridcolor\":\"white\",\"startlinecolor\":\"#2a3f5f\"},\"baxis\":{\"endlinecolor\":\"#2a3f5f\",\"gridcolor\":\"white\",\"linecolor\":\"white\",\"minorgridcolor\":\"white\",\"startlinecolor\":\"#2a3f5f\"},\"type\":\"carpet\"}],\"choropleth\":[{\"colorbar\":{\"outlinewidth\":0,\"ticks\":\"\"},\"type\":\"choropleth\"}],\"contour\":[{\"colorbar\":{\"outlinewidth\":0,\"ticks\":\"\"},\"colorscale\":[[0.0,\"#0d0887\"],[0.1111111111111111,\"#46039f\"],[0.2222222222222222,\"#7201a8\"],[0.3333333333333333,\"#9c179e\"],[0.4444444444444444,\"#bd3786\"],[0.5555555555555556,\"#d8576b\"],[0.6666666666666666,\"#ed7953\"],[0.7777777777777778,\"#fb9f3a\"],[0.8888888888888888,\"#fdca26\"],[1.0,\"#f0f921\"]],\"type\":\"contour\"}],\"contourcarpet\":[{\"colorbar\":{\"outlinewidth\":0,\"ticks\":\"\"},\"type\":\"contourcarpet\"}],\"heatmap\":[{\"colorbar\":{\"outlinewidth\":0,\"ticks\":\"\"},\"colorscale\":[[0.0,\"#0d0887\"],[0.1111111111111111,\"#46039f\"],[0.2222222222222222,\"#7201a8\"],[0.3333333333333333,\"#9c179e\"],[0.4444444444444444,\"#bd3786\"],[0.5555555555555556,\"#d8576b\"],[0.6666666666666666,\"#ed7953\"],[0.7777777777777778,\"#fb9f3a\"],[0.8888888888888888,\"#fdca26\"],[1.0,\"#f0f921\"]],\"type\":\"heatmap\"}],\"heatmapgl\":[{\"colorbar\":{\"outlinewidth\":0,\"ticks\":\"\"},\"colorscale\":[[0.0,\"#0d0887\"],[0.1111111111111111,\"#46039f\"],[0.2222222222222222,\"#7201a8\"],[0.3333333333333333,\"#9c179e\"],[0.4444444444444444,\"#bd3786\"],[0.5555555555555556,\"#d8576b\"],[0.6666666666666666,\"#ed7953\"],[0.7777777777777778,\"#fb9f3a\"],[0.8888888888888888,\"#fdca26\"],[1.0,\"#f0f921\"]],\"type\":\"heatmapgl\"}],\"histogram\":[{\"marker\":{\"pattern\":{\"fillmode\":\"overlay\",\"size\":10,\"solidity\":0.2}},\"type\":\"histogram\"}],\"histogram2d\":[{\"colorbar\":{\"outlinewidth\":0,\"ticks\":\"\"},\"colorscale\":[[0.0,\"#0d0887\"],[0.1111111111111111,\"#46039f\"],[0.2222222222222222,\"#7201a8\"],[0.3333333333333333,\"#9c179e\"],[0.4444444444444444,\"#bd3786\"],[0.5555555555555556,\"#d8576b\"],[0.6666666666666666,\"#ed7953\"],[0.7777777777777778,\"#fb9f3a\"],[0.8888888888888888,\"#fdca26\"],[1.0,\"#f0f921\"]],\"type\":\"histogram2d\"}],\"histogram2dcontour\":[{\"colorbar\":{\"outlinewidth\":0,\"ticks\":\"\"},\"colorscale\":[[0.0,\"#0d0887\"],[0.1111111111111111,\"#46039f\"],[0.2222222222222222,\"#7201a8\"],[0.3333333333333333,\"#9c179e\"],[0.4444444444444444,\"#bd3786\"],[0.5555555555555556,\"#d8576b\"],[0.6666666666666666,\"#ed7953\"],[0.7777777777777778,\"#fb9f3a\"],[0.8888888888888888,\"#fdca26\"],[1.0,\"#f0f921\"]],\"type\":\"histogram2dcontour\"}],\"mesh3d\":[{\"colorbar\":{\"outlinewidth\":0,\"ticks\":\"\"},\"type\":\"mesh3d\"}],\"parcoords\":[{\"line\":{\"colorbar\":{\"outlinewidth\":0,\"ticks\":\"\"}},\"type\":\"parcoords\"}],\"pie\":[{\"automargin\":true,\"type\":\"pie\"}],\"scatter\":[{\"marker\":{\"colorbar\":{\"outlinewidth\":0,\"ticks\":\"\"}},\"type\":\"scatter\"}],\"scatter3d\":[{\"line\":{\"colorbar\":{\"outlinewidth\":0,\"ticks\":\"\"}},\"marker\":{\"colorbar\":{\"outlinewidth\":0,\"ticks\":\"\"}},\"type\":\"scatter3d\"}],\"scattercarpet\":[{\"marker\":{\"colorbar\":{\"outlinewidth\":0,\"ticks\":\"\"}},\"type\":\"scattercarpet\"}],\"scattergeo\":[{\"marker\":{\"colorbar\":{\"outlinewidth\":0,\"ticks\":\"\"}},\"type\":\"scattergeo\"}],\"scattergl\":[{\"marker\":{\"colorbar\":{\"outlinewidth\":0,\"ticks\":\"\"}},\"type\":\"scattergl\"}],\"scattermapbox\":[{\"marker\":{\"colorbar\":{\"outlinewidth\":0,\"ticks\":\"\"}},\"type\":\"scattermapbox\"}],\"scatterpolar\":[{\"marker\":{\"colorbar\":{\"outlinewidth\":0,\"ticks\":\"\"}},\"type\":\"scatterpolar\"}],\"scatterpolargl\":[{\"marker\":{\"colorbar\":{\"outlinewidth\":0,\"ticks\":\"\"}},\"type\":\"scatterpolargl\"}],\"scatterternary\":[{\"marker\":{\"colorbar\":{\"outlinewidth\":0,\"ticks\":\"\"}},\"type\":\"scatterternary\"}],\"surface\":[{\"colorbar\":{\"outlinewidth\":0,\"ticks\":\"\"},\"colorscale\":[[0.0,\"#0d0887\"],[0.1111111111111111,\"#46039f\"],[0.2222222222222222,\"#7201a8\"],[0.3333333333333333,\"#9c179e\"],[0.4444444444444444,\"#bd3786\"],[0.5555555555555556,\"#d8576b\"],[0.6666666666666666,\"#ed7953\"],[0.7777777777777778,\"#fb9f3a\"],[0.8888888888888888,\"#fdca26\"],[1.0,\"#f0f921\"]],\"type\":\"surface\"}],\"table\":[{\"cells\":{\"fill\":{\"color\":\"#EBF0F8\"},\"line\":{\"color\":\"white\"}},\"header\":{\"fill\":{\"color\":\"#C8D4E3\"},\"line\":{\"color\":\"white\"}},\"type\":\"table\"}]},\"layout\":{\"annotationdefaults\":{\"arrowcolor\":\"#2a3f5f\",\"arrowhead\":0,\"arrowwidth\":1},\"autotypenumbers\":\"strict\",\"coloraxis\":{\"colorbar\":{\"outlinewidth\":0,\"ticks\":\"\"}},\"colorscale\":{\"diverging\":[[0,\"#8e0152\"],[0.1,\"#c51b7d\"],[0.2,\"#de77ae\"],[0.3,\"#f1b6da\"],[0.4,\"#fde0ef\"],[0.5,\"#f7f7f7\"],[0.6,\"#e6f5d0\"],[0.7,\"#b8e186\"],[0.8,\"#7fbc41\"],[0.9,\"#4d9221\"],[1,\"#276419\"]],\"sequential\":[[0.0,\"#0d0887\"],[0.1111111111111111,\"#46039f\"],[0.2222222222222222,\"#7201a8\"],[0.3333333333333333,\"#9c179e\"],[0.4444444444444444,\"#bd3786\"],[0.5555555555555556,\"#d8576b\"],[0.6666666666666666,\"#ed7953\"],[0.7777777777777778,\"#fb9f3a\"],[0.8888888888888888,\"#fdca26\"],[1.0,\"#f0f921\"]],\"sequentialminus\":[[0.0,\"#0d0887\"],[0.1111111111111111,\"#46039f\"],[0.2222222222222222,\"#7201a8\"],[0.3333333333333333,\"#9c179e\"],[0.4444444444444444,\"#bd3786\"],[0.5555555555555556,\"#d8576b\"],[0.6666666666666666,\"#ed7953\"],[0.7777777777777778,\"#fb9f3a\"],[0.8888888888888888,\"#fdca26\"],[1.0,\"#f0f921\"]]},\"colorway\":[\"#636efa\",\"#EF553B\",\"#00cc96\",\"#ab63fa\",\"#FFA15A\",\"#19d3f3\",\"#FF6692\",\"#B6E880\",\"#FF97FF\",\"#FECB52\"],\"font\":{\"color\":\"#2a3f5f\"},\"geo\":{\"bgcolor\":\"white\",\"lakecolor\":\"white\",\"landcolor\":\"#E5ECF6\",\"showlakes\":true,\"showland\":true,\"subunitcolor\":\"white\"},\"hoverlabel\":{\"align\":\"left\"},\"hovermode\":\"closest\",\"mapbox\":{\"style\":\"light\"},\"paper_bgcolor\":\"white\",\"plot_bgcolor\":\"#E5ECF6\",\"polar\":{\"angularaxis\":{\"gridcolor\":\"white\",\"linecolor\":\"white\",\"ticks\":\"\"},\"bgcolor\":\"#E5ECF6\",\"radialaxis\":{\"gridcolor\":\"white\",\"linecolor\":\"white\",\"ticks\":\"\"}},\"scene\":{\"xaxis\":{\"backgroundcolor\":\"#E5ECF6\",\"gridcolor\":\"white\",\"gridwidth\":2,\"linecolor\":\"white\",\"showbackground\":true,\"ticks\":\"\",\"zerolinecolor\":\"white\"},\"yaxis\":{\"backgroundcolor\":\"#E5ECF6\",\"gridcolor\":\"white\",\"gridwidth\":2,\"linecolor\":\"white\",\"showbackground\":true,\"ticks\":\"\",\"zerolinecolor\":\"white\"},\"zaxis\":{\"backgroundcolor\":\"#E5ECF6\",\"gridcolor\":\"white\",\"gridwidth\":2,\"linecolor\":\"white\",\"showbackground\":true,\"ticks\":\"\",\"zerolinecolor\":\"white\"}},\"shapedefaults\":{\"line\":{\"color\":\"#2a3f5f\"}},\"ternary\":{\"aaxis\":{\"gridcolor\":\"white\",\"linecolor\":\"white\",\"ticks\":\"\"},\"baxis\":{\"gridcolor\":\"white\",\"linecolor\":\"white\",\"ticks\":\"\"},\"bgcolor\":\"#E5ECF6\",\"caxis\":{\"gridcolor\":\"white\",\"linecolor\":\"white\",\"ticks\":\"\"}},\"title\":{\"x\":0.05},\"xaxis\":{\"automargin\":true,\"gridcolor\":\"white\",\"linecolor\":\"white\",\"ticks\":\"\",\"title\":{\"standoff\":15},\"zerolinecolor\":\"white\",\"zerolinewidth\":2},\"yaxis\":{\"automargin\":true,\"gridcolor\":\"white\",\"linecolor\":\"white\",\"ticks\":\"\",\"title\":{\"standoff\":15},\"zerolinecolor\":\"white\",\"zerolinewidth\":2}}},\"xaxis\":{\"anchor\":\"y\",\"domain\":[0.0,1.0],\"title\":{\"text\":\"voice_mail_plan\"}},\"yaxis\":{\"anchor\":\"x\",\"domain\":[0.0,1.0],\"title\":{\"text\":\"Count\"}},\"legend\":{\"title\":{\"text\":\"churn\"},\"tracegroupgap\":0},\"title\":{\"text\":\"churn rate by voice_mail_plan\"},\"barmode\":\"group\",\"annotations\":[{\"align\":\"left\",\"bordercolor\":\"black\",\"borderwidth\":1,\"showarrow\":false,\"text\":\"Value count of distribution of no & yes are<br>73.5% & 26.5% percentage respectively.\",\"x\":1.4,\"xref\":\"paper\",\"y\":1.3,\"yref\":\"paper\"}],\"margin\":{\"r\":400}},                        {\"responsive\": true}                    ).then(function(){\n",
              "                            \n",
              "var gd = document.getElementById('92ba0048-405b-4af3-8f7d-3706b57845ae');\n",
              "var x = new MutationObserver(function (mutations, observer) {{\n",
              "        var display = window.getComputedStyle(gd).display;\n",
              "        if (!display || display === 'none') {{\n",
              "            console.log([gd, 'removed!']);\n",
              "            Plotly.purge(gd);\n",
              "            observer.disconnect();\n",
              "        }}\n",
              "}});\n",
              "\n",
              "// Listen for the removal of the full notebook cells\n",
              "var notebookContainer = gd.closest('#notebook-container');\n",
              "if (notebookContainer) {{\n",
              "    x.observe(notebookContainer, {childList: true});\n",
              "}}\n",
              "\n",
              "// Listen for the clearing of the current output cell\n",
              "var outputEl = gd.closest('.output');\n",
              "if (outputEl) {{\n",
              "    x.observe(outputEl, {childList: true});\n",
              "}}\n",
              "\n",
              "                        })                };                            </script>        </div>\n",
              "</body>\n",
              "</html>"
            ]
          },
          "metadata": {},
          "output_type": "display_data"
        }
      ],
      "source": [
        "#state feature plot\n",
        "bar('state')\n",
        "\n",
        "#area code feature plot\n",
        "bar('area_code')\n",
        "\n",
        "#international plan feature plot\n",
        "cust_churn_data.loc[cust_churn_data.international_plan==0,'international_plan'] = \"No\"   #convert 0 to No in all data instances\n",
        "cust_churn_data.loc[cust_churn_data.international_plan==1,'international_plan'] = \"Yes\"  #convert 1 to Yes in all data instances\n",
        "bar('international_plan')\n",
        "\n",
        "#voice mail plan feature plot\n",
        "cust_churn_data.loc[cust_churn_data.voice_mail_plan==0,'voice_mail_plan'] = \"No\"   #convert 0 to No in all data instances\n",
        "cust_churn_data.loc[cust_churn_data.voice_mail_plan==1,'voice_mail_plan'] = \"Yes\"  #convert 1 to Yes in all data instances\n",
        "bar('voice_mail_plan')"
      ]
    },
    {
      "cell_type": "markdown",
      "metadata": {
        "id": "f7bUjDm2NxDH"
      },
      "source": [
        "we can see that there is a variation in the distribution of churn in states, the state with the highest churn rate (count = 31) is NJ state\n",
        "\n",
        "there's a higher proportion of churners in customers with area code 415 while churners of the remaining two areas are approximately close percentages\n",
        "\n",
        "also customers with no international plan and no voice mailplan have higher proportion of churners than users with subscribtions in those plans."
      ]
    },
    {
      "cell_type": "markdown",
      "metadata": {
        "id": "b0Y7014sSRxa"
      },
      "source": [
        "now for numerical features, we can use the histogram diagram to check the relationship between the individual numeric variable and the target variable."
      ]
    },
    {
      "cell_type": "code",
      "source": [
        "#Numerical Features Histograms\n",
        "num_feats = list(cust_churn_data.select_dtypes(include=['int64', 'float64', 'int32']).columns)\n",
        "cust_churn_data[num_feats].hist(figsize=(20,15));"
      ],
      "metadata": {
        "id": "IbeMmC0mMQ_P"
      },
      "execution_count": null,
      "outputs": []
    },
    {
      "cell_type": "markdown",
      "metadata": {
        "id": "cQryd7RtaB6O"
      },
      "source": [
        "#### write down the explanation\n"
      ]
    },
    {
      "cell_type": "markdown",
      "metadata": {
        "id": "3dPMJHMXpOqr"
      },
      "source": [
        "#Data PreProcessing\n"
      ]
    },
    {
      "cell_type": "markdown",
      "metadata": {
        "id": "cOH1JiCHpVdb"
      },
      "source": [
        "In this section, we’ll gain more insights and convert the data into a data representation suitable for various machine learning algorithms"
      ]
    },
    {
      "cell_type": "code",
      "execution_count": null,
      "metadata": {
        "id": "Q294n_w_Fjix"
      },
      "outputs": [],
      "source": [
        "feats = list(cust_churn_data.select_dtypes(include=['object','category']).columns)\n",
        "le = LabelEncoder()\n",
        "df = cust_churn_data\n",
        "for f in feats:\n",
        "    le.fit(df[f])\n",
        "    cust_churn_data[f] = le.transform(cust_churn_data[f])"
      ]
    },
    {
      "cell_type": "code",
      "execution_count": null,
      "metadata": {
        "colab": {
          "base_uri": "https://localhost:8080/",
          "height": 270
        },
        "id": "24uc1SLcGZIG",
        "outputId": "6bee338e-e28a-46f0-b5f2-c9d6420b600d"
      },
      "outputs": [
        {
          "data": {
            "text/html": [
              "\n",
              "  <div id=\"df-fcd556fb-a970-4820-80c9-cb4396a15306\">\n",
              "    <div class=\"colab-df-container\">\n",
              "      <div>\n",
              "<style scoped>\n",
              "    .dataframe tbody tr th:only-of-type {\n",
              "        vertical-align: middle;\n",
              "    }\n",
              "\n",
              "    .dataframe tbody tr th {\n",
              "        vertical-align: top;\n",
              "    }\n",
              "\n",
              "    .dataframe thead th {\n",
              "        text-align: right;\n",
              "    }\n",
              "</style>\n",
              "<table border=\"1\" class=\"dataframe\">\n",
              "  <thead>\n",
              "    <tr style=\"text-align: right;\">\n",
              "      <th></th>\n",
              "      <th>state</th>\n",
              "      <th>account_length</th>\n",
              "      <th>area_code</th>\n",
              "      <th>international_plan</th>\n",
              "      <th>voice_mail_plan</th>\n",
              "      <th>number_vmail_messages</th>\n",
              "      <th>total_day_minutes</th>\n",
              "      <th>total_day_calls</th>\n",
              "      <th>total_day_charge</th>\n",
              "      <th>total_eve_minutes</th>\n",
              "      <th>total_eve_calls</th>\n",
              "      <th>total_eve_charge</th>\n",
              "      <th>total_night_minutes</th>\n",
              "      <th>total_night_calls</th>\n",
              "      <th>total_night_charge</th>\n",
              "      <th>total_intl_minutes</th>\n",
              "      <th>total_intl_calls</th>\n",
              "      <th>total_intl_charge</th>\n",
              "      <th>number_customer_service_calls</th>\n",
              "      <th>churn</th>\n",
              "    </tr>\n",
              "  </thead>\n",
              "  <tbody>\n",
              "    <tr>\n",
              "      <th>0</th>\n",
              "      <td>16</td>\n",
              "      <td>128</td>\n",
              "      <td>1</td>\n",
              "      <td>0</td>\n",
              "      <td>1</td>\n",
              "      <td>25</td>\n",
              "      <td>265.1</td>\n",
              "      <td>110</td>\n",
              "      <td>45.07</td>\n",
              "      <td>197.4</td>\n",
              "      <td>99</td>\n",
              "      <td>16.78</td>\n",
              "      <td>244.7</td>\n",
              "      <td>91</td>\n",
              "      <td>11.01</td>\n",
              "      <td>10.0</td>\n",
              "      <td>3</td>\n",
              "      <td>2.70</td>\n",
              "      <td>1</td>\n",
              "      <td>1</td>\n",
              "    </tr>\n",
              "    <tr>\n",
              "      <th>1</th>\n",
              "      <td>1</td>\n",
              "      <td>118</td>\n",
              "      <td>2</td>\n",
              "      <td>1</td>\n",
              "      <td>0</td>\n",
              "      <td>0</td>\n",
              "      <td>223.4</td>\n",
              "      <td>98</td>\n",
              "      <td>37.98</td>\n",
              "      <td>220.6</td>\n",
              "      <td>101</td>\n",
              "      <td>18.75</td>\n",
              "      <td>203.9</td>\n",
              "      <td>118</td>\n",
              "      <td>9.18</td>\n",
              "      <td>6.3</td>\n",
              "      <td>6</td>\n",
              "      <td>1.70</td>\n",
              "      <td>0</td>\n",
              "      <td>0</td>\n",
              "    </tr>\n",
              "    <tr>\n",
              "      <th>2</th>\n",
              "      <td>12</td>\n",
              "      <td>62</td>\n",
              "      <td>1</td>\n",
              "      <td>0</td>\n",
              "      <td>0</td>\n",
              "      <td>0</td>\n",
              "      <td>120.7</td>\n",
              "      <td>70</td>\n",
              "      <td>20.52</td>\n",
              "      <td>307.2</td>\n",
              "      <td>76</td>\n",
              "      <td>26.11</td>\n",
              "      <td>203.0</td>\n",
              "      <td>99</td>\n",
              "      <td>9.14</td>\n",
              "      <td>13.1</td>\n",
              "      <td>6</td>\n",
              "      <td>3.54</td>\n",
              "      <td>4</td>\n",
              "      <td>0</td>\n",
              "    </tr>\n",
              "    <tr>\n",
              "      <th>3</th>\n",
              "      <td>46</td>\n",
              "      <td>93</td>\n",
              "      <td>2</td>\n",
              "      <td>0</td>\n",
              "      <td>0</td>\n",
              "      <td>0</td>\n",
              "      <td>190.7</td>\n",
              "      <td>114</td>\n",
              "      <td>32.42</td>\n",
              "      <td>218.2</td>\n",
              "      <td>111</td>\n",
              "      <td>18.55</td>\n",
              "      <td>129.6</td>\n",
              "      <td>121</td>\n",
              "      <td>5.83</td>\n",
              "      <td>8.1</td>\n",
              "      <td>3</td>\n",
              "      <td>2.19</td>\n",
              "      <td>3</td>\n",
              "      <td>1</td>\n",
              "    </tr>\n",
              "    <tr>\n",
              "      <th>4</th>\n",
              "      <td>29</td>\n",
              "      <td>174</td>\n",
              "      <td>1</td>\n",
              "      <td>0</td>\n",
              "      <td>0</td>\n",
              "      <td>0</td>\n",
              "      <td>124.3</td>\n",
              "      <td>76</td>\n",
              "      <td>21.13</td>\n",
              "      <td>277.1</td>\n",
              "      <td>112</td>\n",
              "      <td>23.55</td>\n",
              "      <td>250.7</td>\n",
              "      <td>115</td>\n",
              "      <td>11.28</td>\n",
              "      <td>15.5</td>\n",
              "      <td>5</td>\n",
              "      <td>4.19</td>\n",
              "      <td>3</td>\n",
              "      <td>1</td>\n",
              "    </tr>\n",
              "  </tbody>\n",
              "</table>\n",
              "</div>\n",
              "      <button class=\"colab-df-convert\" onclick=\"convertToInteractive('df-fcd556fb-a970-4820-80c9-cb4396a15306')\"\n",
              "              title=\"Convert this dataframe to an interactive table.\"\n",
              "              style=\"display:none;\">\n",
              "        \n",
              "  <svg xmlns=\"http://www.w3.org/2000/svg\" height=\"24px\"viewBox=\"0 0 24 24\"\n",
              "       width=\"24px\">\n",
              "    <path d=\"M0 0h24v24H0V0z\" fill=\"none\"/>\n",
              "    <path d=\"M18.56 5.44l.94 2.06.94-2.06 2.06-.94-2.06-.94-.94-2.06-.94 2.06-2.06.94zm-11 1L8.5 8.5l.94-2.06 2.06-.94-2.06-.94L8.5 2.5l-.94 2.06-2.06.94zm10 10l.94 2.06.94-2.06 2.06-.94-2.06-.94-.94-2.06-.94 2.06-2.06.94z\"/><path d=\"M17.41 7.96l-1.37-1.37c-.4-.4-.92-.59-1.43-.59-.52 0-1.04.2-1.43.59L10.3 9.45l-7.72 7.72c-.78.78-.78 2.05 0 2.83L4 21.41c.39.39.9.59 1.41.59.51 0 1.02-.2 1.41-.59l7.78-7.78 2.81-2.81c.8-.78.8-2.07 0-2.86zM5.41 20L4 18.59l7.72-7.72 1.47 1.35L5.41 20z\"/>\n",
              "  </svg>\n",
              "      </button>\n",
              "      \n",
              "  <style>\n",
              "    .colab-df-container {\n",
              "      display:flex;\n",
              "      flex-wrap:wrap;\n",
              "      gap: 12px;\n",
              "    }\n",
              "\n",
              "    .colab-df-convert {\n",
              "      background-color: #E8F0FE;\n",
              "      border: none;\n",
              "      border-radius: 50%;\n",
              "      cursor: pointer;\n",
              "      display: none;\n",
              "      fill: #1967D2;\n",
              "      height: 32px;\n",
              "      padding: 0 0 0 0;\n",
              "      width: 32px;\n",
              "    }\n",
              "\n",
              "    .colab-df-convert:hover {\n",
              "      background-color: #E2EBFA;\n",
              "      box-shadow: 0px 1px 2px rgba(60, 64, 67, 0.3), 0px 1px 3px 1px rgba(60, 64, 67, 0.15);\n",
              "      fill: #174EA6;\n",
              "    }\n",
              "\n",
              "    [theme=dark] .colab-df-convert {\n",
              "      background-color: #3B4455;\n",
              "      fill: #D2E3FC;\n",
              "    }\n",
              "\n",
              "    [theme=dark] .colab-df-convert:hover {\n",
              "      background-color: #434B5C;\n",
              "      box-shadow: 0px 1px 3px 1px rgba(0, 0, 0, 0.15);\n",
              "      filter: drop-shadow(0px 1px 2px rgba(0, 0, 0, 0.3));\n",
              "      fill: #FFFFFF;\n",
              "    }\n",
              "  </style>\n",
              "\n",
              "      <script>\n",
              "        const buttonEl =\n",
              "          document.querySelector('#df-fcd556fb-a970-4820-80c9-cb4396a15306 button.colab-df-convert');\n",
              "        buttonEl.style.display =\n",
              "          google.colab.kernel.accessAllowed ? 'block' : 'none';\n",
              "\n",
              "        async function convertToInteractive(key) {\n",
              "          const element = document.querySelector('#df-fcd556fb-a970-4820-80c9-cb4396a15306');\n",
              "          const dataTable =\n",
              "            await google.colab.kernel.invokeFunction('convertToInteractive',\n",
              "                                                     [key], {});\n",
              "          if (!dataTable) return;\n",
              "\n",
              "          const docLinkHtml = 'Like what you see? Visit the ' +\n",
              "            '<a target=\"_blank\" href=https://colab.research.google.com/notebooks/data_table.ipynb>data table notebook</a>'\n",
              "            + ' to learn more about interactive tables.';\n",
              "          element.innerHTML = '';\n",
              "          dataTable['output_type'] = 'display_data';\n",
              "          await google.colab.output.renderOutput(dataTable, element);\n",
              "          const docLink = document.createElement('div');\n",
              "          docLink.innerHTML = docLinkHtml;\n",
              "          element.appendChild(docLink);\n",
              "        }\n",
              "      </script>\n",
              "    </div>\n",
              "  </div>\n",
              "  "
            ],
            "text/plain": [
              "   state  account_length  area_code  international_plan  voice_mail_plan  \\\n",
              "0     16             128          1                   0                1   \n",
              "1      1             118          2                   1                0   \n",
              "2     12              62          1                   0                0   \n",
              "3     46              93          2                   0                0   \n",
              "4     29             174          1                   0                0   \n",
              "\n",
              "   number_vmail_messages  total_day_minutes  total_day_calls  \\\n",
              "0                     25              265.1              110   \n",
              "1                      0              223.4               98   \n",
              "2                      0              120.7               70   \n",
              "3                      0              190.7              114   \n",
              "4                      0              124.3               76   \n",
              "\n",
              "   total_day_charge  total_eve_minutes  total_eve_calls  total_eve_charge  \\\n",
              "0             45.07              197.4               99             16.78   \n",
              "1             37.98              220.6              101             18.75   \n",
              "2             20.52              307.2               76             26.11   \n",
              "3             32.42              218.2              111             18.55   \n",
              "4             21.13              277.1              112             23.55   \n",
              "\n",
              "   total_night_minutes  total_night_calls  total_night_charge  \\\n",
              "0                244.7                 91               11.01   \n",
              "1                203.9                118                9.18   \n",
              "2                203.0                 99                9.14   \n",
              "3                129.6                121                5.83   \n",
              "4                250.7                115               11.28   \n",
              "\n",
              "   total_intl_minutes  total_intl_calls  total_intl_charge  \\\n",
              "0                10.0                 3               2.70   \n",
              "1                 6.3                 6               1.70   \n",
              "2                13.1                 6               3.54   \n",
              "3                 8.1                 3               2.19   \n",
              "4                15.5                 5               4.19   \n",
              "\n",
              "   number_customer_service_calls  churn  \n",
              "0                              1      1  \n",
              "1                              0      0  \n",
              "2                              4      0  \n",
              "3                              3      1  \n",
              "4                              3      1  "
            ]
          },
          "execution_count": 6,
          "metadata": {},
          "output_type": "execute_result"
        }
      ],
      "source": [
        "cust_churn_data.head()"
      ]
    },
    {
      "cell_type": "code",
      "execution_count": null,
      "metadata": {
        "colab": {
          "base_uri": "https://localhost:8080/",
          "height": 917
        },
        "id": "FanhnnUSpynI",
        "outputId": "0f58b920-d96e-4b15-e325-e16256995ec2"
      },
      "outputs": [
        {
          "output_type": "display_data",
          "data": {
            "text/html": [
              "<html>\n",
              "<head><meta charset=\"utf-8\" /></head>\n",
              "<body>\n",
              "    <div>            <script src=\"https://cdnjs.cloudflare.com/ajax/libs/mathjax/2.7.5/MathJax.js?config=TeX-AMS-MML_SVG\"></script><script type=\"text/javascript\">if (window.MathJax) {MathJax.Hub.Config({SVG: {font: \"STIX-Web\"}});}</script>                <script type=\"text/javascript\">window.PlotlyConfig = {MathJaxConfig: 'local'};</script>\n",
              "        <script src=\"https://cdn.plot.ly/plotly-2.8.3.min.js\"></script>                <div id=\"d1c1a518-2d32-4892-b34f-d70869fdeb35\" class=\"plotly-graph-div\" style=\"height:900px; width:1000px;\"></div>            <script type=\"text/javascript\">                                    window.PLOTLYENV=window.PLOTLYENV || {};                                    if (document.getElementById(\"d1c1a518-2d32-4892-b34f-d70869fdeb35\")) {                    Plotly.newPlot(                        \"d1c1a518-2d32-4892-b34f-d70869fdeb35\",                        [{\"coloraxis\":\"coloraxis\",\"name\":\"0\",\"x\":[\"state\",\"account_length\",\"area_code\",\"international_plan\",\"voice_mail_plan\",\"number_vmail_messages\",\"total_day_minutes\",\"total_day_calls\",\"total_day_charge\",\"total_eve_minutes\",\"total_eve_calls\",\"total_eve_charge\",\"total_night_minutes\",\"total_night_calls\",\"total_night_charge\",\"total_intl_minutes\",\"total_intl_calls\",\"total_intl_charge\",\"number_customer_service_calls\",\"churn\"],\"y\":[\"state\",\"account_length\",\"area_code\",\"international_plan\",\"voice_mail_plan\",\"number_vmail_messages\",\"total_day_minutes\",\"total_day_calls\",\"total_day_charge\",\"total_eve_minutes\",\"total_eve_calls\",\"total_eve_charge\",\"total_night_minutes\",\"total_night_calls\",\"total_night_charge\",\"total_intl_minutes\",\"total_intl_calls\",\"total_intl_charge\",\"number_customer_service_calls\",\"churn\"],\"z\":[[1.0,0.010334319485358873,0.01149145854835184,0.0074218665574149354,-0.030075489112257422,-0.02728161923326581,0.007334468599960758,-0.008165774356379003,0.00733447422486087,0.003900340185685086,-0.005458291614000562,0.0038963899053230298,0.009537695424242073,-0.0016991574686283884,0.009531620487052004,-0.009313440255172781,0.009897664621201131,-0.009321930222887024,-0.012996598484526656,0.009502359383766241],[0.010334319485358873,1.0,-0.02346205439391474,0.014681276764908087,-0.006649730571872353,-0.014574666267830905,-0.0010174908066804581,0.02824022788146479,-0.0010191979614160467,-0.009591333137542679,0.009142579036024435,-0.009587395822730454,0.0006679111822806165,-0.00782547848770565,0.0006558936778101586,0.0012908394274598089,0.014277273318296807,0.0012918112062704416,-0.0014447917651621556,0.021482288557612954],[0.01149145854835184,-0.02346205439391474,1.0,0.029186601153117726,0.004125054680215411,0.002249176168878139,-0.0008124320517803609,-0.004255241866018582,-0.0008125514695266089,0.0017702689584740987,-0.013034768321125982,0.0017866383442611494,0.01591083016637287,0.019000356916278598,0.01590706871262688,0.009231037297303185,-0.00866621051176563,0.009141111341498847,0.011554691995804797,0.010587512073318036],[0.0074218665574149354,0.014681276764908087,0.029186601153117726,1.0,0.009053833834823102,0.01194670181032473,0.02813776295189612,0.00810214206941758,0.02814102479880364,0.021234535847072817,0.0025046042606511804,0.021233684380678186,-0.026507877042310654,0.0056233807516425,-0.026510472105760505,0.03179859561805329,0.004492863111126171,0.03175106502298376,-0.012974221415775575,0.20282759360406835],[-0.030075489112257422,-0.006649730571872353,0.004125054680215411,0.009053833834823102,1.0,0.9545081600549087,0.002059472410665711,-0.0017353528401745496,0.002055803768612451,0.023328120262833756,-0.005916371154220846,0.023332422936177093,0.005524279660890093,0.00917607357054977,0.005522088580040165,0.004115824033119158,-0.007524634937884898,0.004164906747196328,-0.01445290312518335,-0.08573327915815436],[-0.02728161923326581,-0.014574666267830905,0.002249176168878139,0.01194670181032473,0.9545081600549087,1.0,0.005381375960654464,0.0008831280067750241,0.005376795851691253,0.01949012075472529,-0.003954372809361596,0.019495975653153686,0.0055413838127431865,0.0026762202272560035,0.005534928135168801,0.002462701767534843,0.00012433024609745494,0.0025051773206448413,-0.00708564269309657,-0.07394415842333402],[0.007334468599960758,-0.0010174908066804581,-0.0008124320517803609,0.02813776295189612,0.002059472410665711,0.005381375960654464,1.0,0.0019351486957893572,0.9999999509831999,-0.01075042738686648,0.008128130473126594,-0.010760021726227694,0.011798659999244123,0.004236099907266639,0.011782532764222945,-0.019485746325832595,-0.0013031234662256481,-0.019414797228412696,0.0027325761618291365,0.1572251192596511],[-0.008165774356379003,0.02824022788146479,-0.004255241866018582,0.00810214206941758,-0.0017353528401745496,0.0008831280067750241,0.0019351486957893572,1.0,0.00193588436466071,-0.0006994114708043704,0.0037541786952844255,-0.0006952216752116147,0.0028044649747074506,-0.008308346717225192,0.0028018168792725675,0.013097219754672965,0.010892853267710226,0.013161397556250098,-0.010739495083121246,0.01791659447704075],[0.00733447422486087,-0.0010191979614160467,-0.0008125514695266089,0.02814102479880364,0.002055803768612451,0.005376795851691253,0.9999999509831999,0.00193588436466071,1.0,-0.01074729683752229,0.008129319004162009,-0.01075689305478798,0.011801433860012063,0.004234933740255614,0.011785301163136124,-0.019489700097492003,-0.0013066352815059219,-0.01941875476356292,0.0027263701924730996,0.15722202335237992],[0.003900340185685086,-0.009591333137542679,0.0017702689584740987,0.021234535847072817,0.023328120262833756,0.01949012075472529,-0.01075042738686648,-0.0006994114708043704,-0.01074729683752229,1.0,0.002763019406749843,0.9999997748632358,-0.016639116044116192,0.013420216275055727,-0.016642042112907943,0.00013654874558254084,0.008388155877574011,0.0001593155158145406,-0.013823422807747544,0.07061861439686787],[-0.005458291614000562,0.009142579036024435,-0.013034768321125982,0.0025046042606511804,-0.005916371154220846,-0.003954372809361596,0.008128130473126594,0.0037541786952844255,0.008129319004162009,0.002763019406749843,1.0,0.0027780971147907544,0.0017814105504447484,-0.013682340797451665,0.001799380422935075,-0.007458458334212805,0.005574499916987474,-0.007507150801103271,0.006234830562523622,-0.0016133175735521552],[0.0038963899053230298,-0.009587395822730454,0.0017866383442611494,0.021233684380678186,0.023332422936177093,0.019495975653153686,-0.010760021726227694,-0.0006952216752116147,-0.01075689305478798,0.9999997748632358,0.0027780971147907544,1.0,-0.016648919124572455,0.013422017412690928,-0.01665183672728247,0.00013202381422614906,0.008393060331759109,0.00015477833721871958,-0.013836362320991539,0.07061259860285196],[0.009537695424242073,0.0006679111822806165,0.01591083016637287,-0.026507877042310654,0.005524279660890093,0.0055413838127431865,0.011798659999244123,0.0028044649747074506,0.011801433860012063,-0.016639116044116192,0.0017814105504447484,-0.016648919124572455,1.0,0.026971818223085288,0.999999207186798,-0.00672096692159806,-0.017214016151731914,-0.006654587345714373,-0.008532536464559506,0.03557668077972612],[-0.0016991574686283884,-0.00782547848770565,0.019000356916278598,0.0056233807516425,0.00917607357054977,0.0026762202272560035,0.004236099907266639,-0.008308346717225192,0.004234933740255614,0.013420216275055727,-0.013682340797451665,0.013422017412690928,0.026971818223085288,1.0,0.026949491392387726,0.00039075729962823367,-0.00015575572982520352,0.00036800574994881797,-0.008282607467725002,-0.008074000227609289],[0.009531620487052004,0.0006558936778101586,0.01590706871262688,-0.026510472105760505,0.005522088580040165,0.005534928135168801,0.011782532764222945,0.0028018168792725675,0.011785301163136124,-0.016642042112907943,0.001799380422935075,-0.01665183672728247,0.999999207186798,0.026949491392387726,1.0,-0.006716537603899265,-0.017182157276491323,-0.006650156848030029,-0.008530076794367845,0.035565415252766845],[-0.009313440255172781,0.0012908394274598089,0.009231037297303185,0.03179859561805329,0.004115824033119158,0.002462701767534843,-0.019485746325832595,0.013097219754672965,-0.019489700097492003,0.00013654874558254084,-0.007458458334212805,0.00013202381422614906,-0.00672096692159806,0.00039075729962823367,-0.006716537603899265,1.0,0.016791475219257335,0.999992657020837,-0.012121812385459695,0.038340935271200374],[0.009897664621201131,0.014277273318296807,-0.00866621051176563,0.004492863111126171,-0.007524634937884898,0.00012433024609745494,-0.0013031234662256481,0.010892853267710226,-0.0013066352815059219,0.008388155877574011,0.005574499916987474,0.008393060331759109,-0.017214016151731914,-0.00015575572982520352,-0.017182157276491323,0.016791475219257335,1.0,0.01690009340515216,-0.019146650425206867,-0.02456352278800971],[-0.009321930222887024,0.0012918112062704416,0.009141111341498847,0.03175106502298376,0.004164906747196328,0.0025051773206448413,-0.019414797228412696,0.013161397556250098,-0.01941875476356292,0.0001593155158145406,-0.007507150801103271,0.00015477833721871958,-0.006654587345714373,0.00036800574994881797,-0.006650156848030029,0.999992657020837,0.01690009340515216,1.0,-0.012180334261251204,0.038298399120448835],[-0.012996598484526656,-0.0014447917651621556,0.011554691995804797,-0.012974221415775575,-0.01445290312518335,-0.00708564269309657,0.0027325761618291365,-0.010739495083121246,0.0027263701924730996,-0.013823422807747544,0.006234830562523622,-0.013836362320991539,-0.008532536464559506,-0.008282607467725002,-0.008530076794367845,-0.012121812385459695,-0.019146650425206867,-0.012180334261251204,1.0,0.16816670953731785],[0.009502359383766241,0.021482288557612954,0.010587512073318036,0.20282759360406835,-0.08573327915815436,-0.07394415842333402,0.1572251192596511,0.01791659447704075,0.15722202335237992,0.07061861439686787,-0.0016133175735521552,0.07061259860285196,0.03557668077972612,-0.008074000227609289,0.035565415252766845,0.038340935271200374,-0.02456352278800971,0.038298399120448835,0.16816670953731785,1.0]],\"type\":\"heatmap\",\"xaxis\":\"x\",\"yaxis\":\"y\",\"hovertemplate\":\"x: %{x}<br>y: %{y}<br>color: %{z}<extra></extra>\"}],                        {\"template\":{\"data\":{\"bar\":[{\"error_x\":{\"color\":\"#2a3f5f\"},\"error_y\":{\"color\":\"#2a3f5f\"},\"marker\":{\"line\":{\"color\":\"#E5ECF6\",\"width\":0.5},\"pattern\":{\"fillmode\":\"overlay\",\"size\":10,\"solidity\":0.2}},\"type\":\"bar\"}],\"barpolar\":[{\"marker\":{\"line\":{\"color\":\"#E5ECF6\",\"width\":0.5},\"pattern\":{\"fillmode\":\"overlay\",\"size\":10,\"solidity\":0.2}},\"type\":\"barpolar\"}],\"carpet\":[{\"aaxis\":{\"endlinecolor\":\"#2a3f5f\",\"gridcolor\":\"white\",\"linecolor\":\"white\",\"minorgridcolor\":\"white\",\"startlinecolor\":\"#2a3f5f\"},\"baxis\":{\"endlinecolor\":\"#2a3f5f\",\"gridcolor\":\"white\",\"linecolor\":\"white\",\"minorgridcolor\":\"white\",\"startlinecolor\":\"#2a3f5f\"},\"type\":\"carpet\"}],\"choropleth\":[{\"colorbar\":{\"outlinewidth\":0,\"ticks\":\"\"},\"type\":\"choropleth\"}],\"contour\":[{\"colorbar\":{\"outlinewidth\":0,\"ticks\":\"\"},\"colorscale\":[[0.0,\"#0d0887\"],[0.1111111111111111,\"#46039f\"],[0.2222222222222222,\"#7201a8\"],[0.3333333333333333,\"#9c179e\"],[0.4444444444444444,\"#bd3786\"],[0.5555555555555556,\"#d8576b\"],[0.6666666666666666,\"#ed7953\"],[0.7777777777777778,\"#fb9f3a\"],[0.8888888888888888,\"#fdca26\"],[1.0,\"#f0f921\"]],\"type\":\"contour\"}],\"contourcarpet\":[{\"colorbar\":{\"outlinewidth\":0,\"ticks\":\"\"},\"type\":\"contourcarpet\"}],\"heatmap\":[{\"colorbar\":{\"outlinewidth\":0,\"ticks\":\"\"},\"colorscale\":[[0.0,\"#0d0887\"],[0.1111111111111111,\"#46039f\"],[0.2222222222222222,\"#7201a8\"],[0.3333333333333333,\"#9c179e\"],[0.4444444444444444,\"#bd3786\"],[0.5555555555555556,\"#d8576b\"],[0.6666666666666666,\"#ed7953\"],[0.7777777777777778,\"#fb9f3a\"],[0.8888888888888888,\"#fdca26\"],[1.0,\"#f0f921\"]],\"type\":\"heatmap\"}],\"heatmapgl\":[{\"colorbar\":{\"outlinewidth\":0,\"ticks\":\"\"},\"colorscale\":[[0.0,\"#0d0887\"],[0.1111111111111111,\"#46039f\"],[0.2222222222222222,\"#7201a8\"],[0.3333333333333333,\"#9c179e\"],[0.4444444444444444,\"#bd3786\"],[0.5555555555555556,\"#d8576b\"],[0.6666666666666666,\"#ed7953\"],[0.7777777777777778,\"#fb9f3a\"],[0.8888888888888888,\"#fdca26\"],[1.0,\"#f0f921\"]],\"type\":\"heatmapgl\"}],\"histogram\":[{\"marker\":{\"pattern\":{\"fillmode\":\"overlay\",\"size\":10,\"solidity\":0.2}},\"type\":\"histogram\"}],\"histogram2d\":[{\"colorbar\":{\"outlinewidth\":0,\"ticks\":\"\"},\"colorscale\":[[0.0,\"#0d0887\"],[0.1111111111111111,\"#46039f\"],[0.2222222222222222,\"#7201a8\"],[0.3333333333333333,\"#9c179e\"],[0.4444444444444444,\"#bd3786\"],[0.5555555555555556,\"#d8576b\"],[0.6666666666666666,\"#ed7953\"],[0.7777777777777778,\"#fb9f3a\"],[0.8888888888888888,\"#fdca26\"],[1.0,\"#f0f921\"]],\"type\":\"histogram2d\"}],\"histogram2dcontour\":[{\"colorbar\":{\"outlinewidth\":0,\"ticks\":\"\"},\"colorscale\":[[0.0,\"#0d0887\"],[0.1111111111111111,\"#46039f\"],[0.2222222222222222,\"#7201a8\"],[0.3333333333333333,\"#9c179e\"],[0.4444444444444444,\"#bd3786\"],[0.5555555555555556,\"#d8576b\"],[0.6666666666666666,\"#ed7953\"],[0.7777777777777778,\"#fb9f3a\"],[0.8888888888888888,\"#fdca26\"],[1.0,\"#f0f921\"]],\"type\":\"histogram2dcontour\"}],\"mesh3d\":[{\"colorbar\":{\"outlinewidth\":0,\"ticks\":\"\"},\"type\":\"mesh3d\"}],\"parcoords\":[{\"line\":{\"colorbar\":{\"outlinewidth\":0,\"ticks\":\"\"}},\"type\":\"parcoords\"}],\"pie\":[{\"automargin\":true,\"type\":\"pie\"}],\"scatter\":[{\"marker\":{\"colorbar\":{\"outlinewidth\":0,\"ticks\":\"\"}},\"type\":\"scatter\"}],\"scatter3d\":[{\"line\":{\"colorbar\":{\"outlinewidth\":0,\"ticks\":\"\"}},\"marker\":{\"colorbar\":{\"outlinewidth\":0,\"ticks\":\"\"}},\"type\":\"scatter3d\"}],\"scattercarpet\":[{\"marker\":{\"colorbar\":{\"outlinewidth\":0,\"ticks\":\"\"}},\"type\":\"scattercarpet\"}],\"scattergeo\":[{\"marker\":{\"colorbar\":{\"outlinewidth\":0,\"ticks\":\"\"}},\"type\":\"scattergeo\"}],\"scattergl\":[{\"marker\":{\"colorbar\":{\"outlinewidth\":0,\"ticks\":\"\"}},\"type\":\"scattergl\"}],\"scattermapbox\":[{\"marker\":{\"colorbar\":{\"outlinewidth\":0,\"ticks\":\"\"}},\"type\":\"scattermapbox\"}],\"scatterpolar\":[{\"marker\":{\"colorbar\":{\"outlinewidth\":0,\"ticks\":\"\"}},\"type\":\"scatterpolar\"}],\"scatterpolargl\":[{\"marker\":{\"colorbar\":{\"outlinewidth\":0,\"ticks\":\"\"}},\"type\":\"scatterpolargl\"}],\"scatterternary\":[{\"marker\":{\"colorbar\":{\"outlinewidth\":0,\"ticks\":\"\"}},\"type\":\"scatterternary\"}],\"surface\":[{\"colorbar\":{\"outlinewidth\":0,\"ticks\":\"\"},\"colorscale\":[[0.0,\"#0d0887\"],[0.1111111111111111,\"#46039f\"],[0.2222222222222222,\"#7201a8\"],[0.3333333333333333,\"#9c179e\"],[0.4444444444444444,\"#bd3786\"],[0.5555555555555556,\"#d8576b\"],[0.6666666666666666,\"#ed7953\"],[0.7777777777777778,\"#fb9f3a\"],[0.8888888888888888,\"#fdca26\"],[1.0,\"#f0f921\"]],\"type\":\"surface\"}],\"table\":[{\"cells\":{\"fill\":{\"color\":\"#EBF0F8\"},\"line\":{\"color\":\"white\"}},\"header\":{\"fill\":{\"color\":\"#C8D4E3\"},\"line\":{\"color\":\"white\"}},\"type\":\"table\"}]},\"layout\":{\"annotationdefaults\":{\"arrowcolor\":\"#2a3f5f\",\"arrowhead\":0,\"arrowwidth\":1},\"autotypenumbers\":\"strict\",\"coloraxis\":{\"colorbar\":{\"outlinewidth\":0,\"ticks\":\"\"}},\"colorscale\":{\"diverging\":[[0,\"#8e0152\"],[0.1,\"#c51b7d\"],[0.2,\"#de77ae\"],[0.3,\"#f1b6da\"],[0.4,\"#fde0ef\"],[0.5,\"#f7f7f7\"],[0.6,\"#e6f5d0\"],[0.7,\"#b8e186\"],[0.8,\"#7fbc41\"],[0.9,\"#4d9221\"],[1,\"#276419\"]],\"sequential\":[[0.0,\"#0d0887\"],[0.1111111111111111,\"#46039f\"],[0.2222222222222222,\"#7201a8\"],[0.3333333333333333,\"#9c179e\"],[0.4444444444444444,\"#bd3786\"],[0.5555555555555556,\"#d8576b\"],[0.6666666666666666,\"#ed7953\"],[0.7777777777777778,\"#fb9f3a\"],[0.8888888888888888,\"#fdca26\"],[1.0,\"#f0f921\"]],\"sequentialminus\":[[0.0,\"#0d0887\"],[0.1111111111111111,\"#46039f\"],[0.2222222222222222,\"#7201a8\"],[0.3333333333333333,\"#9c179e\"],[0.4444444444444444,\"#bd3786\"],[0.5555555555555556,\"#d8576b\"],[0.6666666666666666,\"#ed7953\"],[0.7777777777777778,\"#fb9f3a\"],[0.8888888888888888,\"#fdca26\"],[1.0,\"#f0f921\"]]},\"colorway\":[\"#636efa\",\"#EF553B\",\"#00cc96\",\"#ab63fa\",\"#FFA15A\",\"#19d3f3\",\"#FF6692\",\"#B6E880\",\"#FF97FF\",\"#FECB52\"],\"font\":{\"color\":\"#2a3f5f\"},\"geo\":{\"bgcolor\":\"white\",\"lakecolor\":\"white\",\"landcolor\":\"#E5ECF6\",\"showlakes\":true,\"showland\":true,\"subunitcolor\":\"white\"},\"hoverlabel\":{\"align\":\"left\"},\"hovermode\":\"closest\",\"mapbox\":{\"style\":\"light\"},\"paper_bgcolor\":\"white\",\"plot_bgcolor\":\"#E5ECF6\",\"polar\":{\"angularaxis\":{\"gridcolor\":\"white\",\"linecolor\":\"white\",\"ticks\":\"\"},\"bgcolor\":\"#E5ECF6\",\"radialaxis\":{\"gridcolor\":\"white\",\"linecolor\":\"white\",\"ticks\":\"\"}},\"scene\":{\"xaxis\":{\"backgroundcolor\":\"#E5ECF6\",\"gridcolor\":\"white\",\"gridwidth\":2,\"linecolor\":\"white\",\"showbackground\":true,\"ticks\":\"\",\"zerolinecolor\":\"white\"},\"yaxis\":{\"backgroundcolor\":\"#E5ECF6\",\"gridcolor\":\"white\",\"gridwidth\":2,\"linecolor\":\"white\",\"showbackground\":true,\"ticks\":\"\",\"zerolinecolor\":\"white\"},\"zaxis\":{\"backgroundcolor\":\"#E5ECF6\",\"gridcolor\":\"white\",\"gridwidth\":2,\"linecolor\":\"white\",\"showbackground\":true,\"ticks\":\"\",\"zerolinecolor\":\"white\"}},\"shapedefaults\":{\"line\":{\"color\":\"#2a3f5f\"}},\"ternary\":{\"aaxis\":{\"gridcolor\":\"white\",\"linecolor\":\"white\",\"ticks\":\"\"},\"baxis\":{\"gridcolor\":\"white\",\"linecolor\":\"white\",\"ticks\":\"\"},\"bgcolor\":\"#E5ECF6\",\"caxis\":{\"gridcolor\":\"white\",\"linecolor\":\"white\",\"ticks\":\"\"}},\"title\":{\"x\":0.05},\"xaxis\":{\"automargin\":true,\"gridcolor\":\"white\",\"linecolor\":\"white\",\"ticks\":\"\",\"title\":{\"standoff\":15},\"zerolinecolor\":\"white\",\"zerolinewidth\":2},\"yaxis\":{\"automargin\":true,\"gridcolor\":\"white\",\"linecolor\":\"white\",\"ticks\":\"\",\"title\":{\"standoff\":15},\"zerolinecolor\":\"white\",\"zerolinewidth\":2}}},\"xaxis\":{\"anchor\":\"y\",\"domain\":[0.0,1.0],\"scaleanchor\":\"y\",\"constrain\":\"domain\"},\"yaxis\":{\"anchor\":\"x\",\"domain\":[0.0,1.0],\"autorange\":\"reversed\",\"constrain\":\"domain\"},\"coloraxis\":{\"colorscale\":[[0.0,\"#0d0887\"],[0.1111111111111111,\"#46039f\"],[0.2222222222222222,\"#7201a8\"],[0.3333333333333333,\"#9c179e\"],[0.4444444444444444,\"#bd3786\"],[0.5555555555555556,\"#d8576b\"],[0.6666666666666666,\"#ed7953\"],[0.7777777777777778,\"#fb9f3a\"],[0.8888888888888888,\"#fdca26\"],[1.0,\"#f0f921\"]]},\"margin\":{\"t\":60},\"height\":900,\"width\":1000},                        {\"responsive\": true}                    ).then(function(){\n",
              "                            \n",
              "var gd = document.getElementById('d1c1a518-2d32-4892-b34f-d70869fdeb35');\n",
              "var x = new MutationObserver(function (mutations, observer) {{\n",
              "        var display = window.getComputedStyle(gd).display;\n",
              "        if (!display || display === 'none') {{\n",
              "            console.log([gd, 'removed!']);\n",
              "            Plotly.purge(gd);\n",
              "            observer.disconnect();\n",
              "        }}\n",
              "}});\n",
              "\n",
              "// Listen for the removal of the full notebook cells\n",
              "var notebookContainer = gd.closest('#notebook-container');\n",
              "if (notebookContainer) {{\n",
              "    x.observe(notebookContainer, {childList: true});\n",
              "}}\n",
              "\n",
              "// Listen for the clearing of the current output cell\n",
              "var outputEl = gd.closest('.output');\n",
              "if (outputEl) {{\n",
              "    x.observe(outputEl, {childList: true});\n",
              "}}\n",
              "\n",
              "                        })                };                            </script>        </div>\n",
              "</body>\n",
              "</html>"
            ]
          },
          "metadata": {}
        }
      ],
      "source": [
        "# Plot the correlations as a heatmap\n",
        "\n",
        "corr = cust_churn_data.corr()\n",
        "fig = px.imshow(corr, text_auto=False, width=1000, height= 900)\n",
        "\n",
        "fig.show()"
      ]
    },
    {
      "cell_type": "markdown",
      "metadata": {
        "id": "RcJG53PNtYD2"
      },
      "source": [
        "since the correlation between (total_day_minutes, total_day_charges) = 1, (voice_mail_plan, number_vmail_messages) = 0.95, (total_even_minutes, total_even_charges)= 1, (total_night_minutes, total_night_charges) = 0.99, (total_intl_minutes, total_intl_charges) = 0.999993\n",
        "\n",
        "Correlation measures the linear relationship between two variables. Features with high correlation are more linearly dependent and have almost the same effect on the dependent variable. therefore we can drop one of them\n",
        "\n",
        "Some models perform worse when they use variables that are highly correlated with others because the model can not distinguish the differences between these two variables when measuring variations in the output variable\n",
        "\n",
        "If the value is +1 or close to it then we say the variables are positively correlated. And they vary in the same direction simultaneously\n",
        "\n",
        "If the value is -1 or close to it then we say the variables are negatively correlated. And they vary in the opposite direction simultaneously.\n",
        "\n",
        " If the value is 0 or close to it then we say the variables are not correlated.\n",
        "\n",
        " from the heatmap we observe that the features correlation ranges between 0 and +1 therefore there's either positive correlation between features or no correlation at all. Also, can see that the churn rate has the highest correlation with international plan, followed by number of customer service calls which makes sense.\n",
        "\n",
        " we are concerned here with the correlation between\n",
        "\n",
        " hence we drop the following features:\n",
        " * total day minutes\n",
        " * total evening minutes\n",
        " * total night minutes\n",
        " * total international minutes\n",
        " * voice mail plan"
      ]
    },
    {
      "cell_type": "code",
      "execution_count": null,
      "metadata": {
        "colab": {
          "base_uri": "https://localhost:8080/"
        },
        "id": "rCxRq1l5q9kg",
        "outputId": "50692878-f096-437d-d2f6-e6c2a85f4b46"
      },
      "outputs": [
        {
          "output_type": "stream",
          "name": "stdout",
          "text": [
            "\n",
            "   state  account_length  area_code  international_plan  \\\n",
            "0     16             128          1                   0   \n",
            "1      1             118          2                   1   \n",
            "2     12              62          1                   0   \n",
            "3     46              93          2                   0   \n",
            "4     29             174          1                   0   \n",
            "\n",
            "   number_vmail_messages  total_day_calls  total_day_charge  total_eve_calls  \\\n",
            "0                     25              110             45.07               99   \n",
            "1                      0               98             37.98              101   \n",
            "2                      0               70             20.52               76   \n",
            "3                      0              114             32.42              111   \n",
            "4                      0               76             21.13              112   \n",
            "\n",
            "   total_eve_charge  total_night_calls  total_night_charge  total_intl_calls  \\\n",
            "0             16.78                 91               11.01                 3   \n",
            "1             18.75                118                9.18                 6   \n",
            "2             26.11                 99                9.14                 6   \n",
            "3             18.55                121                5.83                 3   \n",
            "4             23.55                115               11.28                 5   \n",
            "\n",
            "   total_intl_charge  number_customer_service_calls  churn  \n",
            "0               2.70                              1      1  \n",
            "1               1.70                              0      0  \n",
            "2               3.54                              4      0  \n",
            "3               2.19                              3      1  \n",
            "4               4.19                              3      1  \n"
          ]
        }
      ],
      "source": [
        "cust_churn1 = cust_churn_data.drop(['total_day_minutes','total_eve_minutes', 'total_night_minutes','total_intl_minutes', 'voice_mail_plan'], axis=1)\n",
        "print(); print(cust_churn1.head())"
      ]
    },
    {
      "cell_type": "code",
      "execution_count": null,
      "metadata": {
        "colab": {
          "base_uri": "https://localhost:8080/",
          "height": 270
        },
        "id": "dibm-2qf-yDI",
        "outputId": "9f42ba6a-4636-4144-a9be-fcb266fcbecd"
      },
      "outputs": [
        {
          "data": {
            "text/html": [
              "\n",
              "  <div id=\"df-0d714408-701d-4c88-8607-b370acf7dbd7\">\n",
              "    <div class=\"colab-df-container\">\n",
              "      <div>\n",
              "<style scoped>\n",
              "    .dataframe tbody tr th:only-of-type {\n",
              "        vertical-align: middle;\n",
              "    }\n",
              "\n",
              "    .dataframe tbody tr th {\n",
              "        vertical-align: top;\n",
              "    }\n",
              "\n",
              "    .dataframe thead th {\n",
              "        text-align: right;\n",
              "    }\n",
              "</style>\n",
              "<table border=\"1\" class=\"dataframe\">\n",
              "  <thead>\n",
              "    <tr style=\"text-align: right;\">\n",
              "      <th></th>\n",
              "      <th>state</th>\n",
              "      <th>account_length</th>\n",
              "      <th>area_code</th>\n",
              "      <th>international_plan</th>\n",
              "      <th>number_vmail_messages</th>\n",
              "      <th>total_day_calls</th>\n",
              "      <th>total_day_charge</th>\n",
              "      <th>total_eve_calls</th>\n",
              "      <th>total_eve_charge</th>\n",
              "      <th>total_night_calls</th>\n",
              "      <th>total_night_charge</th>\n",
              "      <th>total_intl_calls</th>\n",
              "      <th>total_intl_charge</th>\n",
              "      <th>number_customer_service_calls</th>\n",
              "      <th>churn</th>\n",
              "    </tr>\n",
              "  </thead>\n",
              "  <tbody>\n",
              "    <tr>\n",
              "      <th>0</th>\n",
              "      <td>16</td>\n",
              "      <td>128</td>\n",
              "      <td>1</td>\n",
              "      <td>0</td>\n",
              "      <td>25</td>\n",
              "      <td>110</td>\n",
              "      <td>45.07</td>\n",
              "      <td>99</td>\n",
              "      <td>16.78</td>\n",
              "      <td>91</td>\n",
              "      <td>11.01</td>\n",
              "      <td>3</td>\n",
              "      <td>2.70</td>\n",
              "      <td>1</td>\n",
              "      <td>1</td>\n",
              "    </tr>\n",
              "    <tr>\n",
              "      <th>1</th>\n",
              "      <td>1</td>\n",
              "      <td>118</td>\n",
              "      <td>2</td>\n",
              "      <td>1</td>\n",
              "      <td>0</td>\n",
              "      <td>98</td>\n",
              "      <td>37.98</td>\n",
              "      <td>101</td>\n",
              "      <td>18.75</td>\n",
              "      <td>118</td>\n",
              "      <td>9.18</td>\n",
              "      <td>6</td>\n",
              "      <td>1.70</td>\n",
              "      <td>0</td>\n",
              "      <td>0</td>\n",
              "    </tr>\n",
              "    <tr>\n",
              "      <th>2</th>\n",
              "      <td>12</td>\n",
              "      <td>62</td>\n",
              "      <td>1</td>\n",
              "      <td>0</td>\n",
              "      <td>0</td>\n",
              "      <td>70</td>\n",
              "      <td>20.52</td>\n",
              "      <td>76</td>\n",
              "      <td>26.11</td>\n",
              "      <td>99</td>\n",
              "      <td>9.14</td>\n",
              "      <td>6</td>\n",
              "      <td>3.54</td>\n",
              "      <td>4</td>\n",
              "      <td>0</td>\n",
              "    </tr>\n",
              "    <tr>\n",
              "      <th>3</th>\n",
              "      <td>46</td>\n",
              "      <td>93</td>\n",
              "      <td>2</td>\n",
              "      <td>0</td>\n",
              "      <td>0</td>\n",
              "      <td>114</td>\n",
              "      <td>32.42</td>\n",
              "      <td>111</td>\n",
              "      <td>18.55</td>\n",
              "      <td>121</td>\n",
              "      <td>5.83</td>\n",
              "      <td>3</td>\n",
              "      <td>2.19</td>\n",
              "      <td>3</td>\n",
              "      <td>1</td>\n",
              "    </tr>\n",
              "    <tr>\n",
              "      <th>4</th>\n",
              "      <td>29</td>\n",
              "      <td>174</td>\n",
              "      <td>1</td>\n",
              "      <td>0</td>\n",
              "      <td>0</td>\n",
              "      <td>76</td>\n",
              "      <td>21.13</td>\n",
              "      <td>112</td>\n",
              "      <td>23.55</td>\n",
              "      <td>115</td>\n",
              "      <td>11.28</td>\n",
              "      <td>5</td>\n",
              "      <td>4.19</td>\n",
              "      <td>3</td>\n",
              "      <td>1</td>\n",
              "    </tr>\n",
              "  </tbody>\n",
              "</table>\n",
              "</div>\n",
              "      <button class=\"colab-df-convert\" onclick=\"convertToInteractive('df-0d714408-701d-4c88-8607-b370acf7dbd7')\"\n",
              "              title=\"Convert this dataframe to an interactive table.\"\n",
              "              style=\"display:none;\">\n",
              "        \n",
              "  <svg xmlns=\"http://www.w3.org/2000/svg\" height=\"24px\"viewBox=\"0 0 24 24\"\n",
              "       width=\"24px\">\n",
              "    <path d=\"M0 0h24v24H0V0z\" fill=\"none\"/>\n",
              "    <path d=\"M18.56 5.44l.94 2.06.94-2.06 2.06-.94-2.06-.94-.94-2.06-.94 2.06-2.06.94zm-11 1L8.5 8.5l.94-2.06 2.06-.94-2.06-.94L8.5 2.5l-.94 2.06-2.06.94zm10 10l.94 2.06.94-2.06 2.06-.94-2.06-.94-.94-2.06-.94 2.06-2.06.94z\"/><path d=\"M17.41 7.96l-1.37-1.37c-.4-.4-.92-.59-1.43-.59-.52 0-1.04.2-1.43.59L10.3 9.45l-7.72 7.72c-.78.78-.78 2.05 0 2.83L4 21.41c.39.39.9.59 1.41.59.51 0 1.02-.2 1.41-.59l7.78-7.78 2.81-2.81c.8-.78.8-2.07 0-2.86zM5.41 20L4 18.59l7.72-7.72 1.47 1.35L5.41 20z\"/>\n",
              "  </svg>\n",
              "      </button>\n",
              "      \n",
              "  <style>\n",
              "    .colab-df-container {\n",
              "      display:flex;\n",
              "      flex-wrap:wrap;\n",
              "      gap: 12px;\n",
              "    }\n",
              "\n",
              "    .colab-df-convert {\n",
              "      background-color: #E8F0FE;\n",
              "      border: none;\n",
              "      border-radius: 50%;\n",
              "      cursor: pointer;\n",
              "      display: none;\n",
              "      fill: #1967D2;\n",
              "      height: 32px;\n",
              "      padding: 0 0 0 0;\n",
              "      width: 32px;\n",
              "    }\n",
              "\n",
              "    .colab-df-convert:hover {\n",
              "      background-color: #E2EBFA;\n",
              "      box-shadow: 0px 1px 2px rgba(60, 64, 67, 0.3), 0px 1px 3px 1px rgba(60, 64, 67, 0.15);\n",
              "      fill: #174EA6;\n",
              "    }\n",
              "\n",
              "    [theme=dark] .colab-df-convert {\n",
              "      background-color: #3B4455;\n",
              "      fill: #D2E3FC;\n",
              "    }\n",
              "\n",
              "    [theme=dark] .colab-df-convert:hover {\n",
              "      background-color: #434B5C;\n",
              "      box-shadow: 0px 1px 3px 1px rgba(0, 0, 0, 0.15);\n",
              "      filter: drop-shadow(0px 1px 2px rgba(0, 0, 0, 0.3));\n",
              "      fill: #FFFFFF;\n",
              "    }\n",
              "  </style>\n",
              "\n",
              "      <script>\n",
              "        const buttonEl =\n",
              "          document.querySelector('#df-0d714408-701d-4c88-8607-b370acf7dbd7 button.colab-df-convert');\n",
              "        buttonEl.style.display =\n",
              "          google.colab.kernel.accessAllowed ? 'block' : 'none';\n",
              "\n",
              "        async function convertToInteractive(key) {\n",
              "          const element = document.querySelector('#df-0d714408-701d-4c88-8607-b370acf7dbd7');\n",
              "          const dataTable =\n",
              "            await google.colab.kernel.invokeFunction('convertToInteractive',\n",
              "                                                     [key], {});\n",
              "          if (!dataTable) return;\n",
              "\n",
              "          const docLinkHtml = 'Like what you see? Visit the ' +\n",
              "            '<a target=\"_blank\" href=https://colab.research.google.com/notebooks/data_table.ipynb>data table notebook</a>'\n",
              "            + ' to learn more about interactive tables.';\n",
              "          element.innerHTML = '';\n",
              "          dataTable['output_type'] = 'display_data';\n",
              "          await google.colab.output.renderOutput(dataTable, element);\n",
              "          const docLink = document.createElement('div');\n",
              "          docLink.innerHTML = docLinkHtml;\n",
              "          element.appendChild(docLink);\n",
              "        }\n",
              "      </script>\n",
              "    </div>\n",
              "  </div>\n",
              "  "
            ],
            "text/plain": [
              "   state  account_length  area_code  international_plan  \\\n",
              "0     16             128          1                   0   \n",
              "1      1             118          2                   1   \n",
              "2     12              62          1                   0   \n",
              "3     46              93          2                   0   \n",
              "4     29             174          1                   0   \n",
              "\n",
              "   number_vmail_messages  total_day_calls  total_day_charge  total_eve_calls  \\\n",
              "0                     25              110             45.07               99   \n",
              "1                      0               98             37.98              101   \n",
              "2                      0               70             20.52               76   \n",
              "3                      0              114             32.42              111   \n",
              "4                      0               76             21.13              112   \n",
              "\n",
              "   total_eve_charge  total_night_calls  total_night_charge  total_intl_calls  \\\n",
              "0             16.78                 91               11.01                 3   \n",
              "1             18.75                118                9.18                 6   \n",
              "2             26.11                 99                9.14                 6   \n",
              "3             18.55                121                5.83                 3   \n",
              "4             23.55                115               11.28                 5   \n",
              "\n",
              "   total_intl_charge  number_customer_service_calls  churn  \n",
              "0               2.70                              1      1  \n",
              "1               1.70                              0      0  \n",
              "2               3.54                              4      0  \n",
              "3               2.19                              3      1  \n",
              "4               4.19                              3      1  "
            ]
          },
          "execution_count": 7,
          "metadata": {},
          "output_type": "execute_result"
        }
      ],
      "source": [
        "cust_churn1.head()"
      ]
    },
    {
      "cell_type": "markdown",
      "metadata": {
        "id": "P7KA93hM_Bfk"
      },
      "source": [
        "after dropping the features with high correlation we will apply some feature engineering based on which collection of features increases the scorve validation most when applied to K-Fold"
      ]
    },
    {
      "cell_type": "code",
      "execution_count": null,
      "metadata": {
        "id": "lqSYpz9DJ7P4"
      },
      "outputs": [],
      "source": [
        "def Statistics(features,name):\n",
        "    for dataset in [cust_churn1]:\n",
        "        dataset[f\"{name}_SD\"] = dataset[features].std(axis=1)\n",
        "        dataset[f\"{name}_MEAN\"] = dataset[features].mean(axis=1)\n",
        "        dataset[f\"{name}_MIN\"] = dataset[features].min(axis=1)\n",
        "        dataset[f\"{name}_MAX\"] = dataset[features].max(axis=1)\n",
        "        dataset[f\"{name}_RANGE\"] = dataset[f\"{name}_MAX\"] - dataset[f\"{name}_MIN\"]\n",
        "        dataset[f\"{name}_RATIO\"] = (dataset[f\"{name}_MIN\"] / dataset[f\"{name}_MAX\"]).fillna(0)\n",
        "        dataset[f\"{name}_SUM\"] = dataset[features].sum(axis=1)\n",
        "\n",
        "feats = ['total_day_charge','total_eve_charge','total_night_charge','total_intl_charge']\n",
        "Statistics(feats,'charge')\n",
        "\n",
        "feats = ['total_eve_calls','total_eve_charge']\n",
        "Statistics(feats,'eve_activity')"
      ]
    },
    {
      "cell_type": "code",
      "execution_count": null,
      "metadata": {
        "colab": {
          "base_uri": "https://localhost:8080/"
        },
        "id": "Iw-JltGW_zGT",
        "outputId": "3fc04cb2-f682-486a-d045-589822fe9c5f"
      },
      "outputs": [
        {
          "name": "stdout",
          "output_type": "stream",
          "text": [
            "<class 'pandas.core.frame.DataFrame'>\n",
            "RangeIndex: 5000 entries, 0 to 4999\n",
            "Data columns (total 30 columns):\n",
            " #   Column                         Non-Null Count  Dtype  \n",
            "---  ------                         --------------  -----  \n",
            " 0   state                          5000 non-null   int64  \n",
            " 1   account_length                 5000 non-null   int64  \n",
            " 2   area_code                      5000 non-null   int64  \n",
            " 3   international_plan             5000 non-null   int64  \n",
            " 4   voice_mail_plan                5000 non-null   int64  \n",
            " 5   number_vmail_messages          5000 non-null   int64  \n",
            " 6   total_day_calls                5000 non-null   int64  \n",
            " 7   total_day_charge               5000 non-null   float64\n",
            " 8   total_eve_calls                5000 non-null   int64  \n",
            " 9   total_eve_charge               5000 non-null   float64\n",
            " 10  total_night_calls              5000 non-null   int64  \n",
            " 11  total_night_charge             5000 non-null   float64\n",
            " 12  total_intl_calls               5000 non-null   int64  \n",
            " 13  total_intl_charge              5000 non-null   float64\n",
            " 14  number_customer_service_calls  5000 non-null   int64  \n",
            " 15  churn                          5000 non-null   int64  \n",
            " 16  charge_SD                      5000 non-null   float64\n",
            " 17  charge_MEAN                    5000 non-null   float64\n",
            " 18  charge_MIN                     5000 non-null   float64\n",
            " 19  charge_MAX                     5000 non-null   float64\n",
            " 20  charge_RANGE                   5000 non-null   float64\n",
            " 21  charge_RATIO                   5000 non-null   float64\n",
            " 22  charge_SUM                     5000 non-null   float64\n",
            " 23  eve_activity_SD                5000 non-null   float64\n",
            " 24  eve_activity_MEAN              5000 non-null   float64\n",
            " 25  eve_activity_MIN               5000 non-null   float64\n",
            " 26  eve_activity_MAX               5000 non-null   float64\n",
            " 27  eve_activity_RANGE             5000 non-null   float64\n",
            " 28  eve_activity_RATIO             5000 non-null   float64\n",
            " 29  eve_activity_SUM               5000 non-null   float64\n",
            "dtypes: float64(18), int64(12)\n",
            "memory usage: 1.1 MB\n"
          ]
        }
      ],
      "source": [
        "cust_churn1.info()"
      ]
    },
    {
      "cell_type": "markdown",
      "metadata": {
        "id": "dTbOUFSpvXAD"
      },
      "source": [
        "As we mentioned before Churn Prediction is a cjassofocation problem in either customers churn or retain after a given period of time, so to guide us in building our models the following questions need to be answered:\n",
        "* which features make customers churn or retain?\n",
        "* what are the most features to train a model with high performance?\n",
        "\n",
        "we use the generalized linear model (GLM) to gain some insights on the features with the target."
      ]
    },
    {
      "cell_type": "markdown",
      "metadata": {
        "id": "R_nDeZPzJkxT"
      },
      "source": [
        "to answer the first question we look at the (P>|z|) column, If the absolute p-value is smaller than 0.05, it means that the feature affects Churn in a statistically significant way and those features are:\n",
        "* international_plan\n",
        "* number_vmail_messages\n",
        "* Charge_MIN\n",
        "* Charge_RANGE\n",
        "* Charge_RATIO\n",
        "* number_customer_service_calls"
      ]
    },
    {
      "cell_type": "markdown",
      "metadata": {
        "id": "Tq73inw-Ktut"
      },
      "source": [
        "the answer to the second question is found by  looking at the exponential coefficient values which estimates the expected change in churn through a given feature by a change of one unit."
      ]
    },
    {
      "cell_type": "code",
      "execution_count": null,
      "metadata": {
        "colab": {
          "base_uri": "https://localhost:8080/"
        },
        "id": "Xn9OzaQ-I-QF",
        "outputId": "fdca495e-2e27-416f-a168-989d2d619807"
      },
      "outputs": [
        {
          "output_type": "execute_result",
          "data": {
            "text/plain": [
              "Intercept                        3.971750e-04\n",
              "state                            1.001643e+00\n",
              "account_length                   1.001185e+00\n",
              "area_code                        1.014314e+00\n",
              "international_plan               4.609398e+00\n",
              "number_vmail_messages            9.818734e-01\n",
              "total_day_calls                  1.002212e+00\n",
              "total_day_charge                 1.570192e+00\n",
              "total_eve_calls                  1.035449e+01\n",
              "total_eve_charge                 1.092513e-01\n",
              "total_night_calls                9.986700e-01\n",
              "total_night_charge               1.651616e+00\n",
              "total_intl_calls                 9.730467e-01\n",
              "total_intl_charge                2.267227e+00\n",
              "number_customer_service_calls    1.429420e+00\n",
              "charge_SD                        8.381775e-01\n",
              "charge_MEAN                      8.952531e-01\n",
              "charge_MIN                       5.551927e-01\n",
              "charge_MAX                       8.335221e-01\n",
              "charge_RANGE                     1.501320e+00\n",
              "charge_RATIO                     9.972563e+09\n",
              "charge_SUM                       6.423672e-01\n",
              "eve_activity_SD                  4.045813e-01\n",
              "eve_activity_MEAN                1.063598e+00\n",
              "eve_activity_MIN                 2.016817e+00\n",
              "eve_activity_MAX                 5.609042e-01\n",
              "eve_activity_RANGE               2.781136e-01\n",
              "eve_activity_RATIO               6.795570e-02\n",
              "eve_activity_SUM                 1.131241e+00\n",
              "dtype: float64"
            ]
          },
          "metadata": {},
          "execution_count": 33
        }
      ],
      "source": [
        "np.exp(res.params)"
      ]
    },
    {
      "cell_type": "markdown",
      "metadata": {
        "id": "7VQWSDcKLQi4"
      },
      "source": [
        " Values more than 1 indicate increased churn while Values less than 1 indicate that churn is happening less."
      ]
    },
    {
      "cell_type": "markdown",
      "metadata": {
        "id": "vF7O2oPwLtEe"
      },
      "source": [
        "Real-world datasets often contain features that are varying in degrees of magnitude, range and units. Therefore, in order for machine learning models to interpret these features on the same scale, we need to perform feature scaling.\n",
        "\n",
        "The machine learning algorithms that do not require feature scaling is mostly non-linear ML algorithms such as Decision trees, gradient boosting classifier and AdaBoost. while logistic regression are SVM linear ML models.\n",
        "\n",
        "since Algorithms like Decision Trees, Gradient Boosting, etc, are not significantly affected by feature scaling since the trees in these algorithms are constructed based on conditions and are not dependent on the range of values we decide\n",
        "\n",
        "Real-world datasets often contain features that are varying in degrees of magnitude, range and units. Therefore, in order for machine learning models to interpret these features on the same scale, we need to perform feature scaling.\n",
        "\n",
        "The machine learning algorithms that do not require feature scaling is mostly non-linear ML algorithms such as Decision trees, gradient boosting classifier and AdaBoost. while logistic regression are SVM linear ML models.\n",
        "\n",
        "since Algorithms like Decision Trees, Gradient Boosting, etc, are not significantly affected by feature scaling since the trees in these algorithms are constructed based on conditions and are not dependent on the range of values we decided to apply feature scaling on numeric data as a preprocessing step.\n",
        "\n",
        "it's important to  split the data before performing any further transformations such as scaling the data because we want to prevent any information about the test set from affecting our training and validation set.\n",
        "\n",
        "Because we want to be able to measure how well our Machine Learning models perform on data they have never seen before we have to make sure that no information from the test data impacts how the scaling or any other transformation is done."
      ]
    },
    {
      "cell_type": "markdown",
      "source": [
        "Next, we do feature selection to enable the machine learning algorithm to train faster, reduce model complexity, increase interpretability, and improve model accuracy if the right features subset is chosen"
      ],
      "metadata": {
        "id": "GN-sggsXzPiz"
      }
    },
    {
      "cell_type": "code",
      "source": [
        "# Feature selection to improve model building\n",
        "from sklearn.feature_selection import RFECV #Recursive feature elimination with cross-validation to select features.\n",
        "from sklearn.model_selection import StratifiedKFold\n",
        "log = LogisticRegression()\n",
        "rfecv = RFECV(estimator=log, cv=StratifiedKFold(10, random_state=50, shuffle=True), scoring=\"accuracy\") #cv Determines the cross-validation splitting strategy.\n",
        "rfecv.fit(X, y)"
      ],
      "metadata": {
        "id": "MJmsoNiqy_sM"
      },
      "execution_count": null,
      "outputs": []
    },
    {
      "cell_type": "code",
      "source": [
        "plt.figure(figsize=(8, 6))\n",
        "plt.plot(range(1, len(rfecv.grid_scores_)+1), rfecv.grid_scores_)\n",
        "plt.grid()\n",
        "plt.xticks(range(1, X.shape[1]+1))\n",
        "plt.xlabel(\"Number of Selected Features\")\n",
        "plt.ylabel(\"CV Score\"a)\n",
        "plt.title(\"Recursive Feature Elimination (RFE)\")\n",
        "plt.show()\n",
        "\n",
        "print(\"The optimal number of features: {}\".format(rfecv.n_features_))"
      ],
      "metadata": {
        "id": "3iCuTWivy4XC"
      },
      "execution_count": null,
      "outputs": []
    },
    {
      "cell_type": "markdown",
      "metadata": {
        "id": "4IlYTM1AgVVy"
      },
      "source": [
        "#scaling numeric variables:"
      ]
    },
    {
      "cell_type": "code",
      "execution_count": null,
      "metadata": {
        "colab": {
          "base_uri": "https://localhost:8080/"
        },
        "id": "yjq8wza8KlEG",
        "outputId": "acccdea8-fb36-4bfa-ba2c-01b0408a9299"
      },
      "outputs": [
        {
          "output_type": "stream",
          "name": "stdout",
          "text": [
            "<class 'pandas.core.frame.DataFrame'>\n",
            "RangeIndex: 5000 entries, 0 to 4999\n",
            "Data columns (total 29 columns):\n",
            " #   Column                         Non-Null Count  Dtype  \n",
            "---  ------                         --------------  -----  \n",
            " 0   state                          5000 non-null   int64  \n",
            " 1   account_length                 5000 non-null   int64  \n",
            " 2   area_code                      5000 non-null   int64  \n",
            " 3   international_plan             5000 non-null   int64  \n",
            " 4   number_vmail_messages          5000 non-null   int64  \n",
            " 5   total_day_calls                5000 non-null   int64  \n",
            " 6   total_day_charge               5000 non-null   float64\n",
            " 7   total_eve_calls                5000 non-null   int64  \n",
            " 8   total_eve_charge               5000 non-null   float64\n",
            " 9   total_night_calls              5000 non-null   int64  \n",
            " 10  total_night_charge             5000 non-null   float64\n",
            " 11  total_intl_calls               5000 non-null   int64  \n",
            " 12  total_intl_charge              5000 non-null   float64\n",
            " 13  number_customer_service_calls  5000 non-null   int64  \n",
            " 14  churn                          5000 non-null   int64  \n",
            " 15  charge_SD                      5000 non-null   float64\n",
            " 16  charge_MEAN                    5000 non-null   float64\n",
            " 17  charge_MIN                     5000 non-null   float64\n",
            " 18  charge_MAX                     5000 non-null   float64\n",
            " 19  charge_RANGE                   5000 non-null   float64\n",
            " 20  charge_RATIO                   5000 non-null   float64\n",
            " 21  charge_SUM                     5000 non-null   float64\n",
            " 22  eve_activity_SD                5000 non-null   float64\n",
            " 23  eve_activity_MEAN              5000 non-null   float64\n",
            " 24  eve_activity_MIN               5000 non-null   float64\n",
            " 25  eve_activity_MAX               5000 non-null   float64\n",
            " 26  eve_activity_RANGE             5000 non-null   float64\n",
            " 27  eve_activity_RATIO             5000 non-null   float64\n",
            " 28  eve_activity_SUM               5000 non-null   float64\n",
            "dtypes: float64(18), int64(11)\n",
            "memory usage: 1.1 MB\n"
          ]
        }
      ],
      "source": [
        "cust_churn1.info()"
      ]
    },
    {
      "cell_type": "code",
      "execution_count": null,
      "metadata": {
        "id": "yEEqmZF0EJsI"
      },
      "outputs": [],
      "source": [
        "from sklearn import preprocessing\n",
        "import pandas as pd\n",
        "scaler = preprocessing.MinMaxScaler(feature_range=(0, 1))\n",
        "cust_churn1[['account_length','number_vmail_messages','total_day_calls','total_day_charge','total_eve_calls','total_eve_charge','total_night_calls','total_night_charge','total_intl_calls','total_intl_charge','number_customer_service_calls','eve_activity_SUM','eve_activity_SD','eve_activity_RANGE','eve_activity_RATIO','eve_activity_MAX','eve_activity_MIN','eve_activity_MEAN','charge_SD','charge_RANGE','charge_RATIO','charge_MAX','charge_MIN','charge_MEAN','charge_SUM']] = scaler.fit_transform(cust_churn1[['account_length','number_vmail_messages','total_day_calls','total_day_charge','total_eve_calls','total_eve_charge','total_night_calls','total_night_charge','total_intl_calls','total_intl_charge','number_customer_service_calls','eve_activity_SUM','eve_activity_SD','eve_activity_RANGE','eve_activity_RATIO','eve_activity_MAX','eve_activity_MIN','eve_activity_MEAN','charge_SD','charge_RANGE','charge_RATIO','charge_MAX','charge_MIN','charge_MEAN','charge_SUM']])\n"
      ]
    },
    {
      "cell_type": "code",
      "execution_count": null,
      "metadata": {
        "id": "4gw9hwAJEIGa"
      },
      "outputs": [],
      "source": []
    },
    {
      "cell_type": "code",
      "execution_count": null,
      "metadata": {
        "colab": {
          "base_uri": "https://localhost:8080/",
          "height": 270
        },
        "id": "MOw5-VM0S2ub",
        "outputId": "bb470c5d-997a-4512-8e06-40c2f0a9960f"
      },
      "outputs": [
        {
          "data": {
            "text/html": [
              "\n",
              "  <div id=\"df-7f6844b7-5da5-40e5-8f6a-6457f11fcaec\">\n",
              "    <div class=\"colab-df-container\">\n",
              "      <div>\n",
              "<style scoped>\n",
              "    .dataframe tbody tr th:only-of-type {\n",
              "        vertical-align: middle;\n",
              "    }\n",
              "\n",
              "    .dataframe tbody tr th {\n",
              "        vertical-align: top;\n",
              "    }\n",
              "\n",
              "    .dataframe thead th {\n",
              "        text-align: right;\n",
              "    }\n",
              "</style>\n",
              "<table border=\"1\" class=\"dataframe\">\n",
              "  <thead>\n",
              "    <tr style=\"text-align: right;\">\n",
              "      <th></th>\n",
              "      <th>state</th>\n",
              "      <th>account_length</th>\n",
              "      <th>area_code</th>\n",
              "      <th>international_plan</th>\n",
              "      <th>number_vmail_messages</th>\n",
              "      <th>total_day_calls</th>\n",
              "      <th>total_day_charge</th>\n",
              "      <th>total_eve_calls</th>\n",
              "      <th>total_eve_charge</th>\n",
              "      <th>total_night_calls</th>\n",
              "      <th>total_night_charge</th>\n",
              "      <th>total_intl_calls</th>\n",
              "      <th>total_intl_charge</th>\n",
              "      <th>number_customer_service_calls</th>\n",
              "      <th>churn</th>\n",
              "      <th>charge_SD</th>\n",
              "      <th>charge_MEAN</th>\n",
              "      <th>charge_MIN</th>\n",
              "      <th>charge_MAX</th>\n",
              "      <th>charge_RANGE</th>\n",
              "      <th>charge_RATIO</th>\n",
              "      <th>charge_SUM</th>\n",
              "      <th>eve_activity_SD</th>\n",
              "      <th>eve_activity_MEAN</th>\n",
              "      <th>eve_activity_MIN</th>\n",
              "      <th>eve_activity_MAX</th>\n",
              "      <th>eve_activity_RANGE</th>\n",
              "      <th>eve_activity_RATIO</th>\n",
              "      <th>eve_activity_SUM</th>\n",
              "    </tr>\n",
              "  </thead>\n",
              "  <tbody>\n",
              "    <tr>\n",
              "      <th>0</th>\n",
              "      <td>16</td>\n",
              "      <td>0.524793</td>\n",
              "      <td>1</td>\n",
              "      <td>0</td>\n",
              "      <td>0.480769</td>\n",
              "      <td>0.666667</td>\n",
              "      <td>0.754183</td>\n",
              "      <td>0.582353</td>\n",
              "      <td>0.542866</td>\n",
              "      <td>0.520000</td>\n",
              "      <td>0.619584</td>\n",
              "      <td>0.15</td>\n",
              "      <td>0.500000</td>\n",
              "      <td>0.111111</td>\n",
              "      <td>1</td>\n",
              "      <td>0.694153</td>\n",
              "      <td>0.718793</td>\n",
              "      <td>0.500000</td>\n",
              "      <td>0.705611</td>\n",
              "      <td>0.710416</td>\n",
              "      <td>0.168387</td>\n",
              "      <td>0.718793</td>\n",
              "      <td>0.539431</td>\n",
              "      <td>0.583892</td>\n",
              "      <td>0.542866</td>\n",
              "      <td>0.582353</td>\n",
              "      <td>0.539431</td>\n",
              "      <td>0.224863</td>\n",
              "      <td>0.583892</td>\n",
              "    </tr>\n",
              "    <tr>\n",
              "      <th>1</th>\n",
              "      <td>1</td>\n",
              "      <td>0.483471</td>\n",
              "      <td>2</td>\n",
              "      <td>1</td>\n",
              "      <td>0.000000</td>\n",
              "      <td>0.593939</td>\n",
              "      <td>0.635542</td>\n",
              "      <td>0.594118</td>\n",
              "      <td>0.606600</td>\n",
              "      <td>0.674286</td>\n",
              "      <td>0.516601</td>\n",
              "      <td>0.30</td>\n",
              "      <td>0.314815</td>\n",
              "      <td>0.000000</td>\n",
              "      <td>0</td>\n",
              "      <td>0.573521</td>\n",
              "      <td>0.610216</td>\n",
              "      <td>0.314815</td>\n",
              "      <td>0.563527</td>\n",
              "      <td>0.589126</td>\n",
              "      <td>0.125813</td>\n",
              "      <td>0.610216</td>\n",
              "      <td>0.539627</td>\n",
              "      <td>0.603913</td>\n",
              "      <td>0.606600</td>\n",
              "      <td>0.594118</td>\n",
              "      <td>0.539627</td>\n",
              "      <td>0.246287</td>\n",
              "      <td>0.603913</td>\n",
              "    </tr>\n",
              "    <tr>\n",
              "      <th>2</th>\n",
              "      <td>12</td>\n",
              "      <td>0.252066</td>\n",
              "      <td>1</td>\n",
              "      <td>0</td>\n",
              "      <td>0.000000</td>\n",
              "      <td>0.424242</td>\n",
              "      <td>0.343373</td>\n",
              "      <td>0.447059</td>\n",
              "      <td>0.844710</td>\n",
              "      <td>0.565714</td>\n",
              "      <td>0.514350</td>\n",
              "      <td>0.30</td>\n",
              "      <td>0.655556</td>\n",
              "      <td>0.444444</td>\n",
              "      <td>0</td>\n",
              "      <td>0.333283</td>\n",
              "      <td>0.496859</td>\n",
              "      <td>0.655556</td>\n",
              "      <td>0.325651</td>\n",
              "      <td>0.316072</td>\n",
              "      <td>0.381090</td>\n",
              "      <td>0.496859</td>\n",
              "      <td>0.327319</td>\n",
              "      <td>0.514953</td>\n",
              "      <td>0.844710</td>\n",
              "      <td>0.447059</td>\n",
              "      <td>0.327319</td>\n",
              "      <td>0.455780</td>\n",
              "      <td>0.514953</td>\n",
              "    </tr>\n",
              "    <tr>\n",
              "      <th>3</th>\n",
              "      <td>46</td>\n",
              "      <td>0.380165</td>\n",
              "      <td>2</td>\n",
              "      <td>0</td>\n",
              "      <td>0.000000</td>\n",
              "      <td>0.690909</td>\n",
              "      <td>0.542503</td>\n",
              "      <td>0.652941</td>\n",
              "      <td>0.600129</td>\n",
              "      <td>0.691429</td>\n",
              "      <td>0.328081</td>\n",
              "      <td>0.15</td>\n",
              "      <td>0.405556</td>\n",
              "      <td>0.333333</td>\n",
              "      <td>1</td>\n",
              "      <td>0.485038</td>\n",
              "      <td>0.492488</td>\n",
              "      <td>0.405556</td>\n",
              "      <td>0.452104</td>\n",
              "      <td>0.468632</td>\n",
              "      <td>0.189873</td>\n",
              "      <td>0.492488</td>\n",
              "      <td>0.606548</td>\n",
              "      <td>0.653336</td>\n",
              "      <td>0.600129</td>\n",
              "      <td>0.652941</td>\n",
              "      <td>0.606548</td>\n",
              "      <td>0.221709</td>\n",
              "      <td>0.653336</td>\n",
              "    </tr>\n",
              "    <tr>\n",
              "      <th>4</th>\n",
              "      <td>29</td>\n",
              "      <td>0.714876</td>\n",
              "      <td>1</td>\n",
              "      <td>0</td>\n",
              "      <td>0.000000</td>\n",
              "      <td>0.460606</td>\n",
              "      <td>0.353581</td>\n",
              "      <td>0.658824</td>\n",
              "      <td>0.761889</td>\n",
              "      <td>0.657143</td>\n",
              "      <td>0.634778</td>\n",
              "      <td>0.25</td>\n",
              "      <td>0.775926</td>\n",
              "      <td>0.333333</td>\n",
              "      <td>1</td>\n",
              "      <td>0.272911</td>\n",
              "      <td>0.508331</td>\n",
              "      <td>0.775926</td>\n",
              "      <td>0.274349</td>\n",
              "      <td>0.252141</td>\n",
              "      <td>0.500098</td>\n",
              "      <td>0.508331</td>\n",
              "      <td>0.580304</td>\n",
              "      <td>0.683595</td>\n",
              "      <td>0.761889</td>\n",
              "      <td>0.658824</td>\n",
              "      <td>0.580304</td>\n",
              "      <td>0.278955</td>\n",
              "      <td>0.683595</td>\n",
              "    </tr>\n",
              "  </tbody>\n",
              "</table>\n",
              "</div>\n",
              "      <button class=\"colab-df-convert\" onclick=\"convertToInteractive('df-7f6844b7-5da5-40e5-8f6a-6457f11fcaec')\"\n",
              "              title=\"Convert this dataframe to an interactive table.\"\n",
              "              style=\"display:none;\">\n",
              "        \n",
              "  <svg xmlns=\"http://www.w3.org/2000/svg\" height=\"24px\"viewBox=\"0 0 24 24\"\n",
              "       width=\"24px\">\n",
              "    <path d=\"M0 0h24v24H0V0z\" fill=\"none\"/>\n",
              "    <path d=\"M18.56 5.44l.94 2.06.94-2.06 2.06-.94-2.06-.94-.94-2.06-.94 2.06-2.06.94zm-11 1L8.5 8.5l.94-2.06 2.06-.94-2.06-.94L8.5 2.5l-.94 2.06-2.06.94zm10 10l.94 2.06.94-2.06 2.06-.94-2.06-.94-.94-2.06-.94 2.06-2.06.94z\"/><path d=\"M17.41 7.96l-1.37-1.37c-.4-.4-.92-.59-1.43-.59-.52 0-1.04.2-1.43.59L10.3 9.45l-7.72 7.72c-.78.78-.78 2.05 0 2.83L4 21.41c.39.39.9.59 1.41.59.51 0 1.02-.2 1.41-.59l7.78-7.78 2.81-2.81c.8-.78.8-2.07 0-2.86zM5.41 20L4 18.59l7.72-7.72 1.47 1.35L5.41 20z\"/>\n",
              "  </svg>\n",
              "      </button>\n",
              "      \n",
              "  <style>\n",
              "    .colab-df-container {\n",
              "      display:flex;\n",
              "      flex-wrap:wrap;\n",
              "      gap: 12px;\n",
              "    }\n",
              "\n",
              "    .colab-df-convert {\n",
              "      background-color: #E8F0FE;\n",
              "      border: none;\n",
              "      border-radius: 50%;\n",
              "      cursor: pointer;\n",
              "      display: none;\n",
              "      fill: #1967D2;\n",
              "      height: 32px;\n",
              "      padding: 0 0 0 0;\n",
              "      width: 32px;\n",
              "    }\n",
              "\n",
              "    .colab-df-convert:hover {\n",
              "      background-color: #E2EBFA;\n",
              "      box-shadow: 0px 1px 2px rgba(60, 64, 67, 0.3), 0px 1px 3px 1px rgba(60, 64, 67, 0.15);\n",
              "      fill: #174EA6;\n",
              "    }\n",
              "\n",
              "    [theme=dark] .colab-df-convert {\n",
              "      background-color: #3B4455;\n",
              "      fill: #D2E3FC;\n",
              "    }\n",
              "\n",
              "    [theme=dark] .colab-df-convert:hover {\n",
              "      background-color: #434B5C;\n",
              "      box-shadow: 0px 1px 3px 1px rgba(0, 0, 0, 0.15);\n",
              "      filter: drop-shadow(0px 1px 2px rgba(0, 0, 0, 0.3));\n",
              "      fill: #FFFFFF;\n",
              "    }\n",
              "  </style>\n",
              "\n",
              "      <script>\n",
              "        const buttonEl =\n",
              "          document.querySelector('#df-7f6844b7-5da5-40e5-8f6a-6457f11fcaec button.colab-df-convert');\n",
              "        buttonEl.style.display =\n",
              "          google.colab.kernel.accessAllowed ? 'block' : 'none';\n",
              "\n",
              "        async function convertToInteractive(key) {\n",
              "          const element = document.querySelector('#df-7f6844b7-5da5-40e5-8f6a-6457f11fcaec');\n",
              "          const dataTable =\n",
              "            await google.colab.kernel.invokeFunction('convertToInteractive',\n",
              "                                                     [key], {});\n",
              "          if (!dataTable) return;\n",
              "\n",
              "          const docLinkHtml = 'Like what you see? Visit the ' +\n",
              "            '<a target=\"_blank\" href=https://colab.research.google.com/notebooks/data_table.ipynb>data table notebook</a>'\n",
              "            + ' to learn more about interactive tables.';\n",
              "          element.innerHTML = '';\n",
              "          dataTable['output_type'] = 'display_data';\n",
              "          await google.colab.output.renderOutput(dataTable, element);\n",
              "          const docLink = document.createElement('div');\n",
              "          docLink.innerHTML = docLinkHtml;\n",
              "          element.appendChild(docLink);\n",
              "        }\n",
              "      </script>\n",
              "    </div>\n",
              "  </div>\n",
              "  "
            ],
            "text/plain": [
              "   state  account_length  area_code  international_plan  \\\n",
              "0     16        0.524793          1                   0   \n",
              "1      1        0.483471          2                   1   \n",
              "2     12        0.252066          1                   0   \n",
              "3     46        0.380165          2                   0   \n",
              "4     29        0.714876          1                   0   \n",
              "\n",
              "   number_vmail_messages  total_day_calls  total_day_charge  total_eve_calls  \\\n",
              "0               0.480769         0.666667          0.754183         0.582353   \n",
              "1               0.000000         0.593939          0.635542         0.594118   \n",
              "2               0.000000         0.424242          0.343373         0.447059   \n",
              "3               0.000000         0.690909          0.542503         0.652941   \n",
              "4               0.000000         0.460606          0.353581         0.658824   \n",
              "\n",
              "   total_eve_charge  total_night_calls  total_night_charge  total_intl_calls  \\\n",
              "0          0.542866           0.520000            0.619584              0.15   \n",
              "1          0.606600           0.674286            0.516601              0.30   \n",
              "2          0.844710           0.565714            0.514350              0.30   \n",
              "3          0.600129           0.691429            0.328081              0.15   \n",
              "4          0.761889           0.657143            0.634778              0.25   \n",
              "\n",
              "   total_intl_charge  number_customer_service_calls  churn  charge_SD  \\\n",
              "0           0.500000                       0.111111      1   0.694153   \n",
              "1           0.314815                       0.000000      0   0.573521   \n",
              "2           0.655556                       0.444444      0   0.333283   \n",
              "3           0.405556                       0.333333      1   0.485038   \n",
              "4           0.775926                       0.333333      1   0.272911   \n",
              "\n",
              "   charge_MEAN  charge_MIN  charge_MAX  charge_RANGE  charge_RATIO  \\\n",
              "0     0.718793    0.500000    0.705611      0.710416      0.168387   \n",
              "1     0.610216    0.314815    0.563527      0.589126      0.125813   \n",
              "2     0.496859    0.655556    0.325651      0.316072      0.381090   \n",
              "3     0.492488    0.405556    0.452104      0.468632      0.189873   \n",
              "4     0.508331    0.775926    0.274349      0.252141      0.500098   \n",
              "\n",
              "   charge_SUM  eve_activity_SD  eve_activity_MEAN  eve_activity_MIN  \\\n",
              "0    0.718793         0.539431           0.583892          0.542866   \n",
              "1    0.610216         0.539627           0.603913          0.606600   \n",
              "2    0.496859         0.327319           0.514953          0.844710   \n",
              "3    0.492488         0.606548           0.653336          0.600129   \n",
              "4    0.508331         0.580304           0.683595          0.761889   \n",
              "\n",
              "   eve_activity_MAX  eve_activity_RANGE  eve_activity_RATIO  eve_activity_SUM  \n",
              "0          0.582353            0.539431            0.224863          0.583892  \n",
              "1          0.594118            0.539627            0.246287          0.603913  \n",
              "2          0.447059            0.327319            0.455780          0.514953  \n",
              "3          0.652941            0.606548            0.221709          0.653336  \n",
              "4          0.658824            0.580304            0.278955          0.683595  "
            ]
          },
          "execution_count": 35,
          "metadata": {},
          "output_type": "execute_result"
        }
      ],
      "source": [
        "cust_churn1.head()"
      ]
    },
    {
      "cell_type": "markdown",
      "metadata": {
        "id": "fgmhbvHZMXp5"
      },
      "source": [
        "#MODELING"
      ]
    },
    {
      "cell_type": "code",
      "execution_count": null,
      "metadata": {
        "id": "0OoOrylnKOsH"
      },
      "outputs": [],
      "source": [
        "lr_params = {'C':10, 'max_iter': 10000}\n",
        "sv_params = {'C':500.0, 'kernel':'rbf'}\n",
        "dt_params = {'max_depth' : 15}\n",
        "gb_params = {'max_depth' : 3}\n",
        "cb_params = {'depth': 5, 'iterations': 1000, 'learning_rate': 0.01, 'verbose':0}"
      ]
    },
    {
      "cell_type": "code",
      "execution_count": null,
      "metadata": {
        "id": "PKJBFbZmMfhp"
      },
      "outputs": [],
      "source": [
        "lr = LogisticRegression(**lr_params, random_state=42)\n",
        "sv = SVC(**sv_params, random_state=42)\n",
        "dt = DecisionTreeClassifier(**dt_params, random_state=42)\n",
        "gb = GradientBoostingClassifier(**gb_params, random_state=42)\n",
        "cb = CatBoostClassifier(**cb_params, random_state=42)"
      ]
    },
    {
      "cell_type": "markdown",
      "metadata": {
        "id": "gM6eKGr10E1B"
      },
      "source": [
        "Next, we do feature selection to enable the machine learning algorithm to train faster, reduce model complexity, increase interpretability, and improve model accuracy if the right features subset is chosen"
      ]
    },
    {
      "cell_type": "code",
      "execution_count": null,
      "metadata": {
        "id": "GhuK74hM0LrH"
      },
      "outputs": [],
      "source": []
    },
    {
      "cell_type": "code",
      "execution_count": null,
      "metadata": {
        "colab": {
          "base_uri": "https://localhost:8080/",
          "height": 270
        },
        "id": "laesJJOuLIef",
        "outputId": "27de00d6-b040-41f6-bcfe-3e16f3be9cfd"
      },
      "outputs": [
        {
          "output_type": "execute_result",
          "data": {
            "text/plain": [
              "   state  account_length  area_code  international_plan  \\\n",
              "0     16             128          1                   0   \n",
              "1      1             118          2                   1   \n",
              "2     12              62          1                   0   \n",
              "3     46              93          2                   0   \n",
              "4     29             174          1                   0   \n",
              "\n",
              "   number_vmail_messages  total_day_calls  total_day_charge  total_eve_calls  \\\n",
              "0                     25              110             45.07               99   \n",
              "1                      0               98             37.98              101   \n",
              "2                      0               70             20.52               76   \n",
              "3                      0              114             32.42              111   \n",
              "4                      0               76             21.13              112   \n",
              "\n",
              "   total_eve_charge  total_night_calls  total_night_charge  total_intl_calls  \\\n",
              "0             16.78                 91               11.01                 3   \n",
              "1             18.75                118                9.18                 6   \n",
              "2             26.11                 99                9.14                 6   \n",
              "3             18.55                121                5.83                 3   \n",
              "4             23.55                115               11.28                 5   \n",
              "\n",
              "   total_intl_charge  number_customer_service_calls  churn  charge_SD  \\\n",
              "0               2.70                              1      1  18.385275   \n",
              "1               1.70                              0      0  15.688927   \n",
              "2               3.54                              4      0  10.319152   \n",
              "3               2.19                              3      1  13.711174   \n",
              "4               4.19                              3      1   8.969732   \n",
              "\n",
              "   charge_MEAN  charge_MIN  charge_MAX  charge_RANGE  charge_RATIO  \\\n",
              "0      18.8900        2.70       45.07         42.37      0.059907   \n",
              "1      16.9025        1.70       37.98         36.28      0.044760   \n",
              "2      14.8275        3.54       26.11         22.57      0.135580   \n",
              "3      14.7475        2.19       32.42         30.23      0.067551   \n",
              "4      15.0375        4.19       23.55         19.36      0.177919   \n",
              "\n",
              "   charge_SUM  eve_activity_SD  eve_activity_MEAN  eve_activity_MIN  \\\n",
              "0       75.56        58.138320             57.890             16.78   \n",
              "1       67.61        58.159533             59.875             18.75   \n",
              "2       59.31        35.277557             51.055             26.11   \n",
              "3       58.99        65.372022             64.775             18.55   \n",
              "4       60.15        62.543595             67.775             23.55   \n",
              "\n",
              "   eve_activity_MAX  eve_activity_RANGE  eve_activity_RATIO  eve_activity_SUM  \n",
              "0              99.0               82.22            0.169495            115.78  \n",
              "1             101.0               82.25            0.185644            119.75  \n",
              "2              76.0               49.89            0.343553            102.11  \n",
              "3             111.0               92.45            0.167117            129.55  \n",
              "4             112.0               88.45            0.210268            135.55  "
            ],
            "text/html": [
              "\n",
              "  <div id=\"df-4b4c032b-22d6-4fd9-84f7-a66ec7cf6d39\">\n",
              "    <div class=\"colab-df-container\">\n",
              "      <div>\n",
              "<style scoped>\n",
              "    .dataframe tbody tr th:only-of-type {\n",
              "        vertical-align: middle;\n",
              "    }\n",
              "\n",
              "    .dataframe tbody tr th {\n",
              "        vertical-align: top;\n",
              "    }\n",
              "\n",
              "    .dataframe thead th {\n",
              "        text-align: right;\n",
              "    }\n",
              "</style>\n",
              "<table border=\"1\" class=\"dataframe\">\n",
              "  <thead>\n",
              "    <tr style=\"text-align: right;\">\n",
              "      <th></th>\n",
              "      <th>state</th>\n",
              "      <th>account_length</th>\n",
              "      <th>area_code</th>\n",
              "      <th>international_plan</th>\n",
              "      <th>number_vmail_messages</th>\n",
              "      <th>total_day_calls</th>\n",
              "      <th>total_day_charge</th>\n",
              "      <th>total_eve_calls</th>\n",
              "      <th>total_eve_charge</th>\n",
              "      <th>total_night_calls</th>\n",
              "      <th>total_night_charge</th>\n",
              "      <th>total_intl_calls</th>\n",
              "      <th>total_intl_charge</th>\n",
              "      <th>number_customer_service_calls</th>\n",
              "      <th>churn</th>\n",
              "      <th>charge_SD</th>\n",
              "      <th>charge_MEAN</th>\n",
              "      <th>charge_MIN</th>\n",
              "      <th>charge_MAX</th>\n",
              "      <th>charge_RANGE</th>\n",
              "      <th>charge_RATIO</th>\n",
              "      <th>charge_SUM</th>\n",
              "      <th>eve_activity_SD</th>\n",
              "      <th>eve_activity_MEAN</th>\n",
              "      <th>eve_activity_MIN</th>\n",
              "      <th>eve_activity_MAX</th>\n",
              "      <th>eve_activity_RANGE</th>\n",
              "      <th>eve_activity_RATIO</th>\n",
              "      <th>eve_activity_SUM</th>\n",
              "    </tr>\n",
              "  </thead>\n",
              "  <tbody>\n",
              "    <tr>\n",
              "      <th>0</th>\n",
              "      <td>16</td>\n",
              "      <td>128</td>\n",
              "      <td>1</td>\n",
              "      <td>0</td>\n",
              "      <td>25</td>\n",
              "      <td>110</td>\n",
              "      <td>45.07</td>\n",
              "      <td>99</td>\n",
              "      <td>16.78</td>\n",
              "      <td>91</td>\n",
              "      <td>11.01</td>\n",
              "      <td>3</td>\n",
              "      <td>2.70</td>\n",
              "      <td>1</td>\n",
              "      <td>1</td>\n",
              "      <td>18.385275</td>\n",
              "      <td>18.8900</td>\n",
              "      <td>2.70</td>\n",
              "      <td>45.07</td>\n",
              "      <td>42.37</td>\n",
              "      <td>0.059907</td>\n",
              "      <td>75.56</td>\n",
              "      <td>58.138320</td>\n",
              "      <td>57.890</td>\n",
              "      <td>16.78</td>\n",
              "      <td>99.0</td>\n",
              "      <td>82.22</td>\n",
              "      <td>0.169495</td>\n",
              "      <td>115.78</td>\n",
              "    </tr>\n",
              "    <tr>\n",
              "      <th>1</th>\n",
              "      <td>1</td>\n",
              "      <td>118</td>\n",
              "      <td>2</td>\n",
              "      <td>1</td>\n",
              "      <td>0</td>\n",
              "      <td>98</td>\n",
              "      <td>37.98</td>\n",
              "      <td>101</td>\n",
              "      <td>18.75</td>\n",
              "      <td>118</td>\n",
              "      <td>9.18</td>\n",
              "      <td>6</td>\n",
              "      <td>1.70</td>\n",
              "      <td>0</td>\n",
              "      <td>0</td>\n",
              "      <td>15.688927</td>\n",
              "      <td>16.9025</td>\n",
              "      <td>1.70</td>\n",
              "      <td>37.98</td>\n",
              "      <td>36.28</td>\n",
              "      <td>0.044760</td>\n",
              "      <td>67.61</td>\n",
              "      <td>58.159533</td>\n",
              "      <td>59.875</td>\n",
              "      <td>18.75</td>\n",
              "      <td>101.0</td>\n",
              "      <td>82.25</td>\n",
              "      <td>0.185644</td>\n",
              "      <td>119.75</td>\n",
              "    </tr>\n",
              "    <tr>\n",
              "      <th>2</th>\n",
              "      <td>12</td>\n",
              "      <td>62</td>\n",
              "      <td>1</td>\n",
              "      <td>0</td>\n",
              "      <td>0</td>\n",
              "      <td>70</td>\n",
              "      <td>20.52</td>\n",
              "      <td>76</td>\n",
              "      <td>26.11</td>\n",
              "      <td>99</td>\n",
              "      <td>9.14</td>\n",
              "      <td>6</td>\n",
              "      <td>3.54</td>\n",
              "      <td>4</td>\n",
              "      <td>0</td>\n",
              "      <td>10.319152</td>\n",
              "      <td>14.8275</td>\n",
              "      <td>3.54</td>\n",
              "      <td>26.11</td>\n",
              "      <td>22.57</td>\n",
              "      <td>0.135580</td>\n",
              "      <td>59.31</td>\n",
              "      <td>35.277557</td>\n",
              "      <td>51.055</td>\n",
              "      <td>26.11</td>\n",
              "      <td>76.0</td>\n",
              "      <td>49.89</td>\n",
              "      <td>0.343553</td>\n",
              "      <td>102.11</td>\n",
              "    </tr>\n",
              "    <tr>\n",
              "      <th>3</th>\n",
              "      <td>46</td>\n",
              "      <td>93</td>\n",
              "      <td>2</td>\n",
              "      <td>0</td>\n",
              "      <td>0</td>\n",
              "      <td>114</td>\n",
              "      <td>32.42</td>\n",
              "      <td>111</td>\n",
              "      <td>18.55</td>\n",
              "      <td>121</td>\n",
              "      <td>5.83</td>\n",
              "      <td>3</td>\n",
              "      <td>2.19</td>\n",
              "      <td>3</td>\n",
              "      <td>1</td>\n",
              "      <td>13.711174</td>\n",
              "      <td>14.7475</td>\n",
              "      <td>2.19</td>\n",
              "      <td>32.42</td>\n",
              "      <td>30.23</td>\n",
              "      <td>0.067551</td>\n",
              "      <td>58.99</td>\n",
              "      <td>65.372022</td>\n",
              "      <td>64.775</td>\n",
              "      <td>18.55</td>\n",
              "      <td>111.0</td>\n",
              "      <td>92.45</td>\n",
              "      <td>0.167117</td>\n",
              "      <td>129.55</td>\n",
              "    </tr>\n",
              "    <tr>\n",
              "      <th>4</th>\n",
              "      <td>29</td>\n",
              "      <td>174</td>\n",
              "      <td>1</td>\n",
              "      <td>0</td>\n",
              "      <td>0</td>\n",
              "      <td>76</td>\n",
              "      <td>21.13</td>\n",
              "      <td>112</td>\n",
              "      <td>23.55</td>\n",
              "      <td>115</td>\n",
              "      <td>11.28</td>\n",
              "      <td>5</td>\n",
              "      <td>4.19</td>\n",
              "      <td>3</td>\n",
              "      <td>1</td>\n",
              "      <td>8.969732</td>\n",
              "      <td>15.0375</td>\n",
              "      <td>4.19</td>\n",
              "      <td>23.55</td>\n",
              "      <td>19.36</td>\n",
              "      <td>0.177919</td>\n",
              "      <td>60.15</td>\n",
              "      <td>62.543595</td>\n",
              "      <td>67.775</td>\n",
              "      <td>23.55</td>\n",
              "      <td>112.0</td>\n",
              "      <td>88.45</td>\n",
              "      <td>0.210268</td>\n",
              "      <td>135.55</td>\n",
              "    </tr>\n",
              "  </tbody>\n",
              "</table>\n",
              "</div>\n",
              "      <button class=\"colab-df-convert\" onclick=\"convertToInteractive('df-4b4c032b-22d6-4fd9-84f7-a66ec7cf6d39')\"\n",
              "              title=\"Convert this dataframe to an interactive table.\"\n",
              "              style=\"display:none;\">\n",
              "        \n",
              "  <svg xmlns=\"http://www.w3.org/2000/svg\" height=\"24px\"viewBox=\"0 0 24 24\"\n",
              "       width=\"24px\">\n",
              "    <path d=\"M0 0h24v24H0V0z\" fill=\"none\"/>\n",
              "    <path d=\"M18.56 5.44l.94 2.06.94-2.06 2.06-.94-2.06-.94-.94-2.06-.94 2.06-2.06.94zm-11 1L8.5 8.5l.94-2.06 2.06-.94-2.06-.94L8.5 2.5l-.94 2.06-2.06.94zm10 10l.94 2.06.94-2.06 2.06-.94-2.06-.94-.94-2.06-.94 2.06-2.06.94z\"/><path d=\"M17.41 7.96l-1.37-1.37c-.4-.4-.92-.59-1.43-.59-.52 0-1.04.2-1.43.59L10.3 9.45l-7.72 7.72c-.78.78-.78 2.05 0 2.83L4 21.41c.39.39.9.59 1.41.59.51 0 1.02-.2 1.41-.59l7.78-7.78 2.81-2.81c.8-.78.8-2.07 0-2.86zM5.41 20L4 18.59l7.72-7.72 1.47 1.35L5.41 20z\"/>\n",
              "  </svg>\n",
              "      </button>\n",
              "      \n",
              "  <style>\n",
              "    .colab-df-container {\n",
              "      display:flex;\n",
              "      flex-wrap:wrap;\n",
              "      gap: 12px;\n",
              "    }\n",
              "\n",
              "    .colab-df-convert {\n",
              "      background-color: #E8F0FE;\n",
              "      border: none;\n",
              "      border-radius: 50%;\n",
              "      cursor: pointer;\n",
              "      display: none;\n",
              "      fill: #1967D2;\n",
              "      height: 32px;\n",
              "      padding: 0 0 0 0;\n",
              "      width: 32px;\n",
              "    }\n",
              "\n",
              "    .colab-df-convert:hover {\n",
              "      background-color: #E2EBFA;\n",
              "      box-shadow: 0px 1px 2px rgba(60, 64, 67, 0.3), 0px 1px 3px 1px rgba(60, 64, 67, 0.15);\n",
              "      fill: #174EA6;\n",
              "    }\n",
              "\n",
              "    [theme=dark] .colab-df-convert {\n",
              "      background-color: #3B4455;\n",
              "      fill: #D2E3FC;\n",
              "    }\n",
              "\n",
              "    [theme=dark] .colab-df-convert:hover {\n",
              "      background-color: #434B5C;\n",
              "      box-shadow: 0px 1px 3px 1px rgba(0, 0, 0, 0.15);\n",
              "      filter: drop-shadow(0px 1px 2px rgba(0, 0, 0, 0.3));\n",
              "      fill: #FFFFFF;\n",
              "    }\n",
              "  </style>\n",
              "\n",
              "      <script>\n",
              "        const buttonEl =\n",
              "          document.querySelector('#df-4b4c032b-22d6-4fd9-84f7-a66ec7cf6d39 button.colab-df-convert');\n",
              "        buttonEl.style.display =\n",
              "          google.colab.kernel.accessAllowed ? 'block' : 'none';\n",
              "\n",
              "        async function convertToInteractive(key) {\n",
              "          const element = document.querySelector('#df-4b4c032b-22d6-4fd9-84f7-a66ec7cf6d39');\n",
              "          const dataTable =\n",
              "            await google.colab.kernel.invokeFunction('convertToInteractive',\n",
              "                                                     [key], {});\n",
              "          if (!dataTable) return;\n",
              "\n",
              "          const docLinkHtml = 'Like what you see? Visit the ' +\n",
              "            '<a target=\"_blank\" href=https://colab.research.google.com/notebooks/data_table.ipynb>data table notebook</a>'\n",
              "            + ' to learn more about interactive tables.';\n",
              "          element.innerHTML = '';\n",
              "          dataTable['output_type'] = 'display_data';\n",
              "          await google.colab.output.renderOutput(dataTable, element);\n",
              "          const docLink = document.createElement('div');\n",
              "          docLink.innerHTML = docLinkHtml;\n",
              "          element.appendChild(docLink);\n",
              "        }\n",
              "      </script>\n",
              "    </div>\n",
              "  </div>\n",
              "  "
            ]
          },
          "metadata": {},
          "execution_count": 17
        }
      ],
      "source": [
        "cust_churn1.head()"
      ]
    },
    {
      "cell_type": "markdown",
      "metadata": {
        "id": "Ix7p7D8_ejv0"
      },
      "source": [
        "In the first test split the test_size parameter is set to 0.2, which splits the data into 80% training data and 20% test data. In order to split the 80% training data into training and validation data and ensuring that the validation data is 20% of the size of the original data set the test_size parameter needs to be 0.25 (20% is one quarter, or 0.25, of 80%)."
      ]
    },
    {
      "cell_type": "code",
      "execution_count": null,
      "metadata": {
        "id": "9mqZRMLIhvk1"
      },
      "outputs": [],
      "source": [
        "#Save the predictions to calculate the metrics later\n",
        "preds = pd.DataFrame(index=cust_churn1.index)"
      ]
    },
    {
      "cell_type": "markdown",
      "metadata": {
        "id": "gnn_HMDNYI7S"
      },
      "source": [
        "#Logistic Regression"
      ]
    },
    {
      "cell_type": "code",
      "execution_count": null,
      "metadata": {
        "colab": {
          "base_uri": "https://localhost:8080/"
        },
        "id": "0SLwkbLHXjDV",
        "outputId": "417cc4cb-5085-4fd4-d987-3898a3cac709"
      },
      "outputs": [
        {
          "output_type": "stream",
          "name": "stdout",
          "text": [
            "0.5633001764249577\n",
            "0.5338674135552032\n",
            "0.5649408598828868\n",
            "0.5496014992689003\n",
            "0.5592911423687625\n",
            "Mean AUC of Logistic Regression: 0.5542002183001421\n"
          ]
        }
      ],
      "source": [
        "X = cust_churn1.drop('churn',axis=1)\n",
        "y = cust_churn1['churn']\n",
        "\n",
        "\n",
        "scores = []\n",
        "for train_index, test_index in StratifiedKFold(n_splits=5, shuffle=True, random_state=1).split(X,y):\n",
        "    X_train, X_test = X.values[train_index], X.values[test_index]\n",
        "    y_train, y_test = y.values[train_index], y.values[test_index]\n",
        "\n",
        "    lr.fit(X_train,y_train)\n",
        "    y_preds = lr.predict(X_test)\n",
        "    preds.loc[test_index,'LR'] = y_preds.copy()\n",
        "\n",
        "    scores.append(roc_auc_score(y_test,y_preds))\n",
        "    print(scores[-1])\n",
        "\n",
        "print(f'Mean AUC of Logistic Regression: {np.mean(scores)}')"
      ]
    },
    {
      "cell_type": "markdown",
      "metadata": {
        "id": "wGaXgHJ1YWoM"
      },
      "source": [
        "#DEcision Tree"
      ]
    },
    {
      "cell_type": "code",
      "execution_count": null,
      "metadata": {
        "colab": {
          "base_uri": "https://localhost:8080/"
        },
        "id": "QYa1xqkgYThy",
        "outputId": "0abd3d0e-89df-4f46-9b38-2ed28abca658"
      },
      "outputs": [
        {
          "output_type": "stream",
          "name": "stdout",
          "text": [
            "0.7406278531759924\n",
            "0.7743442414756541\n",
            "0.732153276904806\n",
            "0.7566056387338591\n",
            "0.7511069464752764\n",
            "Mean AUC of Decision Tree: 0.7509675913531176\n"
          ]
        }
      ],
      "source": [
        "X = cust_churn1.drop('churn',axis=1)\n",
        "y = cust_churn1['churn']\n",
        "\n",
        "\n",
        "scores = []\n",
        "for train_index, test_index in StratifiedKFold(n_splits=5, shuffle=True, random_state=1).split(X,y):\n",
        "    X_train, X_test = X.values[train_index], X.values[test_index]\n",
        "    y_train, y_test = y.values[train_index], y.values[test_index]\n",
        "\n",
        "    dt.fit(X_train,y_train)\n",
        "    y_preds = dt.predict(X_test)\n",
        "    preds.loc[test_index,'DT'] = y_preds.copy()\n",
        "\n",
        "    scores.append(roc_auc_score(y_test,y_preds))\n",
        "    print(scores[-1])\n",
        "\n",
        "print(f'Mean AUC of Decision Tree: {np.mean(scores)}')"
      ]
    },
    {
      "cell_type": "markdown",
      "metadata": {
        "id": "6JbrAopvaDGW"
      },
      "source": [
        "#SVM"
      ]
    },
    {
      "cell_type": "code",
      "execution_count": null,
      "metadata": {
        "colab": {
          "base_uri": "https://localhost:8080/"
        },
        "id": "vP_yUvstZ_hA",
        "outputId": "2c17755a-7a5b-496f-c01a-dec7bea26ed9"
      },
      "outputs": [
        {
          "output_type": "stream",
          "name": "stdout",
          "text": [
            "0.5\n",
            "0.5\n",
            "0.5\n",
            "0.5\n",
            "0.5\n",
            "Mean AUC of Support Vector Machine: 0.5\n"
          ]
        }
      ],
      "source": [
        "X = cust_churn1.drop('churn',axis=1)\n",
        "y = cust_churn1['churn']\n",
        "\n",
        "\n",
        "scores = []\n",
        "for train_index, test_index in StratifiedKFold(n_splits=5, shuffle=True, random_state=1).split(X,y):\n",
        "    X_train, X_test = X.values[train_index], X.values[test_index]\n",
        "    y_train, y_test = y.values[train_index], y.values[test_index]\n",
        "\n",
        "    sv.fit(X_train,y_train)\n",
        "    y_preds = sv.predict(X_test)\n",
        "    preds.loc[test_index,'SVM'] = y_preds.copy()\n",
        "\n",
        "    scores.append(roc_auc_score(y_test,y_preds))\n",
        "    print(scores[-1])\n",
        "\n",
        "print(f'Mean AUC of Support Vector Machine: {np.mean(scores)}')"
      ]
    },
    {
      "cell_type": "markdown",
      "metadata": {
        "id": "xPT9-CcQbeAR"
      },
      "source": [
        "#Gradient Boost Clasifier"
      ]
    },
    {
      "cell_type": "code",
      "execution_count": null,
      "metadata": {
        "colab": {
          "base_uri": "https://localhost:8080/"
        },
        "id": "QcdeA16_ZVnh",
        "outputId": "4643d0b2-1e36-412c-d9c2-9cd5ac7e7a87"
      },
      "outputs": [
        {
          "output_type": "stream",
          "name": "stdout",
          "text": [
            "0.7709427408337968\n",
            "0.812920897090018\n",
            "0.7846723095193964\n",
            "0.8046591291334583\n",
            "0.7996169450336719\n",
            "Mean AUC of Gradient Boost 0.7945624043220683\n"
          ]
        }
      ],
      "source": [
        "X = cust_churn1.drop('churn',axis=1)\n",
        "y = cust_churn1['churn']\n",
        "\n",
        "\n",
        "scores = []\n",
        "for train_index, test_index in StratifiedKFold(n_splits=5, shuffle=True, random_state=1).split(X,y):\n",
        "    X_train, X_test = X.values[train_index], X.values[test_index]\n",
        "    y_train, y_test = y.values[train_index], y.values[test_index]\n",
        "\n",
        "    gb.fit(X_train,y_train)\n",
        "    y_preds = gb.predict(X_test)\n",
        "    preds.loc[test_index,'GB'] = y_preds.copy()\n",
        "\n",
        "    scores.append(roc_auc_score(y_test,y_preds))\n",
        "    print(scores[-1])\n",
        "\n",
        "print(f'Mean AUC of Gradient Boost {np.mean(scores)}')"
      ]
    },
    {
      "cell_type": "markdown",
      "metadata": {
        "id": "tGGx1Melcw6F"
      },
      "source": [
        "#catBoost"
      ]
    },
    {
      "cell_type": "code",
      "execution_count": null,
      "metadata": {
        "colab": {
          "base_uri": "https://localhost:8080/"
        },
        "id": "hrrw835GcAp5",
        "outputId": "a2a8c783-6118-442c-c103-a5f43884ebfd"
      },
      "outputs": [
        {
          "output_type": "stream",
          "name": "stdout",
          "text": [
            "0.7681178820767345\n",
            "0.8185706146041422\n",
            "0.7830625175910099\n",
            "0.8074839878905204\n",
            "0.8058741959621339\n",
            "Mean AUC of Catboost: 0.7966218396249081\n"
          ]
        }
      ],
      "source": [
        "X = cust_churn1.drop('churn',axis=1)\n",
        "y = cust_churn1['churn']\n",
        "\n",
        "\n",
        "scores = []\n",
        "for train_index, test_index in StratifiedKFold(n_splits=5, shuffle=True, random_state=1).split(X,y):\n",
        "    X_train, X_test = X.values[train_index], X.values[test_index]\n",
        "    y_train, y_test = y.values[train_index], y.values[test_index]\n",
        "\n",
        "    cb.fit(X_train,y_train)\n",
        "    y_preds = cb.predict(X_test)\n",
        "    preds.loc[test_index,'CB'] = y_preds.copy()\n",
        "\n",
        "    scores.append(roc_auc_score(y_test,y_preds))\n",
        "    print(scores[-1])\n",
        "\n",
        "print(f'Mean AUC of Catboost: {np.mean(scores)}')"
      ]
    },
    {
      "cell_type": "markdown",
      "source": [
        "#metrics measurment"
      ],
      "metadata": {
        "id": "w2uERyqoowH5"
      }
    },
    {
      "cell_type": "code",
      "source": [
        "from sklearn.metrics import roc_auc_score, precision_score, recall_score , f1_score\n",
        "#Metrics for Logistic Regression\n",
        "print('Logistic Regression')\n",
        "print(\"AUC: \",roc_auc_score(y, preds['LR']))\n",
        "print(\"Precision: \",precision_score(y, preds['LR']))\n",
        "print(\"Recall: \",recall_score(y, preds['LR']))\n",
        "print(\"F1 Score: \",f1_score(y, preds['LR']))"
      ],
      "metadata": {
        "colab": {
          "base_uri": "https://localhost:8080/"
        },
        "id": "qoGcsqfVvrtX",
        "outputId": "a8320471-9ecc-49ba-b90c-9538371e242f"
      },
      "execution_count": null,
      "outputs": [
        {
          "output_type": "stream",
          "name": "stdout",
          "text": [
            "Logistic Regression\n",
            "AUC:  0.5542002183001421\n",
            "Precision:  0.5757575757575758\n",
            "Recall:  0.1288135593220339\n",
            "F1 Score:  0.21052631578947367\n"
          ]
        }
      ]
    },
    {
      "cell_type": "code",
      "source": [
        "from sklearn.metrics import roc_auc_score, precision_score, recall_score , f1_score\n",
        "#Metrics for SVM\n",
        "print('SVM')\n",
        "print(\"AUC: \",roc_auc_score(y, preds['SVM']))\n",
        "print(\"Precision: \",precision_score(y, preds['SVM']))\n",
        "print(\"Recall: \",recall_score(y, preds['SVM']))\n",
        "print(\"F1 Score: \",f1_score(y, preds['SVM']))"
      ],
      "metadata": {
        "colab": {
          "base_uri": "https://localhost:8080/"
        },
        "id": "RuYzLElnviF-",
        "outputId": "939335de-ef35-43aa-aa47-05d328bed3b0"
      },
      "execution_count": null,
      "outputs": [
        {
          "output_type": "stream",
          "name": "stdout",
          "text": [
            "SVM\n",
            "AUC:  0.5\n",
            "Precision:  0.0\n",
            "Recall:  0.0\n",
            "F1 Score:  0.0\n"
          ]
        },
        {
          "output_type": "stream",
          "name": "stderr",
          "text": [
            "/usr/local/lib/python3.8/dist-packages/sklearn/metrics/_classification.py:1318: UndefinedMetricWarning: Precision is ill-defined and being set to 0.0 due to no predicted samples. Use `zero_division` parameter to control this behavior.\n",
            "  _warn_prf(average, modifier, msg_start, len(result))\n"
          ]
        }
      ]
    },
    {
      "cell_type": "code",
      "source": [
        "from sklearn.metrics import roc_auc_score, precision_score, recall_score , f1_score\n",
        "#Metrics for Catboost\n",
        "print('Catboost')\n",
        "print(\"AUC: \",roc_auc_score(y, preds['CB']))\n",
        "print(\"Precision: \",precision_score(y, preds['CB']))\n",
        "print(\"Recall: \",recall_score(y, preds['CB']))\n",
        "print(\"F1 Score: \",f1_score(y, preds['CB']))"
      ],
      "metadata": {
        "colab": {
          "base_uri": "https://localhost:8080/"
        },
        "id": "cLBWqXIpvWwB",
        "outputId": "f8f78623-6648-461f-b243-b81cb03248ab"
      },
      "execution_count": null,
      "outputs": [
        {
          "output_type": "stream",
          "name": "stdout",
          "text": [
            "Catboost\n",
            "AUC:  0.7966218396249083\n",
            "Precision:  0.8923841059602649\n",
            "Recall:  0.6090395480225989\n",
            "F1 Score:  0.7239758226997984\n"
          ]
        }
      ]
    },
    {
      "cell_type": "code",
      "source": [
        "from sklearn.metrics import roc_auc_score, precision_score, recall_score , f1_score\n",
        "#Metrics for Decision Tree\n",
        "print('Decision Tree')\n",
        "print(\"AUC: \",roc_auc_score(y, preds['DT']))\n",
        "print(\"Precision: \",precision_score(y, preds['DT']))\n",
        "print(\"Recall: \",recall_score(y, preds['DT']))\n",
        "print(\"F1 Score: \",f1_score(y, preds['DT']))"
      ],
      "metadata": {
        "colab": {
          "base_uri": "https://localhost:8080/"
        },
        "id": "ekreQ21po0Sy",
        "outputId": "84030c4f-7822-446b-836e-605990270deb"
      },
      "execution_count": null,
      "outputs": [
        {
          "output_type": "stream",
          "name": "stdout",
          "text": [
            "Decision Tree\n",
            "AUC:  0.7509675913531176\n",
            "Precision:  0.7234678624813154\n",
            "Recall:  0.5468926553672316\n",
            "F1 Score:  0.6229086229086229\n"
          ]
        }
      ]
    },
    {
      "cell_type": "code",
      "source": [
        "from sklearn.metrics import roc_auc_score, precision_score, recall_score , f1_score\n",
        "#Metrics for Gradient Boost\n",
        "print('Gradient Boost')\n",
        "print(\"AUC: \",roc_auc_score(y, preds['GB']))\n",
        "print(\"Precision: \",precision_score(y, preds['GB']))\n",
        "print(\"Recall: \",recall_score(y, preds['GB']))\n",
        "print(\"F1 Score: \",f1_score(y, preds['GB']))"
      ],
      "metadata": {
        "colab": {
          "base_uri": "https://localhost:8080/"
        },
        "id": "AFO6UfIGpEi9",
        "outputId": "f6d4a01a-a48c-42ab-ba8c-6edb77fb85c0"
      },
      "execution_count": null,
      "outputs": [
        {
          "output_type": "stream",
          "name": "stdout",
          "text": [
            "Gradient Boost\n",
            "AUC:  0.7945624043220683\n",
            "Precision:  0.8874172185430463\n",
            "Recall:  0.6056497175141243\n",
            "F1 Score:  0.7199462726662189\n"
          ]
        }
      ]
    },
    {
      "cell_type": "markdown",
      "source": [
        "`## Show the Features Importances `"
      ],
      "metadata": {
        "id": "rtM8wJghr3U5"
      }
    },
    {
      "cell_type": "code",
      "source": [
        "#Plot the Features Importances\n",
        "def plotImp(model, X , num = 20, fig_size = (40, 20)):\n",
        "    feature_imp = pd.DataFrame({'Value':model.feature_importances_,'Feature':X.columns})\n",
        "    plt.figure(figsize=fig_size)\n",
        "    sns.set(font_scale = 5)\n",
        "    sns.barplot(x=\"Value\", y=\"Feature\", data=feature_imp.sort_values(by=\"Value\",\n",
        "                                                        ascending=False)[0:num])\n",
        "    plt.title('Features (avg over folds)')\n",
        "    plt.tight_layout()\n",
        "    plt.savefig('importances-01.png')\n",
        "    plt.show()\n",
        "    sns.set()"
      ],
      "metadata": {
        "id": "zRlBmoKas_8o"
      },
      "execution_count": null,
      "outputs": []
    },
    {
      "cell_type": "code",
      "source": [
        "plotImp(cb,cust_churn1.drop('churn',axis=1))"
      ],
      "metadata": {
        "id": "6BoXuhIwqw27",
        "colab": {
          "base_uri": "https://localhost:8080/",
          "height": 572
        },
        "outputId": "41af9655-7d6d-497f-8f4a-a4805e683096"
      },
      "execution_count": null,
      "outputs": [
        {
          "output_type": "display_data",
          "data": {
            "text/plain": [
              "<Figure size 2880x1440 with 1 Axes>"
            ],
            "image/png": "[encoded data removed]"
          },
          "metadata": {
            "needs_background": "light"
          }
        }
      ]
    },
    {
      "cell_type": "code",
      "source": [],
      "metadata": {
        "id": "8AXGLbeAsHne"
      },
      "execution_count": null,
      "outputs": []
    },
    {
      "cell_type": "code",
      "source": [
        "from sklearn.metrics import roc_auc_score, precision_score, recall_score , f1_score\n",
        "\n",
        "index_=['Logistic Regression',\n",
        "        'Decision Tree',\n",
        "        'Support Vector Machine',\n",
        "        'CatBoost',\n",
        "        'Gradient Boost']\n",
        "\n",
        "all_models = {'AUC':np.round([roc_auc_score(y, preds['LR']),\n",
        "                                            roc_auc_score(y, preds['DT']),\n",
        "                                            roc_auc_score(y, preds['SVM']),\n",
        "                                            roc_auc_score(y, preds['CB']),\n",
        "                                            roc_auc_score(y, preds['GB']),], 3),\n",
        "              'Precision Score':np.round([precision_score(y, preds['LR']),\n",
        "                                            precision_score(y, preds['DT']),\n",
        "                                            precision_score(y, preds['SVM']),\n",
        "                                            precision_score(y, preds['CB']),\n",
        "                                            precision_score(y, preds['GB']),], 3),\n",
        "              'Recall Score':np.round([recall_score(y, preds['LR']),\n",
        "                                            recall_score(y, preds['DT']),\n",
        "                                            recall_score(y, preds['SVM']),\n",
        "                                            recall_score(y, preds['CB']),\n",
        "                                            recall_score(y, preds['GB']),], 3),\n",
        "              'F1 Score':np.round([f1_score(y, preds['LR']),\n",
        "                                            f1_score(y, preds['DT']),\n",
        "                                            f1_score(y, preds['SVM']),\n",
        "                                            f1_score(y, preds['CB']),\n",
        "                                            f1_score(y, preds['GB']),], 3)\n",
        "}"
      ],
      "metadata": {
        "id": "1njnyMuouInW",
        "colab": {
          "base_uri": "https://localhost:8080/"
        },
        "outputId": "df27fd6a-0b20-409c-bf2f-e33a1b729076"
      },
      "execution_count": null,
      "outputs": [
        {
          "output_type": "stream",
          "name": "stderr",
          "text": [
            "/usr/local/lib/python3.8/dist-packages/sklearn/metrics/_classification.py:1318: UndefinedMetricWarning: Precision is ill-defined and being set to 0.0 due to no predicted samples. Use `zero_division` parameter to control this behavior.\n",
            "  _warn_prf(average, modifier, msg_start, len(result))\n"
          ]
        }
      ]
    },
    {
      "cell_type": "code",
      "source": [
        "final_results_df = pd.DataFrame(data=all_models, index=index_)\n",
        "final_results_df.sort_values(by='AUC', ascending=False)"
      ],
      "metadata": {
        "id": "qgXftJTVsB5n"
      },
      "execution_count": null,
      "outputs": []
    },
    {
      "cell_type": "code",
      "source": [],
      "metadata": {
        "id": "kM4oiLNrsoB4"
      },
      "execution_count": null,
      "outputs": []
    }
  ],
  "metadata": {
    "colab": {
      "provenance": [],
      "include_colab_link": true
    },
    "kernelspec": {
      "display_name": "Python 3",
      "name": "python3"
    },
    "language_info": {
      "name": "python"
    }
  },
  "nbformat": 4,
  "nbformat_minor": 0
}